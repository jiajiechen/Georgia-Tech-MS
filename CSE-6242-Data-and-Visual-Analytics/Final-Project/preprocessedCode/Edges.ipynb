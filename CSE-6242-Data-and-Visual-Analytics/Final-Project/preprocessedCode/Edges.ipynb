{
 "cells": [
  {
   "cell_type": "code",
   "execution_count": 26,
   "metadata": {
    "collapsed": true
   },
   "outputs": [],
   "source": [
    "import pandas as pd\n",
    "import numpy as np\n",
    "import os"
   ]
  },
  {
   "cell_type": "code",
   "execution_count": 27,
   "metadata": {
    "collapsed": true
   },
   "outputs": [],
   "source": [
    "edges = pd.read_csv(\"./data/linkData_new.csv\")\n",
    "edges = edges.groupby(['source','target','status']).agg({'count':np.sum}).reset_index()"
   ]
  },
  {
   "cell_type": "markdown",
   "metadata": {},
   "source": [
    " >  Food: \n",
    "     *  t1, food \n",
    "     *  t7, food+and+cook\n",
    " >  Travel: \n",
    "     *  t6\n",
    " >  Holiday:\n",
    "     *  t2: holiday+weekend+home\n",
    "     *  t4, holiday+xmas+newyear\n",
    "     *  t8, holiday+gift+product\n",
    " >  Tech+HomeDesign:\n",
    "     *  t5, \n",
    " >  SocialNetwork:\n",
    "     *  t10,\n",
    "\n",
    "t3, t9, no meaning\n"
   ]
  },
  {
   "cell_type": "code",
   "execution_count": 34,
   "metadata": {
    "collapsed": false
   },
   "outputs": [
    {
     "name": "stdout",
     "output_type": "stream",
     "text": [
      "Data_Preparation.py      TopicClustering.ipynb    \u001b[34medge_node\u001b[m\u001b[m/\r\n",
      "Edges.ipynb              \u001b[34mTopicKeyWords\u001b[m\u001b[m/           nor_userCluster.csv\r\n",
      "GTMMC.sqlite3            TravelNode.csv           nor_userCluster_new.csv\r\n",
      "HashTag.ipynb            \u001b[34mcode\u001b[m\u001b[m/                    pseudo_node.csv\r\n",
      "\u001b[34mNLP_data\u001b[m\u001b[m/                \u001b[34mdata\u001b[m\u001b[m/                    userClusters.csv\r\n",
      "Node.ipynb               \u001b[34mdocumentation\u001b[m\u001b[m/\r\n"
     ]
    }
   ],
   "source": [
    "ls"
   ]
  },
  {
   "cell_type": "code",
   "execution_count": 35,
   "metadata": {
    "collapsed": false
   },
   "outputs": [],
   "source": [
    "nor_userCluster = pd.read_csv(\"nor_userCluster.csv\")"
   ]
  },
  {
   "cell_type": "code",
   "execution_count": 44,
   "metadata": {
    "collapsed": false
   },
   "outputs": [],
   "source": [
    "## t6\n",
    "influencersTPC = pd.read_csv(\"./Topics/inferencerRank_t6.csv\")\n",
    "travel = nor_userCluster.iloc[:,[0,6]].sort_values(by='t6',axis=0,ascending=False)\n",
    "travelInfluencer = influencersTPC.sort_values(by='t6',axis=0,ascending=False).iloc[:5,:]\n",
    "\n",
    "tmptable = edges[edges.target.isin(travelInfluencer.userID)]\n",
    "tmptable.columns = ['phaseII','phaseI','status','count']\n",
    "tmptable = tmptable.reset_index(drop=True)\n",
    "\n",
    "tmptable2 = edges[edges.source.isin(tmptable.phaseII)]\n",
    "tmptable2.columns = ['phaseIII','phaseII','status','count']\n",
    "tmptable2 = tmptable2.reset_index(drop=True)\n",
    "\n",
    "tmptable['phase'] = 2\n",
    "tmptable2['phase'] = 3\n",
    "tmptable.columns = ['target','source','status','count','phase']\n",
    "tmptable2.columns = ['target','source','status','count','phase']\n",
    "\n",
    "tmptable = tmptable.append(tmptable2)\n",
    "tmptable = tmptable.reset_index(drop=True)\n",
    "\n",
    "travel.columns = ['source','source_score']\n",
    "tmptable = pd.merge(tmptable, travel, on='source',how='left')\n",
    "\n",
    "travel.columns = ['target','target_score']\n",
    "travelEdge = pd.merge(tmptable, travel,\n",
    "         on='target',how='left').sort_values(by=['phase','source_score'],axis=0,ascending=[True,False])\n",
    "\n",
    "travelEdge.to_csv(\"./Topics/t6Edge.csv\",index=False)"
   ]
  },
  {
   "cell_type": "code",
   "execution_count": 45,
   "metadata": {
    "collapsed": false
   },
   "outputs": [],
   "source": [
    "## t1\n",
    "influencersTPC = pd.read_csv(\"./Topics/inferencerRank_t1.csv\")\n",
    "food1 = nor_userCluster.iloc[:,[0,1]].sort_values(by='t1',axis=0,ascending=False)\n",
    "food1Influencer = influencersTPC.sort_values(by='t1',axis=0,ascending=False).iloc[:5,:]\n",
    "\n",
    "tmptable = edges[edges.target.isin(food1Influencer.userID)]\n",
    "tmptable.columns = ['phaseII','phaseI','status','count']\n",
    "tmptable = tmptable.reset_index(drop=True)\n",
    "\n",
    "tmptable2 = edges[edges.source.isin(tmptable.phaseII)]\n",
    "tmptable2.columns = ['phaseIII','phaseII','status','count']\n",
    "tmptable2 = tmptable2.reset_index(drop=True)\n",
    "\n",
    "tmptable['phase'] = 2\n",
    "tmptable2['phase'] = 3\n",
    "tmptable.columns = ['target','source','status','count','phase']\n",
    "tmptable2.columns = ['target','source','status','count','phase']\n",
    "\n",
    "tmptable = tmptable.append(tmptable2)\n",
    "tmptable = tmptable.reset_index(drop=True)\n",
    "\n",
    "food1.columns = ['source','source_score']\n",
    "tmptable = pd.merge(tmptable, food1, on='source',how='left')\n",
    "\n",
    "food1.columns = ['target','target_score']\n",
    "food1Edge = pd.merge(tmptable, food1,\n",
    "         on='target',how='left').sort_values(by=['phase','source_score'],axis=0,ascending=[True,False])\n",
    "\n",
    "food1Edge.to_csv(\"./Topics/t1Edge.csv\",index=False)"
   ]
  },
  {
   "cell_type": "code",
   "execution_count": 46,
   "metadata": {
    "collapsed": true
   },
   "outputs": [],
   "source": [
    "## t2 holiday+weekend+home\n",
    "influencersTPC = pd.read_csv(\"./Topics/inferencerRank_t2.csv\")\n",
    "t2userCluster = nor_userCluster.iloc[:,[0,2]].sort_values(by='t2',axis=0,ascending=False)\n",
    "t2Influencer = influencersTPC.sort_values(by='t2',axis=0,ascending=False).iloc[:5,:]\n",
    "\n",
    "tmptable = edges[edges.target.isin(t2Influencer.userID)]\n",
    "tmptable.columns = ['phaseII','phaseI','status','count']\n",
    "tmptable = tmptable.reset_index(drop=True)\n",
    "\n",
    "tmptable2 = edges[edges.source.isin(tmptable.phaseII)]\n",
    "tmptable2.columns = ['phaseIII','phaseII','status','count']\n",
    "tmptable2 = tmptable2.reset_index(drop=True)\n",
    "\n",
    "tmptable['phase'] = 2\n",
    "tmptable2['phase'] = 3\n",
    "tmptable.columns = ['target','source','status','count','phase']\n",
    "tmptable2.columns = ['target','source','status','count','phase']\n",
    "\n",
    "tmptable = tmptable.append(tmptable2)\n",
    "tmptable = tmptable.reset_index(drop=True)\n",
    "\n",
    "t2userCluster.columns = ['source','source_score']\n",
    "tmptable = pd.merge(tmptable, t2userCluster, on='source',how='left')\n",
    "\n",
    "t2userCluster.columns = ['target','target_score']\n",
    "t2Edge = pd.merge(tmptable, t2userCluster,\n",
    "         on='target',how='left').sort_values(by=['phase','source_score'],axis=0,ascending=[True,False])\n",
    "\n",
    "# t2Edge\n",
    "t2Edge.to_csv(\"./Topics/t2Edge.csv\",index=False)"
   ]
  },
  {
   "cell_type": "code",
   "execution_count": 47,
   "metadata": {
    "collapsed": true
   },
   "outputs": [],
   "source": [
    "## t4 holiday+xmas+newyear\n",
    "influencersTPC = pd.read_csv(\"./Topics/inferencerRank_t4.csv\")\n",
    "t4userCluster = nor_userCluster.iloc[:,[0,4]].sort_values(by='t4',axis=0,ascending=False)\n",
    "t4Influencer = influencersTPC.sort_values(by='t4',axis=0,ascending=False).iloc[:5,:]\n",
    "\n",
    "tmptable = edges[edges.target.isin(t4Influencer.userID)]\n",
    "tmptable.columns = ['phaseII','phaseI','status','count']\n",
    "tmptable = tmptable.reset_index(drop=True)\n",
    "\n",
    "tmptable2 = edges[edges.source.isin(tmptable.phaseII)]\n",
    "tmptable2.columns = ['phaseIII','phaseII','status','count']\n",
    "tmptable2 = tmptable2.reset_index(drop=True)\n",
    "\n",
    "tmptable['phase'] = 2\n",
    "tmptable2['phase'] = 3\n",
    "tmptable.columns = ['target','source','status','count','phase']\n",
    "tmptable2.columns = ['target','source','status','count','phase']\n",
    "\n",
    "tmptable = tmptable.append(tmptable2)\n",
    "tmptable = tmptable.reset_index(drop=True)\n",
    "\n",
    "t4userCluster.columns = ['source','source_score']\n",
    "tmptable = pd.merge(tmptable, t4userCluster, on='source',how='left')\n",
    "\n",
    "t4userCluster.columns = ['target','target_score']\n",
    "t4Edge = pd.merge(tmptable, t4userCluster,\n",
    "         on='target',how='left').sort_values(by=['phase','source_score'],axis=0,ascending=[True,False])\n",
    "\n",
    "t4Edge.to_csv(\"./Topics/t4Edge.csv\",index=False)"
   ]
  },
  {
   "cell_type": "code",
   "execution_count": 48,
   "metadata": {
    "collapsed": true
   },
   "outputs": [],
   "source": [
    "## t8 holiday+gift+product\n",
    "influencersTPC = pd.read_csv(\"./Topics/inferencerRank_t8.csv\")\n",
    "t8userCluster = nor_userCluster.iloc[:,[0,8]].sort_values(by='t8',axis=0,ascending=False)\n",
    "t8Influencer = influencersTPC.sort_values(by='t8',axis=0,ascending=False).iloc[:5,:]\n",
    "\n",
    "tmptable = edges[edges.target.isin(t8Influencer.userID)]\n",
    "tmptable.columns = ['phaseII','phaseI','status','count']\n",
    "tmptable = tmptable.reset_index(drop=True)\n",
    "\n",
    "tmptable2 = edges[edges.source.isin(tmptable.phaseII)]\n",
    "tmptable2.columns = ['phaseIII','phaseII','status','count']\n",
    "tmptable2 = tmptable2.reset_index(drop=True)\n",
    "\n",
    "tmptable['phase'] = 2\n",
    "tmptable2['phase'] = 3\n",
    "tmptable.columns = ['target','source','status','count','phase']\n",
    "tmptable2.columns = ['target','source','status','count','phase']\n",
    "\n",
    "tmptable = tmptable.append(tmptable2)\n",
    "tmptable = tmptable.reset_index(drop=True)\n",
    "\n",
    "t8userCluster.columns = ['source','source_score']\n",
    "tmptable = pd.merge(tmptable, t8userCluster, on='source',how='left')\n",
    "\n",
    "t8userCluster.columns = ['target','target_score']\n",
    "t8Edge = pd.merge(tmptable, t8userCluster,\n",
    "         on='target',how='left').sort_values(by=['phase','source_score'],axis=0,ascending=[True,False])\n",
    "\n",
    "t8Edge.to_csv(\"./Topics/t8Edge.csv\",index=False)"
   ]
  },
  {
   "cell_type": "code",
   "execution_count": 49,
   "metadata": {
    "collapsed": false
   },
   "outputs": [],
   "source": [
    "## t5 Tech+HomeDesign\n",
    "influencersTPC = pd.read_csv(\"./Topics/inferencerRank_t5.csv\")\n",
    "t5userCluster = nor_userCluster.iloc[:,[0,5]].sort_values(by='t5',axis=0,ascending=False)\n",
    "t5Influencer = influencersTPC.sort_values(by='t5',axis=0,ascending=False).iloc[:5,:]\n",
    "\n",
    "tmptable = edges[edges.target.isin(t5Influencer.userID)]\n",
    "tmptable.columns = ['phaseII','phaseI','status','count']\n",
    "tmptable = tmptable.reset_index(drop=True)\n",
    "\n",
    "tmptable2 = edges[edges.source.isin(tmptable.phaseII)]\n",
    "tmptable2.columns = ['phaseIII','phaseII','status','count']\n",
    "tmptable2 = tmptable2.reset_index(drop=True)\n",
    "\n",
    "tmptable['phase'] = 2\n",
    "tmptable2['phase'] = 3\n",
    "tmptable.columns = ['target','source','status','count','phase']\n",
    "tmptable2.columns = ['target','source','status','count','phase']\n",
    "\n",
    "tmptable = tmptable.append(tmptable2)\n",
    "tmptable = tmptable.reset_index(drop=True)\n",
    "\n",
    "t5userCluster.columns = ['source','source_score']\n",
    "tmptable = pd.merge(tmptable, t5userCluster, on='source',how='left')\n",
    "\n",
    "t5userCluster.columns = ['target','target_score']\n",
    "t5Edge = pd.merge(tmptable, t5userCluster,\n",
    "         on='target',how='left').sort_values(by=['phase','source_score'],axis=0,ascending=[True,False])\n",
    "\n",
    "t5Edge.to_csv(\"./Topics/t5Edge.csv\",index=False)"
   ]
  },
  {
   "cell_type": "code",
   "execution_count": 50,
   "metadata": {
    "collapsed": true
   },
   "outputs": [],
   "source": [
    "## t7, food+and+cook\n",
    "influencersTPC = pd.read_csv(\"./Topics/inferencerRank_t7.csv\")\n",
    "t7userCluster = nor_userCluster.iloc[:,[0,7]].sort_values(by='t7',axis=0,ascending=False)\n",
    "t7Influencer = influencersTPC.sort_values(by='t7',axis=0,ascending=False).iloc[:5,:]\n",
    "\n",
    "tmptable = edges[edges.target.isin(t7Influencer.userID)]\n",
    "tmptable.columns = ['phaseII','phaseI','status','count']\n",
    "tmptable = tmptable.reset_index(drop=True)\n",
    "\n",
    "tmptable2 = edges[edges.source.isin(tmptable.phaseII)]\n",
    "tmptable2.columns = ['phaseIII','phaseII','status','count']\n",
    "tmptable2 = tmptable2.reset_index(drop=True)\n",
    "\n",
    "tmptable['phase'] = 2\n",
    "tmptable2['phase'] = 3\n",
    "tmptable.columns = ['target','source','status','count','phase']\n",
    "tmptable2.columns = ['target','source','status','count','phase']\n",
    "\n",
    "tmptable = tmptable.append(tmptable2)\n",
    "tmptable = tmptable.reset_index(drop=True)\n",
    "\n",
    "t7userCluster.columns = ['source','source_score']\n",
    "tmptable = pd.merge(tmptable, t7userCluster, on='source',how='left')\n",
    "\n",
    "t7userCluster.columns = ['target','target_score']\n",
    "t7Edge = pd.merge(tmptable, t7userCluster,\n",
    "         on='target',how='left').sort_values(by=['phase','source_score'],axis=0,ascending=[True,False])\n",
    "\n",
    "t7Edge.to_csv(\"./Topics/t7Edge.csv\",index=False)"
   ]
  },
  {
   "cell_type": "code",
   "execution_count": 51,
   "metadata": {
    "collapsed": true
   },
   "outputs": [],
   "source": [
    "## t10, SocialNetwork\n",
    "influencersTPC = pd.read_csv(\"./Topics/inferencerRank_t10.csv\")\n",
    "t10userCluster = nor_userCluster.iloc[:,[0,10]].sort_values(by='t10',axis=0,ascending=False)\n",
    "t10Influencer = influencersTPC.sort_values(by='t10',axis=0,ascending=False).iloc[:5,:]\n",
    "\n",
    "tmptable = edges[edges.target.isin(t10Influencer.userID)]\n",
    "tmptable.columns = ['phaseII','phaseI','status','count']\n",
    "tmptable = tmptable.reset_index(drop=True)\n",
    "\n",
    "tmptable2 = edges[edges.source.isin(tmptable.phaseII)]\n",
    "tmptable2.columns = ['phaseIII','phaseII','status','count']\n",
    "tmptable2 = tmptable2.reset_index(drop=True)\n",
    "\n",
    "tmptable['phase'] = 2\n",
    "tmptable2['phase'] = 3\n",
    "tmptable.columns = ['target','source','status','count','phase']\n",
    "tmptable2.columns = ['target','source','status','count','phase']\n",
    "\n",
    "tmptable = tmptable.append(tmptable2)\n",
    "tmptable = tmptable.reset_index(drop=True)\n",
    "\n",
    "t10userCluster.columns = ['source','source_score']\n",
    "tmptable = pd.merge(tmptable, t10userCluster, on='source',how='left')\n",
    "\n",
    "t10userCluster.columns = ['target','target_score']\n",
    "t10Edge = pd.merge(tmptable, t10userCluster,\n",
    "         on='target',how='left').sort_values(by=['phase','source_score'],axis=0,ascending=[True,False])\n",
    "\n",
    "t10Edge.to_csv(\"./Topics/t10Edge.csv\",index=False)"
   ]
  },
  {
   "cell_type": "code",
   "execution_count": null,
   "metadata": {
    "collapsed": true
   },
   "outputs": [],
   "source": []
  },
  {
   "cell_type": "code",
   "execution_count": 56,
   "metadata": {
    "collapsed": false
   },
   "outputs": [],
   "source": [
    "edge = pd.read_csv(\"./Topics/t4Edge.csv\")"
   ]
  },
  {
   "cell_type": "code",
   "execution_count": 70,
   "metadata": {
    "collapsed": false
   },
   "outputs": [],
   "source": [
    "node = pd.read_csv(\"./Topics/_t4_Node1.csv\")\n",
    "\n",
    "tmp = pd.merge(edge,node,how='left',left_on='target',right_on='userID').drop(['userID','score'],axis=1)\n",
    "tmp = tmp.rename(columns={'PhaseI':'tp1', 'PhaseII':'tp2', 'PhaseIII':'tp3', 'favTopic':'favTopic_target'})\n",
    "\n",
    "final = pd.merge(tmp,node,how='left',left_on='source',right_on='userID').drop(['userID','score'],axis=1)\n",
    "final = final.rename(columns={'PhaseI':'sp1', 'PhaseII':'sp2', 'PhaseIII':'sp3', 'favTopic':'favTopic_source'})\n",
    "\n",
    "final.to_csv(\"_t4Edge1.csv\",index=None)"
   ]
  },
  {
   "cell_type": "code",
   "execution_count": 75,
   "metadata": {
    "collapsed": false
   },
   "outputs": [],
   "source": [
    "node = pd.read_csv(\"./Topics/_t4_Node2.csv\")#<<\n",
    "\n",
    "tmp = pd.merge(edge,node,how='left',left_on='target',right_on='userID').drop(['userID','score'],axis=1)\n",
    "tmp = tmp.rename(columns={'PhaseI':'tp1', 'PhaseII':'tp2', 'PhaseIII':'tp3', 'favTopic':'favTopic_target'})\n",
    "\n",
    "final = pd.merge(tmp,node,how='left',left_on='source',right_on='userID').drop(['userID','score'],axis=1)\n",
    "final = final.rename(columns={'PhaseI':'sp1', 'PhaseII':'sp2', 'PhaseIII':'sp3', 'favTopic':'favTopic_source'})\n",
    "\n",
    "final.to_csv(\"_t4Edge2.csv\",index=None)#<<"
   ]
  },
  {
   "cell_type": "code",
   "execution_count": 76,
   "metadata": {
    "collapsed": false
   },
   "outputs": [],
   "source": [
    "node = pd.read_csv(\"./Topics/_t4_Node3.csv\")#<<\n",
    "\n",
    "tmp = pd.merge(edge,node,how='left',left_on='target',right_on='userID').drop(['userID','score'],axis=1)\n",
    "tmp = tmp.rename(columns={'PhaseI':'tp1', 'PhaseII':'tp2', 'PhaseIII':'tp3', 'favTopic':'favTopic_target'})\n",
    "\n",
    "final = pd.merge(tmp,node,how='left',left_on='source',right_on='userID').drop(['userID','score'],axis=1)\n",
    "final = final.rename(columns={'PhaseI':'sp1', 'PhaseII':'sp2', 'PhaseIII':'sp3', 'favTopic':'favTopic_source'})\n",
    "\n",
    "final.to_csv(\"_t4Edge3.csv\",index=None)#<<"
   ]
  },
  {
   "cell_type": "code",
   "execution_count": 77,
   "metadata": {
    "collapsed": true
   },
   "outputs": [],
   "source": [
    "node = pd.read_csv(\"./Topics/_t4_Node4.csv\")#<<\n",
    "\n",
    "tmp = pd.merge(edge,node,how='left',left_on='target',right_on='userID').drop(['userID','score'],axis=1)\n",
    "tmp = tmp.rename(columns={'PhaseI':'tp1', 'PhaseII':'tp2', 'PhaseIII':'tp3', 'favTopic':'favTopic_target'})\n",
    "\n",
    "final = pd.merge(tmp,node,how='left',left_on='source',right_on='userID').drop(['userID','score'],axis=1)\n",
    "final = final.rename(columns={'PhaseI':'sp1', 'PhaseII':'sp2', 'PhaseIII':'sp3', 'favTopic':'favTopic_source'})\n",
    "\n",
    "final.to_csv(\"_t4Edge4.csv\",index=None)#<<"
   ]
  },
  {
   "cell_type": "code",
   "execution_count": 78,
   "metadata": {
    "collapsed": true
   },
   "outputs": [],
   "source": [
    "node = pd.read_csv(\"./Topics/_t4_Node5.csv\")#<<\n",
    "\n",
    "tmp = pd.merge(edge,node,how='left',left_on='target',right_on='userID').drop(['userID','score'],axis=1)\n",
    "tmp = tmp.rename(columns={'PhaseI':'tp1', 'PhaseII':'tp2', 'PhaseIII':'tp3', 'favTopic':'favTopic_target'})\n",
    "\n",
    "final = pd.merge(tmp,node,how='left',left_on='source',right_on='userID').drop(['userID','score'],axis=1)\n",
    "final = final.rename(columns={'PhaseI':'sp1', 'PhaseII':'sp2', 'PhaseIII':'sp3', 'favTopic':'favTopic_source'})\n",
    "\n",
    "final.to_csv(\"_t4Edge5.csv\",index=None)#<<"
   ]
  },
  {
   "cell_type": "code",
   "execution_count": null,
   "metadata": {
    "collapsed": true
   },
   "outputs": [],
   "source": []
  },
  {
   "cell_type": "code",
   "execution_count": 79,
   "metadata": {
    "collapsed": true
   },
   "outputs": [],
   "source": [
    "edge = pd.read_csv(\"./Topics/t5Edge.csv\")"
   ]
  },
  {
   "cell_type": "code",
   "execution_count": 80,
   "metadata": {
    "collapsed": true
   },
   "outputs": [],
   "source": [
    "node = pd.read_csv(\"./Topics/_t5_Node1.csv\") #<<\n",
    "\n",
    "tmp = pd.merge(edge,node,how='left',left_on='target',right_on='userID').drop(['userID','score'],axis=1)\n",
    "tmp = tmp.rename(columns={'PhaseI':'tp1', 'PhaseII':'tp2', 'PhaseIII':'tp3', 'favTopic':'favTopic_target'})\n",
    "\n",
    "final = pd.merge(tmp,node,how='left',left_on='source',right_on='userID').drop(['userID','score'],axis=1)\n",
    "final = final.rename(columns={'PhaseI':'sp1', 'PhaseII':'sp2', 'PhaseIII':'sp3', 'favTopic':'favTopic_source'})\n",
    "\n",
    "final.to_csv(\"_t5Edge1.csv\",index=None) #<<"
   ]
  },
  {
   "cell_type": "code",
   "execution_count": 81,
   "metadata": {
    "collapsed": true
   },
   "outputs": [],
   "source": [
    "node = pd.read_csv(\"./Topics/_t5_Node2.csv\") #<<\n",
    "\n",
    "tmp = pd.merge(edge,node,how='left',left_on='target',right_on='userID').drop(['userID','score'],axis=1)\n",
    "tmp = tmp.rename(columns={'PhaseI':'tp1', 'PhaseII':'tp2', 'PhaseIII':'tp3', 'favTopic':'favTopic_target'})\n",
    "\n",
    "final = pd.merge(tmp,node,how='left',left_on='source',right_on='userID').drop(['userID','score'],axis=1)\n",
    "final = final.rename(columns={'PhaseI':'sp1', 'PhaseII':'sp2', 'PhaseIII':'sp3', 'favTopic':'favTopic_source'})\n",
    "\n",
    "final.to_csv(\"_t5Edge2.csv\",index=None) #<<"
   ]
  },
  {
   "cell_type": "code",
   "execution_count": 82,
   "metadata": {
    "collapsed": true
   },
   "outputs": [],
   "source": [
    "node = pd.read_csv(\"./Topics/_t5_Node3.csv\") #<<\n",
    "\n",
    "tmp = pd.merge(edge,node,how='left',left_on='target',right_on='userID').drop(['userID','score'],axis=1)\n",
    "tmp = tmp.rename(columns={'PhaseI':'tp1', 'PhaseII':'tp2', 'PhaseIII':'tp3', 'favTopic':'favTopic_target'})\n",
    "\n",
    "final = pd.merge(tmp,node,how='left',left_on='source',right_on='userID').drop(['userID','score'],axis=1)\n",
    "final = final.rename(columns={'PhaseI':'sp1', 'PhaseII':'sp2', 'PhaseIII':'sp3', 'favTopic':'favTopic_source'})\n",
    "\n",
    "final.to_csv(\"_t5Edge3.csv\",index=None) #<<"
   ]
  },
  {
   "cell_type": "code",
   "execution_count": 83,
   "metadata": {
    "collapsed": true
   },
   "outputs": [],
   "source": [
    "node = pd.read_csv(\"./Topics/_t5_Node4.csv\") #<<\n",
    "\n",
    "tmp = pd.merge(edge,node,how='left',left_on='target',right_on='userID').drop(['userID','score'],axis=1)\n",
    "tmp = tmp.rename(columns={'PhaseI':'tp1', 'PhaseII':'tp2', 'PhaseIII':'tp3', 'favTopic':'favTopic_target'})\n",
    "\n",
    "final = pd.merge(tmp,node,how='left',left_on='source',right_on='userID').drop(['userID','score'],axis=1)\n",
    "final = final.rename(columns={'PhaseI':'sp1', 'PhaseII':'sp2', 'PhaseIII':'sp3', 'favTopic':'favTopic_source'})\n",
    "\n",
    "final.to_csv(\"_t5Edge4.csv\",index=None) #<<"
   ]
  },
  {
   "cell_type": "code",
   "execution_count": 84,
   "metadata": {
    "collapsed": true
   },
   "outputs": [],
   "source": [
    "node = pd.read_csv(\"./Topics/_t5_Node5.csv\") #<<\n",
    "\n",
    "tmp = pd.merge(edge,node,how='left',left_on='target',right_on='userID').drop(['userID','score'],axis=1)\n",
    "tmp = tmp.rename(columns={'PhaseI':'tp1', 'PhaseII':'tp2', 'PhaseIII':'tp3', 'favTopic':'favTopic_target'})\n",
    "\n",
    "final = pd.merge(tmp,node,how='left',left_on='source',right_on='userID').drop(['userID','score'],axis=1)\n",
    "final = final.rename(columns={'PhaseI':'sp1', 'PhaseII':'sp2', 'PhaseIII':'sp3', 'favTopic':'favTopic_source'})\n",
    "\n",
    "final.to_csv(\"_t5Edge5.csv\",index=None) #<<"
   ]
  },
  {
   "cell_type": "code",
   "execution_count": null,
   "metadata": {
    "collapsed": true
   },
   "outputs": [],
   "source": []
  },
  {
   "cell_type": "code",
   "execution_count": 85,
   "metadata": {
    "collapsed": true
   },
   "outputs": [],
   "source": [
    "edge = pd.read_csv(\"./Topics/t6Edge.csv\")"
   ]
  },
  {
   "cell_type": "code",
   "execution_count": 86,
   "metadata": {
    "collapsed": true
   },
   "outputs": [],
   "source": [
    "node = pd.read_csv(\"./Topics/_t6_Node1.csv\") #<<\n",
    "\n",
    "tmp = pd.merge(edge,node,how='left',left_on='target',right_on='userID').drop(['userID','score'],axis=1)\n",
    "tmp = tmp.rename(columns={'PhaseI':'tp1', 'PhaseII':'tp2', 'PhaseIII':'tp3', 'favTopic':'favTopic_target'})\n",
    "\n",
    "final = pd.merge(tmp,node,how='left',left_on='source',right_on='userID').drop(['userID','score'],axis=1)\n",
    "final = final.rename(columns={'PhaseI':'sp1', 'PhaseII':'sp2', 'PhaseIII':'sp3', 'favTopic':'favTopic_source'})\n",
    "\n",
    "final.to_csv(\"_t6Edge1.csv\",index=None) #<<"
   ]
  },
  {
   "cell_type": "code",
   "execution_count": 87,
   "metadata": {
    "collapsed": true
   },
   "outputs": [],
   "source": [
    "node = pd.read_csv(\"./Topics/_t6_Node2.csv\") #<<\n",
    "\n",
    "tmp = pd.merge(edge,node,how='left',left_on='target',right_on='userID').drop(['userID','score'],axis=1)\n",
    "tmp = tmp.rename(columns={'PhaseI':'tp1', 'PhaseII':'tp2', 'PhaseIII':'tp3', 'favTopic':'favTopic_target'})\n",
    "\n",
    "final = pd.merge(tmp,node,how='left',left_on='source',right_on='userID').drop(['userID','score'],axis=1)\n",
    "final = final.rename(columns={'PhaseI':'sp1', 'PhaseII':'sp2', 'PhaseIII':'sp3', 'favTopic':'favTopic_source'})\n",
    "\n",
    "final.to_csv(\"_t6Edge2.csv\",index=None) #<<"
   ]
  },
  {
   "cell_type": "code",
   "execution_count": 88,
   "metadata": {
    "collapsed": true
   },
   "outputs": [],
   "source": [
    "node = pd.read_csv(\"./Topics/_t6_Node3.csv\") #<<\n",
    "\n",
    "tmp = pd.merge(edge,node,how='left',left_on='target',right_on='userID').drop(['userID','score'],axis=1)\n",
    "tmp = tmp.rename(columns={'PhaseI':'tp1', 'PhaseII':'tp2', 'PhaseIII':'tp3', 'favTopic':'favTopic_target'})\n",
    "\n",
    "final = pd.merge(tmp,node,how='left',left_on='source',right_on='userID').drop(['userID','score'],axis=1)\n",
    "final = final.rename(columns={'PhaseI':'sp1', 'PhaseII':'sp2', 'PhaseIII':'sp3', 'favTopic':'favTopic_source'})\n",
    "\n",
    "final.to_csv(\"_t6Edge3.csv\",index=None) #<<"
   ]
  },
  {
   "cell_type": "code",
   "execution_count": 89,
   "metadata": {
    "collapsed": true
   },
   "outputs": [],
   "source": [
    "node = pd.read_csv(\"./Topics/_t6_Node4.csv\") #<<\n",
    "\n",
    "tmp = pd.merge(edge,node,how='left',left_on='target',right_on='userID').drop(['userID','score'],axis=1)\n",
    "tmp = tmp.rename(columns={'PhaseI':'tp1', 'PhaseII':'tp2', 'PhaseIII':'tp3', 'favTopic':'favTopic_target'})\n",
    "\n",
    "final = pd.merge(tmp,node,how='left',left_on='source',right_on='userID').drop(['userID','score'],axis=1)\n",
    "final = final.rename(columns={'PhaseI':'sp1', 'PhaseII':'sp2', 'PhaseIII':'sp3', 'favTopic':'favTopic_source'})\n",
    "\n",
    "final.to_csv(\"_t6Edge4.csv\",index=None) #<<"
   ]
  },
  {
   "cell_type": "code",
   "execution_count": 90,
   "metadata": {
    "collapsed": true
   },
   "outputs": [],
   "source": [
    "node = pd.read_csv(\"./Topics/_t6_Node5.csv\") #<<\n",
    "\n",
    "tmp = pd.merge(edge,node,how='left',left_on='target',right_on='userID').drop(['userID','score'],axis=1)\n",
    "tmp = tmp.rename(columns={'PhaseI':'tp1', 'PhaseII':'tp2', 'PhaseIII':'tp3', 'favTopic':'favTopic_target'})\n",
    "\n",
    "final = pd.merge(tmp,node,how='left',left_on='source',right_on='userID').drop(['userID','score'],axis=1)\n",
    "final = final.rename(columns={'PhaseI':'sp1', 'PhaseII':'sp2', 'PhaseIII':'sp3', 'favTopic':'favTopic_source'})\n",
    "\n",
    "final.to_csv(\"_t6Edge5.csv\",index=None) #<<"
   ]
  },
  {
   "cell_type": "code",
   "execution_count": null,
   "metadata": {
    "collapsed": true
   },
   "outputs": [],
   "source": []
  },
  {
   "cell_type": "code",
   "execution_count": 91,
   "metadata": {
    "collapsed": true
   },
   "outputs": [],
   "source": [
    "edge = pd.read_csv(\"./Topics/t7Edge.csv\")"
   ]
  },
  {
   "cell_type": "code",
   "execution_count": 92,
   "metadata": {
    "collapsed": true
   },
   "outputs": [],
   "source": [
    "node = pd.read_csv(\"./Topics/_t7_Node1.csv\") #<<\n",
    "\n",
    "tmp = pd.merge(edge,node,how='left',left_on='target',right_on='userID').drop(['userID','score'],axis=1)\n",
    "tmp = tmp.rename(columns={'PhaseI':'tp1', 'PhaseII':'tp2', 'PhaseIII':'tp3', 'favTopic':'favTopic_target'})\n",
    "\n",
    "final = pd.merge(tmp,node,how='left',left_on='source',right_on='userID').drop(['userID','score'],axis=1)\n",
    "final = final.rename(columns={'PhaseI':'sp1', 'PhaseII':'sp2', 'PhaseIII':'sp3', 'favTopic':'favTopic_source'})\n",
    "\n",
    "final.to_csv(\"_t7Edge1.csv\",index=None) #<<"
   ]
  },
  {
   "cell_type": "code",
   "execution_count": 93,
   "metadata": {
    "collapsed": true
   },
   "outputs": [],
   "source": [
    "node = pd.read_csv(\"./Topics/_t7_Node2.csv\") #<<\n",
    "\n",
    "tmp = pd.merge(edge,node,how='left',left_on='target',right_on='userID').drop(['userID','score'],axis=1)\n",
    "tmp = tmp.rename(columns={'PhaseI':'tp1', 'PhaseII':'tp2', 'PhaseIII':'tp3', 'favTopic':'favTopic_target'})\n",
    "\n",
    "final = pd.merge(tmp,node,how='left',left_on='source',right_on='userID').drop(['userID','score'],axis=1)\n",
    "final = final.rename(columns={'PhaseI':'sp1', 'PhaseII':'sp2', 'PhaseIII':'sp3', 'favTopic':'favTopic_source'})\n",
    "\n",
    "final.to_csv(\"_t7Edge2.csv\",index=None) #<<"
   ]
  },
  {
   "cell_type": "code",
   "execution_count": 94,
   "metadata": {
    "collapsed": true
   },
   "outputs": [],
   "source": [
    "node = pd.read_csv(\"./Topics/_t7_Node3.csv\") #<<\n",
    "\n",
    "tmp = pd.merge(edge,node,how='left',left_on='target',right_on='userID').drop(['userID','score'],axis=1)\n",
    "tmp = tmp.rename(columns={'PhaseI':'tp1', 'PhaseII':'tp2', 'PhaseIII':'tp3', 'favTopic':'favTopic_target'})\n",
    "\n",
    "final = pd.merge(tmp,node,how='left',left_on='source',right_on='userID').drop(['userID','score'],axis=1)\n",
    "final = final.rename(columns={'PhaseI':'sp1', 'PhaseII':'sp2', 'PhaseIII':'sp3', 'favTopic':'favTopic_source'})\n",
    "\n",
    "final.to_csv(\"_t7Edge3.csv\",index=None) #<<"
   ]
  },
  {
   "cell_type": "code",
   "execution_count": 95,
   "metadata": {
    "collapsed": true
   },
   "outputs": [],
   "source": [
    "node = pd.read_csv(\"./Topics/_t7_Node4.csv\") #<<\n",
    "\n",
    "tmp = pd.merge(edge,node,how='left',left_on='target',right_on='userID').drop(['userID','score'],axis=1)\n",
    "tmp = tmp.rename(columns={'PhaseI':'tp1', 'PhaseII':'tp2', 'PhaseIII':'tp3', 'favTopic':'favTopic_target'})\n",
    "\n",
    "final = pd.merge(tmp,node,how='left',left_on='source',right_on='userID').drop(['userID','score'],axis=1)\n",
    "final = final.rename(columns={'PhaseI':'sp1', 'PhaseII':'sp2', 'PhaseIII':'sp3', 'favTopic':'favTopic_source'})\n",
    "\n",
    "final.to_csv(\"_t7Edge4.csv\",index=None) #<<"
   ]
  },
  {
   "cell_type": "code",
   "execution_count": 96,
   "metadata": {
    "collapsed": true
   },
   "outputs": [],
   "source": [
    "node = pd.read_csv(\"./Topics/_t7_Node5.csv\") #<<\n",
    "\n",
    "tmp = pd.merge(edge,node,how='left',left_on='target',right_on='userID').drop(['userID','score'],axis=1)\n",
    "tmp = tmp.rename(columns={'PhaseI':'tp1', 'PhaseII':'tp2', 'PhaseIII':'tp3', 'favTopic':'favTopic_target'})\n",
    "\n",
    "final = pd.merge(tmp,node,how='left',left_on='source',right_on='userID').drop(['userID','score'],axis=1)\n",
    "final = final.rename(columns={'PhaseI':'sp1', 'PhaseII':'sp2', 'PhaseIII':'sp3', 'favTopic':'favTopic_source'})\n",
    "\n",
    "final.to_csv(\"_t7Edge5.csv\",index=None) #<<"
   ]
  },
  {
   "cell_type": "code",
   "execution_count": null,
   "metadata": {
    "collapsed": true
   },
   "outputs": [],
   "source": []
  },
  {
   "cell_type": "code",
   "execution_count": 97,
   "metadata": {
    "collapsed": true
   },
   "outputs": [],
   "source": [
    "edge = pd.read_csv(\"./Topics/t10Edge.csv\")"
   ]
  },
  {
   "cell_type": "code",
   "execution_count": 98,
   "metadata": {
    "collapsed": true
   },
   "outputs": [],
   "source": [
    "node = pd.read_csv(\"./Topics/_t10_Node1.csv\") #<<\n",
    "\n",
    "tmp = pd.merge(edge,node,how='left',left_on='target',right_on='userID').drop(['userID','score'],axis=1)\n",
    "tmp = tmp.rename(columns={'PhaseI':'tp1', 'PhaseII':'tp2', 'PhaseIII':'tp3', 'favTopic':'favTopic_target'})\n",
    "\n",
    "final = pd.merge(tmp,node,how='left',left_on='source',right_on='userID').drop(['userID','score'],axis=1)\n",
    "final = final.rename(columns={'PhaseI':'sp1', 'PhaseII':'sp2', 'PhaseIII':'sp3', 'favTopic':'favTopic_source'})\n",
    "\n",
    "final.to_csv(\"_t10Edge1.csv\",index=None) #<<"
   ]
  },
  {
   "cell_type": "code",
   "execution_count": 99,
   "metadata": {
    "collapsed": true
   },
   "outputs": [],
   "source": [
    "node = pd.read_csv(\"./Topics/_t10_Node2.csv\") #<<\n",
    "\n",
    "tmp = pd.merge(edge,node,how='left',left_on='target',right_on='userID').drop(['userID','score'],axis=1)\n",
    "tmp = tmp.rename(columns={'PhaseI':'tp1', 'PhaseII':'tp2', 'PhaseIII':'tp3', 'favTopic':'favTopic_target'})\n",
    "\n",
    "final = pd.merge(tmp,node,how='left',left_on='source',right_on='userID').drop(['userID','score'],axis=1)\n",
    "final = final.rename(columns={'PhaseI':'sp1', 'PhaseII':'sp2', 'PhaseIII':'sp3', 'favTopic':'favTopic_source'})\n",
    "\n",
    "final.to_csv(\"_t10Edge2.csv\",index=None) #<<"
   ]
  },
  {
   "cell_type": "code",
   "execution_count": 100,
   "metadata": {
    "collapsed": true
   },
   "outputs": [],
   "source": [
    "node = pd.read_csv(\"./Topics/_t10_Node3.csv\") #<<\n",
    "\n",
    "tmp = pd.merge(edge,node,how='left',left_on='target',right_on='userID').drop(['userID','score'],axis=1)\n",
    "tmp = tmp.rename(columns={'PhaseI':'tp1', 'PhaseII':'tp2', 'PhaseIII':'tp3', 'favTopic':'favTopic_target'})\n",
    "\n",
    "final = pd.merge(tmp,node,how='left',left_on='source',right_on='userID').drop(['userID','score'],axis=1)\n",
    "final = final.rename(columns={'PhaseI':'sp1', 'PhaseII':'sp2', 'PhaseIII':'sp3', 'favTopic':'favTopic_source'})\n",
    "\n",
    "final.to_csv(\"_t10Edge3.csv\",index=None) #<<"
   ]
  },
  {
   "cell_type": "code",
   "execution_count": 101,
   "metadata": {
    "collapsed": true
   },
   "outputs": [],
   "source": [
    "node = pd.read_csv(\"./Topics/_t10_Node4.csv\") #<<\n",
    "\n",
    "tmp = pd.merge(edge,node,how='left',left_on='target',right_on='userID').drop(['userID','score'],axis=1)\n",
    "tmp = tmp.rename(columns={'PhaseI':'tp1', 'PhaseII':'tp2', 'PhaseIII':'tp3', 'favTopic':'favTopic_target'})\n",
    "\n",
    "final = pd.merge(tmp,node,how='left',left_on='source',right_on='userID').drop(['userID','score'],axis=1)\n",
    "final = final.rename(columns={'PhaseI':'sp1', 'PhaseII':'sp2', 'PhaseIII':'sp3', 'favTopic':'favTopic_source'})\n",
    "\n",
    "final.to_csv(\"_t10Edge4.csv\",index=None) #<<"
   ]
  },
  {
   "cell_type": "code",
   "execution_count": 102,
   "metadata": {
    "collapsed": true
   },
   "outputs": [],
   "source": [
    "node = pd.read_csv(\"./Topics/_t10_Node5.csv\") #<<\n",
    "\n",
    "tmp = pd.merge(edge,node,how='left',left_on='target',right_on='userID').drop(['userID','score'],axis=1)\n",
    "tmp = tmp.rename(columns={'PhaseI':'tp1', 'PhaseII':'tp2', 'PhaseIII':'tp3', 'favTopic':'favTopic_target'})\n",
    "\n",
    "final = pd.merge(tmp,node,how='left',left_on='source',right_on='userID').drop(['userID','score'],axis=1)\n",
    "final = final.rename(columns={'PhaseI':'sp1', 'PhaseII':'sp2', 'PhaseIII':'sp3', 'favTopic':'favTopic_source'})\n",
    "\n",
    "final.to_csv(\"_t10Edge5.csv\",index=None) #<<"
   ]
  },
  {
   "cell_type": "code",
   "execution_count": null,
   "metadata": {
    "collapsed": true
   },
   "outputs": [],
   "source": []
  }
 ],
 "metadata": {
  "kernelspec": {
   "display_name": "Python 2",
   "language": "python",
   "name": "python2"
  },
  "language_info": {
   "codemirror_mode": {
    "name": "ipython",
    "version": 2
   },
   "file_extension": ".py",
   "mimetype": "text/x-python",
   "name": "python",
   "nbconvert_exporter": "python",
   "pygments_lexer": "ipython2",
   "version": "2.7.11"
  }
 },
 "nbformat": 4,
 "nbformat_minor": 0
}
