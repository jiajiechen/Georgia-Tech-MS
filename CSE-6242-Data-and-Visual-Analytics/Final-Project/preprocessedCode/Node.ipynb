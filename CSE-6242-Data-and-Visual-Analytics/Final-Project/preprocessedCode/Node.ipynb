{
 "cells": [
  {
   "cell_type": "code",
   "execution_count": 8,
   "metadata": {
    "collapsed": true
   },
   "outputs": [],
   "source": [
    "import pandas as pd\n",
    "import numpy as np\n",
    "import os\n",
    "# import re\n",
    "from time import time"
   ]
  },
  {
   "cell_type": "markdown",
   "metadata": {},
   "source": [
    " >  Food: \n",
    "     *  t1, food \n",
    "     *  t7, food+and+cook\n",
    " >  Travel: \n",
    "     *  t6\n",
    " >  Holiday:\n",
    "     *  t2: holiday+weekend+home\n",
    "     *  t4, holiday+xmas+newyear\n",
    "     *  t8, holiday+gift+product\n",
    " >  Tech+HomeDesign:\n",
    "     *  t5, \n",
    " >  SocialNetwork:\n",
    "     *  t10,\n",
    "\n",
    "t3, t9, no meaning\n"
   ]
  },
  {
   "cell_type": "code",
   "execution_count": null,
   "metadata": {
    "collapsed": true
   },
   "outputs": [],
   "source": [
    "nor_userCluster = pd.read_csv(\"nor_userCluster.csv\")\n",
    "nor_userCluster = nor_userCluster.drop(['t3','t9'],axis=1)\n",
    "\n",
    "nor_userCluster['clustered_label']=[nor_userCluster.columns[np.argmax(nor_userCluster.values[i,1:])+1] \n",
    "                                    for i in xrange(nor_userCluster.shape[0])]\n",
    "nor_userCluster.to_csv(\"nor_userCluster_new.csv\", index=None)"
   ]
  },
  {
   "cell_type": "code",
   "execution_count": 18,
   "metadata": {
    "collapsed": false
   },
   "outputs": [
    {
     "name": "stdout",
     "output_type": "stream",
     "text": [
      "Data_Preparation.py      TopicClustering.ipynb    \u001b[34mdocumentation\u001b[m\u001b[m/\r\n",
      "Edges.ipynb              \u001b[34mTopicKeyWords\u001b[m\u001b[m/           nor_userCluster.csv\r\n",
      "GTMMC.sqlite3            \u001b[34mTopics\u001b[m\u001b[m/                  nor_userCluster_new.csv\r\n",
      "HashTag.ipynb            TravelNode.csv           pseudo_node.csv\r\n",
      "\u001b[34mNLP_data\u001b[m\u001b[m/                \u001b[34mcode\u001b[m\u001b[m/                    userClusters.csv\r\n",
      "Node.ipynb               \u001b[34mdata\u001b[m\u001b[m/\r\n"
     ]
    }
   ],
   "source": [
    "ls"
   ]
  },
  {
   "cell_type": "code",
   "execution_count": 17,
   "metadata": {
    "collapsed": false
   },
   "outputs": [
    {
     "name": "stdout",
     "output_type": "stream",
     "text": [
      "/Users/jiajiechen/Desktop/project-CSE6242\n"
     ]
    }
   ],
   "source": [
    "cd .."
   ]
  },
  {
   "cell_type": "code",
   "execution_count": 22,
   "metadata": {
    "collapsed": false
   },
   "outputs": [
    {
     "data": {
      "text/html": [
       "<div>\n",
       "<table border=\"1\" class=\"dataframe\">\n",
       "  <thead>\n",
       "    <tr style=\"text-align: right;\">\n",
       "      <th></th>\n",
       "      <th>userID</th>\n",
       "      <th>t1</th>\n",
       "      <th>t2</th>\n",
       "      <th>t4</th>\n",
       "      <th>t5</th>\n",
       "      <th>t6</th>\n",
       "      <th>t7</th>\n",
       "      <th>t8</th>\n",
       "      <th>t10</th>\n",
       "      <th>clustered_label</th>\n",
       "    </tr>\n",
       "  </thead>\n",
       "  <tbody>\n",
       "    <tr>\n",
       "      <th>0</th>\n",
       "      <td>1002962226</td>\n",
       "      <td>0.003303</td>\n",
       "      <td>0.046034</td>\n",
       "      <td>0.021327</td>\n",
       "      <td>0.000425</td>\n",
       "      <td>0.001271</td>\n",
       "      <td>0.00000</td>\n",
       "      <td>0.003277</td>\n",
       "      <td>0.012008</td>\n",
       "      <td>t2</td>\n",
       "    </tr>\n",
       "    <tr>\n",
       "      <th>1</th>\n",
       "      <td>1003869794</td>\n",
       "      <td>0.022103</td>\n",
       "      <td>0.063666</td>\n",
       "      <td>0.082502</td>\n",
       "      <td>0.005804</td>\n",
       "      <td>0.002167</td>\n",
       "      <td>0.00000</td>\n",
       "      <td>0.000000</td>\n",
       "      <td>0.013454</td>\n",
       "      <td>t4</td>\n",
       "    </tr>\n",
       "    <tr>\n",
       "      <th>2</th>\n",
       "      <td>101084953</td>\n",
       "      <td>0.012410</td>\n",
       "      <td>0.070934</td>\n",
       "      <td>0.319982</td>\n",
       "      <td>0.005436</td>\n",
       "      <td>0.000000</td>\n",
       "      <td>0.00000</td>\n",
       "      <td>0.011353</td>\n",
       "      <td>0.001466</td>\n",
       "      <td>t4</td>\n",
       "    </tr>\n",
       "    <tr>\n",
       "      <th>3</th>\n",
       "      <td>1013215946</td>\n",
       "      <td>0.002461</td>\n",
       "      <td>0.007519</td>\n",
       "      <td>0.122523</td>\n",
       "      <td>0.001095</td>\n",
       "      <td>0.002040</td>\n",
       "      <td>0.00208</td>\n",
       "      <td>0.000000</td>\n",
       "      <td>0.000000</td>\n",
       "      <td>t4</td>\n",
       "    </tr>\n",
       "    <tr>\n",
       "      <th>4</th>\n",
       "      <td>1016473609</td>\n",
       "      <td>0.000000</td>\n",
       "      <td>0.050600</td>\n",
       "      <td>0.123293</td>\n",
       "      <td>0.000000</td>\n",
       "      <td>0.000000</td>\n",
       "      <td>0.00000</td>\n",
       "      <td>0.000000</td>\n",
       "      <td>0.000000</td>\n",
       "      <td>t4</td>\n",
       "    </tr>\n",
       "  </tbody>\n",
       "</table>\n",
       "</div>"
      ],
      "text/plain": [
       "       userID        t1        t2        t4        t5        t6       t7  \\\n",
       "0  1002962226  0.003303  0.046034  0.021327  0.000425  0.001271  0.00000   \n",
       "1  1003869794  0.022103  0.063666  0.082502  0.005804  0.002167  0.00000   \n",
       "2   101084953  0.012410  0.070934  0.319982  0.005436  0.000000  0.00000   \n",
       "3  1013215946  0.002461  0.007519  0.122523  0.001095  0.002040  0.00208   \n",
       "4  1016473609  0.000000  0.050600  0.123293  0.000000  0.000000  0.00000   \n",
       "\n",
       "         t8       t10 clustered_label  \n",
       "0  0.003277  0.012008              t2  \n",
       "1  0.000000  0.013454              t4  \n",
       "2  0.011353  0.001466              t4  \n",
       "3  0.000000  0.000000              t4  \n",
       "4  0.000000  0.000000              t4  "
      ]
     },
     "execution_count": 22,
     "metadata": {},
     "output_type": "execute_result"
    }
   ],
   "source": [
    "nor_userCluster.head()"
   ]
  },
  {
   "cell_type": "code",
   "execution_count": 23,
   "metadata": {
    "collapsed": true
   },
   "outputs": [],
   "source": [
    "# t4\n",
    "node = pd.read_csv(\"./Topics/Node/t4_Node1.csv\",index_col=0,dtype='int')\n",
    "node.columns=['userID','PhaseI','PhaseII','PhaseIII']\n",
    "user = nor_userCluster.iloc[:,[0,3,9]]\n",
    "\n",
    "tmptable = pd.merge(node,user,on='userID',how='left').sort_values(by='t4',axis=0,ascending=False)\n",
    "tmptable.columns = ['userID','PhaseI','PhaseII','PhaseIII','score','favTopic']\n",
    "tmptable['favTopic'] = tmptable['favTopic'].map({'t6':'travel',\n",
    "                                                  't1':'food',\n",
    "                                                  't7':'food+cook',\n",
    "                                                  't2':'holiday+home',\n",
    "                                                  't4':'holiday+xmas+newyear',\n",
    "                                                  't8':'holiday+gift',\n",
    "                                                  't5': 'Design',\n",
    "                                                  't10': 'SocialNetwork'})\n",
    "tmptable.to_csv(\"./Topics/_t4_Node1.csv\",index=None)"
   ]
  },
  {
   "cell_type": "code",
   "execution_count": 30,
   "metadata": {
    "collapsed": false
   },
   "outputs": [],
   "source": [
    "# t4_2\n",
    "node = pd.read_csv(\"./Topics/Node/t4_Node2.csv\",index_col=0,dtype='int')\n",
    "node.columns=['userID','PhaseI','PhaseII','PhaseIII']\n",
    "user = nor_userCluster.iloc[:,[0,3,9]]\n",
    "\n",
    "tmptable = pd.merge(node,user,on='userID',how='left').sort_values(by='t4',axis=0,ascending=False)\n",
    "tmptable.columns = ['userID','PhaseI','PhaseII','PhaseIII','score','favTopic']\n",
    "tmptable['favTopic'] = tmptable['favTopic'].map({'t6':'travel',\n",
    "                                                  't1':'food',\n",
    "                                                  't7':'food+cook',\n",
    "                                                  't2':'holiday+home',\n",
    "                                                  't4':'holiday+xmas+newyear',\n",
    "                                                  't8':'holiday+gift',\n",
    "                                                  't5': 'Design',\n",
    "                                                  't10': 'SocialNetwork'})\n",
    "tmptable.to_csv(\"./Topics/_t4_Node2.csv\",index=None)"
   ]
  },
  {
   "cell_type": "code",
   "execution_count": 31,
   "metadata": {
    "collapsed": false
   },
   "outputs": [],
   "source": [
    "node = pd.read_csv(\"./Topics/Node/t4_Node3.csv\",index_col=0,dtype='int')\n",
    "node.columns=['userID','PhaseI','PhaseII','PhaseIII']\n",
    "user = nor_userCluster.iloc[:,[0,3,9]]\n",
    "\n",
    "tmptable = pd.merge(node,user,on='userID',how='left').sort_values(by='t4',axis=0,ascending=False)\n",
    "tmptable.columns = ['userID','PhaseI','PhaseII','PhaseIII','score','favTopic']\n",
    "tmptable['favTopic'] = tmptable['favTopic'].map({'t6':'travel',\n",
    "                                                  't1':'food',\n",
    "                                                  't7':'food+cook',\n",
    "                                                  't2':'holiday+home',\n",
    "                                                  't4':'holiday+xmas+newyear',\n",
    "                                                  't8':'holiday+gift',\n",
    "                                                  't5': 'Design',\n",
    "                                                  't10': 'SocialNetwork'})\n",
    "tmptable.to_csv(\"./Topics/_t4_Node3.csv\",index=None)"
   ]
  },
  {
   "cell_type": "code",
   "execution_count": 32,
   "metadata": {
    "collapsed": true
   },
   "outputs": [],
   "source": [
    "node = pd.read_csv(\"./Topics/Node/t4_Node4.csv\",index_col=0,dtype='int')\n",
    "node.columns=['userID','PhaseI','PhaseII','PhaseIII']\n",
    "user = nor_userCluster.iloc[:,[0,3,9]]\n",
    "\n",
    "tmptable = pd.merge(node,user,on='userID',how='left').sort_values(by='t4',axis=0,ascending=False)\n",
    "tmptable.columns = ['userID','PhaseI','PhaseII','PhaseIII','score','favTopic']\n",
    "tmptable['favTopic'] = tmptable['favTopic'].map({'t6':'travel',\n",
    "                                                  't1':'food',\n",
    "                                                  't7':'food+cook',\n",
    "                                                  't2':'holiday+home',\n",
    "                                                  't4':'holiday+xmas+newyear',\n",
    "                                                  't8':'holiday+gift',\n",
    "                                                  't5': 'Design',\n",
    "                                                  't10': 'SocialNetwork'})\n",
    "tmptable.to_csv(\"./Topics/_t4_Node4.csv\",index=None)"
   ]
  },
  {
   "cell_type": "code",
   "execution_count": 33,
   "metadata": {
    "collapsed": true
   },
   "outputs": [],
   "source": [
    "node = pd.read_csv(\"./Topics/Node/t4_Node5.csv\",index_col=0,dtype='int')\n",
    "node.columns=['userID','PhaseI','PhaseII','PhaseIII']\n",
    "user = nor_userCluster.iloc[:,[0,3,9]]\n",
    "\n",
    "tmptable = pd.merge(node,user,on='userID',how='left').sort_values(by='t4',axis=0,ascending=False)\n",
    "tmptable.columns = ['userID','PhaseI','PhaseII','PhaseIII','score','favTopic']\n",
    "tmptable['favTopic'] = tmptable['favTopic'].map({'t6':'travel',\n",
    "                                                  't1':'food',\n",
    "                                                  't7':'food+cook',\n",
    "                                                  't2':'holiday+home',\n",
    "                                                  't4':'holiday+xmas+newyear',\n",
    "                                                  't8':'holiday+gift',\n",
    "                                                  't5': 'Design',\n",
    "                                                  't10': 'SocialNetwork'})\n",
    "tmptable.to_csv(\"./Topics/_t4_Node5.csv\",index=None)"
   ]
  },
  {
   "cell_type": "code",
   "execution_count": 34,
   "metadata": {
    "collapsed": false
   },
   "outputs": [
    {
     "data": {
      "text/html": [
       "<div>\n",
       "<table border=\"1\" class=\"dataframe\">\n",
       "  <thead>\n",
       "    <tr style=\"text-align: right;\">\n",
       "      <th></th>\n",
       "      <th>userID</th>\n",
       "      <th>t1</th>\n",
       "      <th>t2</th>\n",
       "      <th>t4</th>\n",
       "      <th>t5</th>\n",
       "      <th>t6</th>\n",
       "      <th>t7</th>\n",
       "      <th>t8</th>\n",
       "      <th>t10</th>\n",
       "      <th>clustered_label</th>\n",
       "    </tr>\n",
       "  </thead>\n",
       "  <tbody>\n",
       "    <tr>\n",
       "      <th>0</th>\n",
       "      <td>1002962226</td>\n",
       "      <td>0.003303</td>\n",
       "      <td>0.046034</td>\n",
       "      <td>0.021327</td>\n",
       "      <td>0.000425</td>\n",
       "      <td>0.001271</td>\n",
       "      <td>0.00000</td>\n",
       "      <td>0.003277</td>\n",
       "      <td>0.012008</td>\n",
       "      <td>t2</td>\n",
       "    </tr>\n",
       "    <tr>\n",
       "      <th>1</th>\n",
       "      <td>1003869794</td>\n",
       "      <td>0.022103</td>\n",
       "      <td>0.063666</td>\n",
       "      <td>0.082502</td>\n",
       "      <td>0.005804</td>\n",
       "      <td>0.002167</td>\n",
       "      <td>0.00000</td>\n",
       "      <td>0.000000</td>\n",
       "      <td>0.013454</td>\n",
       "      <td>t4</td>\n",
       "    </tr>\n",
       "    <tr>\n",
       "      <th>2</th>\n",
       "      <td>101084953</td>\n",
       "      <td>0.012410</td>\n",
       "      <td>0.070934</td>\n",
       "      <td>0.319982</td>\n",
       "      <td>0.005436</td>\n",
       "      <td>0.000000</td>\n",
       "      <td>0.00000</td>\n",
       "      <td>0.011353</td>\n",
       "      <td>0.001466</td>\n",
       "      <td>t4</td>\n",
       "    </tr>\n",
       "    <tr>\n",
       "      <th>3</th>\n",
       "      <td>1013215946</td>\n",
       "      <td>0.002461</td>\n",
       "      <td>0.007519</td>\n",
       "      <td>0.122523</td>\n",
       "      <td>0.001095</td>\n",
       "      <td>0.002040</td>\n",
       "      <td>0.00208</td>\n",
       "      <td>0.000000</td>\n",
       "      <td>0.000000</td>\n",
       "      <td>t4</td>\n",
       "    </tr>\n",
       "    <tr>\n",
       "      <th>4</th>\n",
       "      <td>1016473609</td>\n",
       "      <td>0.000000</td>\n",
       "      <td>0.050600</td>\n",
       "      <td>0.123293</td>\n",
       "      <td>0.000000</td>\n",
       "      <td>0.000000</td>\n",
       "      <td>0.00000</td>\n",
       "      <td>0.000000</td>\n",
       "      <td>0.000000</td>\n",
       "      <td>t4</td>\n",
       "    </tr>\n",
       "  </tbody>\n",
       "</table>\n",
       "</div>"
      ],
      "text/plain": [
       "       userID        t1        t2        t4        t5        t6       t7  \\\n",
       "0  1002962226  0.003303  0.046034  0.021327  0.000425  0.001271  0.00000   \n",
       "1  1003869794  0.022103  0.063666  0.082502  0.005804  0.002167  0.00000   \n",
       "2   101084953  0.012410  0.070934  0.319982  0.005436  0.000000  0.00000   \n",
       "3  1013215946  0.002461  0.007519  0.122523  0.001095  0.002040  0.00208   \n",
       "4  1016473609  0.000000  0.050600  0.123293  0.000000  0.000000  0.00000   \n",
       "\n",
       "         t8       t10 clustered_label  \n",
       "0  0.003277  0.012008              t2  \n",
       "1  0.000000  0.013454              t4  \n",
       "2  0.011353  0.001466              t4  \n",
       "3  0.000000  0.000000              t4  \n",
       "4  0.000000  0.000000              t4  "
      ]
     },
     "execution_count": 34,
     "metadata": {},
     "output_type": "execute_result"
    }
   ],
   "source": [
    "nor_userCluster.head()"
   ]
  },
  {
   "cell_type": "code",
   "execution_count": 36,
   "metadata": {
    "collapsed": false
   },
   "outputs": [],
   "source": [
    "node = pd.read_csv(\"./Topics/Node/t5_Node1.csv\",index_col=0,dtype='int') #<<<\n",
    "node.columns=['userID','PhaseI','PhaseII','PhaseIII']\n",
    "user = nor_userCluster.iloc[:,[0,4,9]] #<<<<\n",
    "\n",
    "tmptable = pd.merge(node,user,on='userID',how='left').sort_values(by='t5',axis=0,ascending=False) #<<<\n",
    "tmptable.columns = ['userID','PhaseI','PhaseII','PhaseIII','score','favTopic']\n",
    "tmptable['favTopic'] = tmptable['favTopic'].map({'t6':'travel',\n",
    "                                                  't1':'food',\n",
    "                                                  't7':'food+cook',\n",
    "                                                  't2':'holiday+home',\n",
    "                                                  't4':'holiday+xmas+newyear',\n",
    "                                                  't8':'holiday+gift',\n",
    "                                                  't5': 'Design',\n",
    "                                                  't10': 'SocialNetwork'})\n",
    "tmptable.to_csv(\"./Topics/_t5_Node1.csv\",index=None) #<<<"
   ]
  },
  {
   "cell_type": "code",
   "execution_count": 37,
   "metadata": {
    "collapsed": true
   },
   "outputs": [],
   "source": [
    "node = pd.read_csv(\"./Topics/Node/t5_Node2.csv\",index_col=0,dtype='int') #<<<\n",
    "node.columns=['userID','PhaseI','PhaseII','PhaseIII']\n",
    "user = nor_userCluster.iloc[:,[0,4,9]] #<<<<\n",
    "\n",
    "tmptable = pd.merge(node,user,on='userID',how='left').sort_values(by='t5',axis=0,ascending=False) #<<<\n",
    "tmptable.columns = ['userID','PhaseI','PhaseII','PhaseIII','score','favTopic']\n",
    "tmptable['favTopic'] = tmptable['favTopic'].map({'t6':'travel',\n",
    "                                                  't1':'food',\n",
    "                                                  't7':'food+cook',\n",
    "                                                  't2':'holiday+home',\n",
    "                                                  't4':'holiday+xmas+newyear',\n",
    "                                                  't8':'holiday+gift',\n",
    "                                                  't5': 'Design',\n",
    "                                                  't10': 'SocialNetwork'})\n",
    "tmptable.to_csv(\"./Topics/_t5_Node2.csv\",index=None) #<<<"
   ]
  },
  {
   "cell_type": "code",
   "execution_count": 38,
   "metadata": {
    "collapsed": true
   },
   "outputs": [],
   "source": [
    "node = pd.read_csv(\"./Topics/Node/t5_Node3.csv\",index_col=0,dtype='int') #<<<\n",
    "node.columns=['userID','PhaseI','PhaseII','PhaseIII']\n",
    "user = nor_userCluster.iloc[:,[0,4,9]] #<<<<\n",
    "\n",
    "tmptable = pd.merge(node,user,on='userID',how='left').sort_values(by='t5',axis=0,ascending=False) #<<<\n",
    "tmptable.columns = ['userID','PhaseI','PhaseII','PhaseIII','score','favTopic']\n",
    "tmptable['favTopic'] = tmptable['favTopic'].map({'t6':'travel',\n",
    "                                                  't1':'food',\n",
    "                                                  't7':'food+cook',\n",
    "                                                  't2':'holiday+home',\n",
    "                                                  't4':'holiday+xmas+newyear',\n",
    "                                                  't8':'holiday+gift',\n",
    "                                                  't5': 'Design',\n",
    "                                                  't10': 'SocialNetwork'})\n",
    "tmptable.to_csv(\"./Topics/_t5_Node3.csv\",index=None) #<<<"
   ]
  },
  {
   "cell_type": "code",
   "execution_count": 39,
   "metadata": {
    "collapsed": true
   },
   "outputs": [],
   "source": [
    "node = pd.read_csv(\"./Topics/Node/t5_Node4.csv\",index_col=0,dtype='int') #<<<\n",
    "node.columns=['userID','PhaseI','PhaseII','PhaseIII']\n",
    "user = nor_userCluster.iloc[:,[0,4,9]] #<<<<\n",
    "\n",
    "tmptable = pd.merge(node,user,on='userID',how='left').sort_values(by='t5',axis=0,ascending=False) #<<<\n",
    "tmptable.columns = ['userID','PhaseI','PhaseII','PhaseIII','score','favTopic']\n",
    "tmptable['favTopic'] = tmptable['favTopic'].map({'t6':'travel',\n",
    "                                                  't1':'food',\n",
    "                                                  't7':'food+cook',\n",
    "                                                  't2':'holiday+home',\n",
    "                                                  't4':'holiday+xmas+newyear',\n",
    "                                                  't8':'holiday+gift',\n",
    "                                                  't5': 'Design',\n",
    "                                                  't10': 'SocialNetwork'})\n",
    "tmptable.to_csv(\"./Topics/_t5_Node4.csv\",index=None) #<<<"
   ]
  },
  {
   "cell_type": "code",
   "execution_count": 40,
   "metadata": {
    "collapsed": true
   },
   "outputs": [],
   "source": [
    "node = pd.read_csv(\"./Topics/Node/t5_Node5.csv\",index_col=0,dtype='int') #<<<\n",
    "node.columns=['userID','PhaseI','PhaseII','PhaseIII']\n",
    "user = nor_userCluster.iloc[:,[0,4,9]] #<<<<\n",
    "\n",
    "tmptable = pd.merge(node,user,on='userID',how='left').sort_values(by='t5',axis=0,ascending=False) #<<<\n",
    "tmptable.columns = ['userID','PhaseI','PhaseII','PhaseIII','score','favTopic']\n",
    "tmptable['favTopic'] = tmptable['favTopic'].map({'t6':'travel',\n",
    "                                                  't1':'food',\n",
    "                                                  't7':'food+cook',\n",
    "                                                  't2':'holiday+home',\n",
    "                                                  't4':'holiday+xmas+newyear',\n",
    "                                                  't8':'holiday+gift',\n",
    "                                                  't5': 'Design',\n",
    "                                                  't10': 'SocialNetwork'})\n",
    "tmptable.to_csv(\"./Topics/_t5_Node5.csv\",index=None) #<<<"
   ]
  },
  {
   "cell_type": "code",
   "execution_count": 41,
   "metadata": {
    "collapsed": false
   },
   "outputs": [
    {
     "data": {
      "text/html": [
       "<div>\n",
       "<table border=\"1\" class=\"dataframe\">\n",
       "  <thead>\n",
       "    <tr style=\"text-align: right;\">\n",
       "      <th></th>\n",
       "      <th>userID</th>\n",
       "      <th>t1</th>\n",
       "      <th>t2</th>\n",
       "      <th>t4</th>\n",
       "      <th>t5</th>\n",
       "      <th>t6</th>\n",
       "      <th>t7</th>\n",
       "      <th>t8</th>\n",
       "      <th>t10</th>\n",
       "      <th>clustered_label</th>\n",
       "    </tr>\n",
       "  </thead>\n",
       "  <tbody>\n",
       "    <tr>\n",
       "      <th>0</th>\n",
       "      <td>1002962226</td>\n",
       "      <td>0.003303</td>\n",
       "      <td>0.046034</td>\n",
       "      <td>0.021327</td>\n",
       "      <td>0.000425</td>\n",
       "      <td>0.001271</td>\n",
       "      <td>0.00000</td>\n",
       "      <td>0.003277</td>\n",
       "      <td>0.012008</td>\n",
       "      <td>t2</td>\n",
       "    </tr>\n",
       "    <tr>\n",
       "      <th>1</th>\n",
       "      <td>1003869794</td>\n",
       "      <td>0.022103</td>\n",
       "      <td>0.063666</td>\n",
       "      <td>0.082502</td>\n",
       "      <td>0.005804</td>\n",
       "      <td>0.002167</td>\n",
       "      <td>0.00000</td>\n",
       "      <td>0.000000</td>\n",
       "      <td>0.013454</td>\n",
       "      <td>t4</td>\n",
       "    </tr>\n",
       "    <tr>\n",
       "      <th>2</th>\n",
       "      <td>101084953</td>\n",
       "      <td>0.012410</td>\n",
       "      <td>0.070934</td>\n",
       "      <td>0.319982</td>\n",
       "      <td>0.005436</td>\n",
       "      <td>0.000000</td>\n",
       "      <td>0.00000</td>\n",
       "      <td>0.011353</td>\n",
       "      <td>0.001466</td>\n",
       "      <td>t4</td>\n",
       "    </tr>\n",
       "    <tr>\n",
       "      <th>3</th>\n",
       "      <td>1013215946</td>\n",
       "      <td>0.002461</td>\n",
       "      <td>0.007519</td>\n",
       "      <td>0.122523</td>\n",
       "      <td>0.001095</td>\n",
       "      <td>0.002040</td>\n",
       "      <td>0.00208</td>\n",
       "      <td>0.000000</td>\n",
       "      <td>0.000000</td>\n",
       "      <td>t4</td>\n",
       "    </tr>\n",
       "    <tr>\n",
       "      <th>4</th>\n",
       "      <td>1016473609</td>\n",
       "      <td>0.000000</td>\n",
       "      <td>0.050600</td>\n",
       "      <td>0.123293</td>\n",
       "      <td>0.000000</td>\n",
       "      <td>0.000000</td>\n",
       "      <td>0.00000</td>\n",
       "      <td>0.000000</td>\n",
       "      <td>0.000000</td>\n",
       "      <td>t4</td>\n",
       "    </tr>\n",
       "  </tbody>\n",
       "</table>\n",
       "</div>"
      ],
      "text/plain": [
       "       userID        t1        t2        t4        t5        t6       t7  \\\n",
       "0  1002962226  0.003303  0.046034  0.021327  0.000425  0.001271  0.00000   \n",
       "1  1003869794  0.022103  0.063666  0.082502  0.005804  0.002167  0.00000   \n",
       "2   101084953  0.012410  0.070934  0.319982  0.005436  0.000000  0.00000   \n",
       "3  1013215946  0.002461  0.007519  0.122523  0.001095  0.002040  0.00208   \n",
       "4  1016473609  0.000000  0.050600  0.123293  0.000000  0.000000  0.00000   \n",
       "\n",
       "         t8       t10 clustered_label  \n",
       "0  0.003277  0.012008              t2  \n",
       "1  0.000000  0.013454              t4  \n",
       "2  0.011353  0.001466              t4  \n",
       "3  0.000000  0.000000              t4  \n",
       "4  0.000000  0.000000              t4  "
      ]
     },
     "execution_count": 41,
     "metadata": {},
     "output_type": "execute_result"
    }
   ],
   "source": [
    "nor_userCluster.head()"
   ]
  },
  {
   "cell_type": "code",
   "execution_count": 42,
   "metadata": {
    "collapsed": true
   },
   "outputs": [],
   "source": [
    "# t6\n",
    "node = pd.read_csv(\"./Topics/Node/t6_Node1.csv\",index_col=0,dtype='int') #<<<\n",
    "node.columns=['userID','PhaseI','PhaseII','PhaseIII']\n",
    "user = nor_userCluster.iloc[:,[0,5,9]] #<<<<\n",
    "\n",
    "tmptable = pd.merge(node,user,on='userID',how='left').sort_values(by='t6',axis=0,ascending=False) #<<<\n",
    "tmptable.columns = ['userID','PhaseI','PhaseII','PhaseIII','score','favTopic']\n",
    "tmptable['favTopic'] = tmptable['favTopic'].map({'t6':'travel',\n",
    "                                                  't1':'food',\n",
    "                                                  't7':'food+cook',\n",
    "                                                  't2':'holiday+home',\n",
    "                                                  't4':'holiday+xmas+newyear',\n",
    "                                                  't8':'holiday+gift',\n",
    "                                                  't5': 'Design',\n",
    "                                                  't10': 'SocialNetwork'})\n",
    "tmptable.to_csv(\"./Topics/_t6_Node1.csv\",index=None) #<<<"
   ]
  },
  {
   "cell_type": "code",
   "execution_count": 43,
   "metadata": {
    "collapsed": true
   },
   "outputs": [],
   "source": [
    "# t6\n",
    "node = pd.read_csv(\"./Topics/Node/t6_Node2.csv\",index_col=0,dtype='int') #<<<\n",
    "node.columns=['userID','PhaseI','PhaseII','PhaseIII']\n",
    "user = nor_userCluster.iloc[:,[0,5,9]] #<<<<\n",
    "\n",
    "tmptable = pd.merge(node,user,on='userID',how='left').sort_values(by='t6',axis=0,ascending=False) #<<<\n",
    "tmptable.columns = ['userID','PhaseI','PhaseII','PhaseIII','score','favTopic']\n",
    "tmptable['favTopic'] = tmptable['favTopic'].map({'t6':'travel',\n",
    "                                                  't1':'food',\n",
    "                                                  't7':'food+cook',\n",
    "                                                  't2':'holiday+home',\n",
    "                                                  't4':'holiday+xmas+newyear',\n",
    "                                                  't8':'holiday+gift',\n",
    "                                                  't5': 'Design',\n",
    "                                                  't10': 'SocialNetwork'})\n",
    "tmptable.to_csv(\"./Topics/_t6_Node2.csv\",index=None) #<<<"
   ]
  },
  {
   "cell_type": "code",
   "execution_count": 44,
   "metadata": {
    "collapsed": true
   },
   "outputs": [],
   "source": [
    "# t6\n",
    "node = pd.read_csv(\"./Topics/Node/t6_Node3.csv\",index_col=0,dtype='int') #<<<\n",
    "node.columns=['userID','PhaseI','PhaseII','PhaseIII']\n",
    "user = nor_userCluster.iloc[:,[0,5,9]] #<<<<\n",
    "\n",
    "tmptable = pd.merge(node,user,on='userID',how='left').sort_values(by='t6',axis=0,ascending=False) #<<<\n",
    "tmptable.columns = ['userID','PhaseI','PhaseII','PhaseIII','score','favTopic']\n",
    "tmptable['favTopic'] = tmptable['favTopic'].map({'t6':'travel',\n",
    "                                                  't1':'food',\n",
    "                                                  't7':'food+cook',\n",
    "                                                  't2':'holiday+home',\n",
    "                                                  't4':'holiday+xmas+newyear',\n",
    "                                                  't8':'holiday+gift',\n",
    "                                                  't5': 'Design',\n",
    "                                                  't10': 'SocialNetwork'})\n",
    "tmptable.to_csv(\"./Topics/_t6_Node3.csv\",index=None) #<<<"
   ]
  },
  {
   "cell_type": "code",
   "execution_count": 45,
   "metadata": {
    "collapsed": true
   },
   "outputs": [],
   "source": [
    "# t6\n",
    "node = pd.read_csv(\"./Topics/Node/t6_Node4.csv\",index_col=0,dtype='int') #<<<\n",
    "node.columns=['userID','PhaseI','PhaseII','PhaseIII']\n",
    "user = nor_userCluster.iloc[:,[0,5,9]] #<<<<\n",
    "\n",
    "tmptable = pd.merge(node,user,on='userID',how='left').sort_values(by='t6',axis=0,ascending=False) #<<<\n",
    "tmptable.columns = ['userID','PhaseI','PhaseII','PhaseIII','score','favTopic']\n",
    "tmptable['favTopic'] = tmptable['favTopic'].map({'t6':'travel',\n",
    "                                                  't1':'food',\n",
    "                                                  't7':'food+cook',\n",
    "                                                  't2':'holiday+home',\n",
    "                                                  't4':'holiday+xmas+newyear',\n",
    "                                                  't8':'holiday+gift',\n",
    "                                                  't5': 'Design',\n",
    "                                                  't10': 'SocialNetwork'})\n",
    "tmptable.to_csv(\"./Topics/_t6_Node4.csv\",index=None) #<<<"
   ]
  },
  {
   "cell_type": "code",
   "execution_count": 46,
   "metadata": {
    "collapsed": true
   },
   "outputs": [],
   "source": [
    "# t6\n",
    "node = pd.read_csv(\"./Topics/Node/t6_Node5.csv\",index_col=0,dtype='int') #<<<\n",
    "node.columns=['userID','PhaseI','PhaseII','PhaseIII']\n",
    "user = nor_userCluster.iloc[:,[0,5,9]] #<<<<\n",
    "\n",
    "tmptable = pd.merge(node,user,on='userID',how='left').sort_values(by='t6',axis=0,ascending=False) #<<<\n",
    "tmptable.columns = ['userID','PhaseI','PhaseII','PhaseIII','score','favTopic']\n",
    "tmptable['favTopic'] = tmptable['favTopic'].map({'t6':'travel',\n",
    "                                                  't1':'food',\n",
    "                                                  't7':'food+cook',\n",
    "                                                  't2':'holiday+home',\n",
    "                                                  't4':'holiday+xmas+newyear',\n",
    "                                                  't8':'holiday+gift',\n",
    "                                                  't5': 'Design',\n",
    "                                                  't10': 'SocialNetwork'})\n",
    "tmptable.to_csv(\"./Topics/_t6_Node5.csv\",index=None) #<<<"
   ]
  },
  {
   "cell_type": "code",
   "execution_count": 47,
   "metadata": {
    "collapsed": false
   },
   "outputs": [
    {
     "data": {
      "text/html": [
       "<div>\n",
       "<table border=\"1\" class=\"dataframe\">\n",
       "  <thead>\n",
       "    <tr style=\"text-align: right;\">\n",
       "      <th></th>\n",
       "      <th>userID</th>\n",
       "      <th>t1</th>\n",
       "      <th>t2</th>\n",
       "      <th>t4</th>\n",
       "      <th>t5</th>\n",
       "      <th>t6</th>\n",
       "      <th>t7</th>\n",
       "      <th>t8</th>\n",
       "      <th>t10</th>\n",
       "      <th>clustered_label</th>\n",
       "    </tr>\n",
       "  </thead>\n",
       "  <tbody>\n",
       "    <tr>\n",
       "      <th>0</th>\n",
       "      <td>1002962226</td>\n",
       "      <td>0.003303</td>\n",
       "      <td>0.046034</td>\n",
       "      <td>0.021327</td>\n",
       "      <td>0.000425</td>\n",
       "      <td>0.001271</td>\n",
       "      <td>0.00000</td>\n",
       "      <td>0.003277</td>\n",
       "      <td>0.012008</td>\n",
       "      <td>t2</td>\n",
       "    </tr>\n",
       "    <tr>\n",
       "      <th>1</th>\n",
       "      <td>1003869794</td>\n",
       "      <td>0.022103</td>\n",
       "      <td>0.063666</td>\n",
       "      <td>0.082502</td>\n",
       "      <td>0.005804</td>\n",
       "      <td>0.002167</td>\n",
       "      <td>0.00000</td>\n",
       "      <td>0.000000</td>\n",
       "      <td>0.013454</td>\n",
       "      <td>t4</td>\n",
       "    </tr>\n",
       "    <tr>\n",
       "      <th>2</th>\n",
       "      <td>101084953</td>\n",
       "      <td>0.012410</td>\n",
       "      <td>0.070934</td>\n",
       "      <td>0.319982</td>\n",
       "      <td>0.005436</td>\n",
       "      <td>0.000000</td>\n",
       "      <td>0.00000</td>\n",
       "      <td>0.011353</td>\n",
       "      <td>0.001466</td>\n",
       "      <td>t4</td>\n",
       "    </tr>\n",
       "    <tr>\n",
       "      <th>3</th>\n",
       "      <td>1013215946</td>\n",
       "      <td>0.002461</td>\n",
       "      <td>0.007519</td>\n",
       "      <td>0.122523</td>\n",
       "      <td>0.001095</td>\n",
       "      <td>0.002040</td>\n",
       "      <td>0.00208</td>\n",
       "      <td>0.000000</td>\n",
       "      <td>0.000000</td>\n",
       "      <td>t4</td>\n",
       "    </tr>\n",
       "    <tr>\n",
       "      <th>4</th>\n",
       "      <td>1016473609</td>\n",
       "      <td>0.000000</td>\n",
       "      <td>0.050600</td>\n",
       "      <td>0.123293</td>\n",
       "      <td>0.000000</td>\n",
       "      <td>0.000000</td>\n",
       "      <td>0.00000</td>\n",
       "      <td>0.000000</td>\n",
       "      <td>0.000000</td>\n",
       "      <td>t4</td>\n",
       "    </tr>\n",
       "  </tbody>\n",
       "</table>\n",
       "</div>"
      ],
      "text/plain": [
       "       userID        t1        t2        t4        t5        t6       t7  \\\n",
       "0  1002962226  0.003303  0.046034  0.021327  0.000425  0.001271  0.00000   \n",
       "1  1003869794  0.022103  0.063666  0.082502  0.005804  0.002167  0.00000   \n",
       "2   101084953  0.012410  0.070934  0.319982  0.005436  0.000000  0.00000   \n",
       "3  1013215946  0.002461  0.007519  0.122523  0.001095  0.002040  0.00208   \n",
       "4  1016473609  0.000000  0.050600  0.123293  0.000000  0.000000  0.00000   \n",
       "\n",
       "         t8       t10 clustered_label  \n",
       "0  0.003277  0.012008              t2  \n",
       "1  0.000000  0.013454              t4  \n",
       "2  0.011353  0.001466              t4  \n",
       "3  0.000000  0.000000              t4  \n",
       "4  0.000000  0.000000              t4  "
      ]
     },
     "execution_count": 47,
     "metadata": {},
     "output_type": "execute_result"
    }
   ],
   "source": [
    "nor_userCluster.head()"
   ]
  },
  {
   "cell_type": "code",
   "execution_count": 48,
   "metadata": {
    "collapsed": true
   },
   "outputs": [],
   "source": [
    "# t7\n",
    "node = pd.read_csv(\"./Topics/Node/t7_Node1.csv\",index_col=0,dtype='int') #<<<\n",
    "node.columns=['userID','PhaseI','PhaseII','PhaseIII']\n",
    "user = nor_userCluster.iloc[:,[0,6,9]] #<<<<\n",
    "\n",
    "tmptable = pd.merge(node,user,on='userID',how='left').sort_values(by='t7',axis=0,ascending=False) #<<<\n",
    "tmptable.columns = ['userID','PhaseI','PhaseII','PhaseIII','score','favTopic']\n",
    "tmptable['favTopic'] = tmptable['favTopic'].map({'t6':'travel',\n",
    "                                                  't1':'food',\n",
    "                                                  't7':'food+cook',\n",
    "                                                  't2':'holiday+home',\n",
    "                                                  't4':'holiday+xmas+newyear',\n",
    "                                                  't8':'holiday+gift',\n",
    "                                                  't5': 'Design',\n",
    "                                                  't10': 'SocialNetwork'})\n",
    "tmptable.to_csv(\"./Topics/_t7_Node1.csv\",index=None) #<<<"
   ]
  },
  {
   "cell_type": "code",
   "execution_count": 49,
   "metadata": {
    "collapsed": true
   },
   "outputs": [],
   "source": [
    "# t7\n",
    "node = pd.read_csv(\"./Topics/Node/t7_Node2.csv\",index_col=0,dtype='int') #<<<\n",
    "node.columns=['userID','PhaseI','PhaseII','PhaseIII']\n",
    "user = nor_userCluster.iloc[:,[0,6,9]] #<<<<\n",
    "\n",
    "tmptable = pd.merge(node,user,on='userID',how='left').sort_values(by='t7',axis=0,ascending=False) #<<<\n",
    "tmptable.columns = ['userID','PhaseI','PhaseII','PhaseIII','score','favTopic']\n",
    "tmptable['favTopic'] = tmptable['favTopic'].map({'t6':'travel',\n",
    "                                                  't1':'food',\n",
    "                                                  't7':'food+cook',\n",
    "                                                  't2':'holiday+home',\n",
    "                                                  't4':'holiday+xmas+newyear',\n",
    "                                                  't8':'holiday+gift',\n",
    "                                                  't5': 'Design',\n",
    "                                                  't10': 'SocialNetwork'})\n",
    "tmptable.to_csv(\"./Topics/_t7_Node2.csv\",index=None) #<<<"
   ]
  },
  {
   "cell_type": "code",
   "execution_count": 50,
   "metadata": {
    "collapsed": true
   },
   "outputs": [],
   "source": [
    "# t7\n",
    "node = pd.read_csv(\"./Topics/Node/t7_Node3.csv\",index_col=0,dtype='int') #<<<\n",
    "node.columns=['userID','PhaseI','PhaseII','PhaseIII']\n",
    "user = nor_userCluster.iloc[:,[0,6,9]] #<<<<\n",
    "\n",
    "tmptable = pd.merge(node,user,on='userID',how='left').sort_values(by='t7',axis=0,ascending=False) #<<<\n",
    "tmptable.columns = ['userID','PhaseI','PhaseII','PhaseIII','score','favTopic']\n",
    "tmptable['favTopic'] = tmptable['favTopic'].map({'t6':'travel',\n",
    "                                                  't1':'food',\n",
    "                                                  't7':'food+cook',\n",
    "                                                  't2':'holiday+home',\n",
    "                                                  't4':'holiday+xmas+newyear',\n",
    "                                                  't8':'holiday+gift',\n",
    "                                                  't5': 'Design',\n",
    "                                                  't10': 'SocialNetwork'})\n",
    "tmptable.to_csv(\"./Topics/_t7_Node3.csv\",index=None) #<<<"
   ]
  },
  {
   "cell_type": "code",
   "execution_count": 51,
   "metadata": {
    "collapsed": true
   },
   "outputs": [],
   "source": [
    "# t7\n",
    "node = pd.read_csv(\"./Topics/Node/t7_Node4.csv\",index_col=0,dtype='int') #<<<\n",
    "node.columns=['userID','PhaseI','PhaseII','PhaseIII']\n",
    "user = nor_userCluster.iloc[:,[0,6,9]] #<<<<\n",
    "\n",
    "tmptable = pd.merge(node,user,on='userID',how='left').sort_values(by='t7',axis=0,ascending=False) #<<<\n",
    "tmptable.columns = ['userID','PhaseI','PhaseII','PhaseIII','score','favTopic']\n",
    "tmptable['favTopic'] = tmptable['favTopic'].map({'t6':'travel',\n",
    "                                                  't1':'food',\n",
    "                                                  't7':'food+cook',\n",
    "                                                  't2':'holiday+home',\n",
    "                                                  't4':'holiday+xmas+newyear',\n",
    "                                                  't8':'holiday+gift',\n",
    "                                                  't5': 'Design',\n",
    "                                                  't10': 'SocialNetwork'})\n",
    "tmptable.to_csv(\"./Topics/_t7_Node4.csv\",index=None) #<<<"
   ]
  },
  {
   "cell_type": "code",
   "execution_count": 52,
   "metadata": {
    "collapsed": true
   },
   "outputs": [],
   "source": [
    "# t7\n",
    "node = pd.read_csv(\"./Topics/Node/t7_Node5.csv\",index_col=0,dtype='int') #<<<\n",
    "node.columns=['userID','PhaseI','PhaseII','PhaseIII']\n",
    "user = nor_userCluster.iloc[:,[0,6,9]] #<<<<\n",
    "\n",
    "tmptable = pd.merge(node,user,on='userID',how='left').sort_values(by='t7',axis=0,ascending=False) #<<<\n",
    "tmptable.columns = ['userID','PhaseI','PhaseII','PhaseIII','score','favTopic']\n",
    "tmptable['favTopic'] = tmptable['favTopic'].map({'t6':'travel',\n",
    "                                                  't1':'food',\n",
    "                                                  't7':'food+cook',\n",
    "                                                  't2':'holiday+home',\n",
    "                                                  't4':'holiday+xmas+newyear',\n",
    "                                                  't8':'holiday+gift',\n",
    "                                                  't5': 'Design',\n",
    "                                                  't10': 'SocialNetwork'})\n",
    "tmptable.to_csv(\"./Topics/_t7_Node5.csv\",index=None) #<<<"
   ]
  },
  {
   "cell_type": "code",
   "execution_count": 53,
   "metadata": {
    "collapsed": false
   },
   "outputs": [
    {
     "data": {
      "text/html": [
       "<div>\n",
       "<table border=\"1\" class=\"dataframe\">\n",
       "  <thead>\n",
       "    <tr style=\"text-align: right;\">\n",
       "      <th></th>\n",
       "      <th>userID</th>\n",
       "      <th>t1</th>\n",
       "      <th>t2</th>\n",
       "      <th>t4</th>\n",
       "      <th>t5</th>\n",
       "      <th>t6</th>\n",
       "      <th>t7</th>\n",
       "      <th>t8</th>\n",
       "      <th>t10</th>\n",
       "      <th>clustered_label</th>\n",
       "    </tr>\n",
       "  </thead>\n",
       "  <tbody>\n",
       "    <tr>\n",
       "      <th>0</th>\n",
       "      <td>1002962226</td>\n",
       "      <td>0.003303</td>\n",
       "      <td>0.046034</td>\n",
       "      <td>0.021327</td>\n",
       "      <td>0.000425</td>\n",
       "      <td>0.001271</td>\n",
       "      <td>0.00000</td>\n",
       "      <td>0.003277</td>\n",
       "      <td>0.012008</td>\n",
       "      <td>t2</td>\n",
       "    </tr>\n",
       "    <tr>\n",
       "      <th>1</th>\n",
       "      <td>1003869794</td>\n",
       "      <td>0.022103</td>\n",
       "      <td>0.063666</td>\n",
       "      <td>0.082502</td>\n",
       "      <td>0.005804</td>\n",
       "      <td>0.002167</td>\n",
       "      <td>0.00000</td>\n",
       "      <td>0.000000</td>\n",
       "      <td>0.013454</td>\n",
       "      <td>t4</td>\n",
       "    </tr>\n",
       "    <tr>\n",
       "      <th>2</th>\n",
       "      <td>101084953</td>\n",
       "      <td>0.012410</td>\n",
       "      <td>0.070934</td>\n",
       "      <td>0.319982</td>\n",
       "      <td>0.005436</td>\n",
       "      <td>0.000000</td>\n",
       "      <td>0.00000</td>\n",
       "      <td>0.011353</td>\n",
       "      <td>0.001466</td>\n",
       "      <td>t4</td>\n",
       "    </tr>\n",
       "    <tr>\n",
       "      <th>3</th>\n",
       "      <td>1013215946</td>\n",
       "      <td>0.002461</td>\n",
       "      <td>0.007519</td>\n",
       "      <td>0.122523</td>\n",
       "      <td>0.001095</td>\n",
       "      <td>0.002040</td>\n",
       "      <td>0.00208</td>\n",
       "      <td>0.000000</td>\n",
       "      <td>0.000000</td>\n",
       "      <td>t4</td>\n",
       "    </tr>\n",
       "    <tr>\n",
       "      <th>4</th>\n",
       "      <td>1016473609</td>\n",
       "      <td>0.000000</td>\n",
       "      <td>0.050600</td>\n",
       "      <td>0.123293</td>\n",
       "      <td>0.000000</td>\n",
       "      <td>0.000000</td>\n",
       "      <td>0.00000</td>\n",
       "      <td>0.000000</td>\n",
       "      <td>0.000000</td>\n",
       "      <td>t4</td>\n",
       "    </tr>\n",
       "  </tbody>\n",
       "</table>\n",
       "</div>"
      ],
      "text/plain": [
       "       userID        t1        t2        t4        t5        t6       t7  \\\n",
       "0  1002962226  0.003303  0.046034  0.021327  0.000425  0.001271  0.00000   \n",
       "1  1003869794  0.022103  0.063666  0.082502  0.005804  0.002167  0.00000   \n",
       "2   101084953  0.012410  0.070934  0.319982  0.005436  0.000000  0.00000   \n",
       "3  1013215946  0.002461  0.007519  0.122523  0.001095  0.002040  0.00208   \n",
       "4  1016473609  0.000000  0.050600  0.123293  0.000000  0.000000  0.00000   \n",
       "\n",
       "         t8       t10 clustered_label  \n",
       "0  0.003277  0.012008              t2  \n",
       "1  0.000000  0.013454              t4  \n",
       "2  0.011353  0.001466              t4  \n",
       "3  0.000000  0.000000              t4  \n",
       "4  0.000000  0.000000              t4  "
      ]
     },
     "execution_count": 53,
     "metadata": {},
     "output_type": "execute_result"
    }
   ],
   "source": [
    "nor_userCluster.head()"
   ]
  },
  {
   "cell_type": "code",
   "execution_count": 55,
   "metadata": {
    "collapsed": false
   },
   "outputs": [],
   "source": [
    "# t10\n",
    "node = pd.read_csv(\"./Topics/Node/t10_Node1.csv\",index_col=0,dtype='int') #<<<\n",
    "node.columns=['userID','PhaseI','PhaseII','PhaseIII']\n",
    "user = nor_userCluster.iloc[:,[0,8,9]] #<<<<\n",
    "\n",
    "tmptable = pd.merge(node,user,on='userID',how='left').sort_values(by='t10',axis=0,ascending=False) #<<<\n",
    "tmptable.columns = ['userID','PhaseI','PhaseII','PhaseIII','score','favTopic']\n",
    "tmptable['favTopic'] = tmptable['favTopic'].map({'t6':'travel',\n",
    "                                                  't1':'food',\n",
    "                                                  't7':'food+cook',\n",
    "                                                  't2':'holiday+home',\n",
    "                                                  't4':'holiday+xmas+newyear',\n",
    "                                                  't8':'holiday+gift',\n",
    "                                                  't5': 'Design',\n",
    "                                                  't10': 'SocialNetwork'})\n",
    "tmptable.to_csv(\"./Topics/_t10_Node1.csv\",index=None) #<<<"
   ]
  },
  {
   "cell_type": "code",
   "execution_count": 56,
   "metadata": {
    "collapsed": true
   },
   "outputs": [],
   "source": [
    "# t10\n",
    "node = pd.read_csv(\"./Topics/Node/t10_Node2.csv\",index_col=0,dtype='int') #<<<\n",
    "node.columns=['userID','PhaseI','PhaseII','PhaseIII']\n",
    "user = nor_userCluster.iloc[:,[0,8,9]] #<<<<\n",
    "\n",
    "tmptable = pd.merge(node,user,on='userID',how='left').sort_values(by='t10',axis=0,ascending=False) #<<<\n",
    "tmptable.columns = ['userID','PhaseI','PhaseII','PhaseIII','score','favTopic']\n",
    "tmptable['favTopic'] = tmptable['favTopic'].map({'t6':'travel',\n",
    "                                                  't1':'food',\n",
    "                                                  't7':'food+cook',\n",
    "                                                  't2':'holiday+home',\n",
    "                                                  't4':'holiday+xmas+newyear',\n",
    "                                                  't8':'holiday+gift',\n",
    "                                                  't5': 'Design',\n",
    "                                                  't10': 'SocialNetwork'})\n",
    "tmptable.to_csv(\"./Topics/_t10_Node2.csv\",index=None) #<<<"
   ]
  },
  {
   "cell_type": "code",
   "execution_count": 57,
   "metadata": {
    "collapsed": true
   },
   "outputs": [],
   "source": [
    "# t10\n",
    "node = pd.read_csv(\"./Topics/Node/t10_Node3.csv\",index_col=0,dtype='int') #<<<\n",
    "node.columns=['userID','PhaseI','PhaseII','PhaseIII']\n",
    "user = nor_userCluster.iloc[:,[0,8,9]] #<<<<\n",
    "\n",
    "tmptable = pd.merge(node,user,on='userID',how='left').sort_values(by='t10',axis=0,ascending=False) #<<<\n",
    "tmptable.columns = ['userID','PhaseI','PhaseII','PhaseIII','score','favTopic']\n",
    "tmptable['favTopic'] = tmptable['favTopic'].map({'t6':'travel',\n",
    "                                                  't1':'food',\n",
    "                                                  't7':'food+cook',\n",
    "                                                  't2':'holiday+home',\n",
    "                                                  't4':'holiday+xmas+newyear',\n",
    "                                                  't8':'holiday+gift',\n",
    "                                                  't5': 'Design',\n",
    "                                                  't10': 'SocialNetwork'})\n",
    "tmptable.to_csv(\"./Topics/_t10_Node3.csv\",index=None) #<<<"
   ]
  },
  {
   "cell_type": "code",
   "execution_count": 58,
   "metadata": {
    "collapsed": true
   },
   "outputs": [],
   "source": [
    "# t10\n",
    "node = pd.read_csv(\"./Topics/Node/t10_Node4.csv\",index_col=0,dtype='int') #<<<\n",
    "node.columns=['userID','PhaseI','PhaseII','PhaseIII']\n",
    "user = nor_userCluster.iloc[:,[0,8,9]] #<<<<\n",
    "\n",
    "tmptable = pd.merge(node,user,on='userID',how='left').sort_values(by='t10',axis=0,ascending=False) #<<<\n",
    "tmptable.columns = ['userID','PhaseI','PhaseII','PhaseIII','score','favTopic']\n",
    "tmptable['favTopic'] = tmptable['favTopic'].map({'t6':'travel',\n",
    "                                                  't1':'food',\n",
    "                                                  't7':'food+cook',\n",
    "                                                  't2':'holiday+home',\n",
    "                                                  't4':'holiday+xmas+newyear',\n",
    "                                                  't8':'holiday+gift',\n",
    "                                                  't5': 'Design',\n",
    "                                                  't10': 'SocialNetwork'})\n",
    "tmptable.to_csv(\"./Topics/_t10_Node4.csv\",index=None) #<<<"
   ]
  },
  {
   "cell_type": "code",
   "execution_count": 59,
   "metadata": {
    "collapsed": true
   },
   "outputs": [],
   "source": [
    "# t10\n",
    "node = pd.read_csv(\"./Topics/Node/t10_Node5.csv\",index_col=0,dtype='int') #<<<\n",
    "node.columns=['userID','PhaseI','PhaseII','PhaseIII']\n",
    "user = nor_userCluster.iloc[:,[0,8,9]] #<<<<\n",
    "\n",
    "tmptable = pd.merge(node,user,on='userID',how='left').sort_values(by='t10',axis=0,ascending=False) #<<<\n",
    "tmptable.columns = ['userID','PhaseI','PhaseII','PhaseIII','score','favTopic']\n",
    "tmptable['favTopic'] = tmptable['favTopic'].map({'t6':'travel',\n",
    "                                                  't1':'food',\n",
    "                                                  't7':'food+cook',\n",
    "                                                  't2':'holiday+home',\n",
    "                                                  't4':'holiday+xmas+newyear',\n",
    "                                                  't8':'holiday+gift',\n",
    "                                                  't5': 'Design',\n",
    "                                                  't10': 'SocialNetwork'})\n",
    "tmptable.to_csv(\"./Topics/_t10_Node5.csv\",index=None) #<<<"
   ]
  },
  {
   "cell_type": "code",
   "execution_count": null,
   "metadata": {
    "collapsed": true
   },
   "outputs": [],
   "source": []
  }
 ],
 "metadata": {
  "kernelspec": {
   "display_name": "Python 2",
   "language": "python",
   "name": "python2"
  },
  "language_info": {
   "codemirror_mode": {
    "name": "ipython",
    "version": 2
   },
   "file_extension": ".py",
   "mimetype": "text/x-python",
   "name": "python",
   "nbconvert_exporter": "python",
   "pygments_lexer": "ipython2",
   "version": "2.7.11"
  }
 },
 "nbformat": 4,
 "nbformat_minor": 0
}
