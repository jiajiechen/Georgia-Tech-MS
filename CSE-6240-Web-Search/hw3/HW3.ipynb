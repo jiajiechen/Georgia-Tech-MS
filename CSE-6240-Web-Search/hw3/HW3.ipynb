{
 "cells": [
  {
   "cell_type": "markdown",
   "metadata": {},
   "source": [
    "# Question 1"
   ]
  },
  {
   "cell_type": "code",
   "execution_count": null,
   "metadata": {
    "collapsed": true
   },
   "outputs": [],
   "source": [
    "#OASIS\n",
    "\n",
    "def fit_batch(W, X, train, n_iter, verbose=False):\n",
    "    loss_steps_batch = np.empty((n_iter,), dtype='bool')\n",
    "    n_samples, n_features = X.shape\n",
    "\n",
    "    assert(W.shape[0] == n_features)\n",
    "    assert(W.shape[1] == n_features)\n",
    "\n",
    "    for ii in xrange(n_iter):\n",
    "\n",
    "        # Sample a query image\n",
    "        p_ind = train[ii,:][0]\n",
    "\n",
    "        # Draw random positive sample\n",
    "        pos_ind = train[ii,:][1]\n",
    "\n",
    "        # Draw random negative sample\n",
    "        neg_ind = train[ii,:][2]\n",
    "\n",
    "        p = X[p_ind]\n",
    "\n",
    "        samples_delta = X[pos_ind] - X[neg_ind]\n",
    "\n",
    "        p = p.toarray().reshape(-1)\n",
    "        samples_delta = samples_delta.toarray().reshape(-1)\n",
    "\n",
    "        loss = max(0, 1 - p.dot(W).dot(samples_delta))\n",
    "\n",
    "        if loss > 0:\n",
    "            # Update W\n",
    "            grad_W = np.outer(p, samples_delta)\n",
    "\n",
    "            loss_steps_batch[ii] = True\n",
    "\n",
    "            norm_grad_W = (np.linalg.norm(p) ** 2) * (np.linalg.norm(samples_delta) ** 2)\n",
    "\n",
    "            # constraint on the maximal update step size\n",
    "            tau_val = loss / norm_grad_W  # loss / (V*V.T)\n",
    "            tau = np.minimum(1, tau_val)            \n",
    "            W += tau * grad_W\n",
    "\n",
    "            if verbose:\n",
    "                if np.mod(ii + 1, 50) == 0:\n",
    "                    print \"Updated W at step %d\" % ii\n",
    "#                     print \"at step %d\" % (ii + 1),\n",
    "#                     print \"now total loss is %f\" % totalLoss(W, Matrix, train_feature, n_iter)\n",
    "\n",
    "    return W"
   ]
  },
  {
   "cell_type": "code",
   "execution_count": null,
   "metadata": {
    "collapsed": true
   },
   "outputs": [],
   "source": [
    "def totalLoss(W, X, train, n_iter):\n",
    "    total_loss = 0\n",
    "    for jj in xrange(n_iter):\n",
    "        p_ind2 = train.values[jj,:][0]\n",
    "        pos_ind2 = train.values[jj,:][1]\n",
    "        neg_ind2 = train.values[jj,:][2]\n",
    "\n",
    "        p = X[p_ind2]\n",
    "        samples_delta2 = X[pos_ind2] - X[neg_ind2]\n",
    "        p = p.toarray().reshape(-1)\n",
    "        samples_delta2 = samples_delta2.toarray().reshape(-1)\n",
    "        loss2 = max(0, 1 - p.dot(W).dot(samples_delta2))\n",
    "        total_loss += loss2\n",
    "\n",
    "    return total_loss"
   ]
  },
  {
   "cell_type": "markdown",
   "metadata": {},
   "source": [
    "# Question 2"
   ]
  },
  {
   "cell_type": "code",
   "execution_count": 1,
   "metadata": {
    "collapsed": true
   },
   "outputs": [],
   "source": [
    "from scipy.sparse import csr_matrix\n",
    "import numpy as np\n",
    "import random\n",
    "from scipy.stats import pearsonr\n",
    "from operator import itemgetter\n",
    "from sklearn.cross_validation import train_test_split\n",
    "import pandas as pd"
   ]
  },
  {
   "cell_type": "markdown",
   "metadata": {},
   "source": [
    "## 2a Create Data"
   ]
  },
  {
   "cell_type": "code",
   "execution_count": 18,
   "metadata": {
    "collapsed": false
   },
   "outputs": [
    {
     "name": "stdout",
     "output_type": "stream",
     "text": [
      "3430 6906 353160\n"
     ]
    }
   ],
   "source": [
    "## Preprocessing the data\n",
    "f = open(\"docword.kos.txt\", \"r\")\n",
    "\n",
    "m = int(f.readline()) #numberOfDocuments\n",
    "n = int(f.readline()) #numberOfWords\n",
    "total = int(f.readline()) #numberOfTotalLines\n",
    "\n",
    "print m, n, total\n",
    "\n",
    "row = []\n",
    "col = []\n",
    "val = []\n",
    "\n",
    "for line in f:\n",
    "    s = line.split()\n",
    "    if len(s) == 3:\n",
    "        i = int(s[0]) - 1\n",
    "        j = int(s[1]) - 1\n",
    "        v = int(s[2])\n",
    "        row.append(i)\n",
    "        col.append(j)\n",
    "        val.append(v)\n",
    "\n",
    "f.close()\n",
    "\n",
    "Matrix = csr_matrix((val, (row, col)), shape = (m, n), dtype=np.int8) #questionmark"
   ]
  },
  {
   "cell_type": "code",
   "execution_count": 2,
   "metadata": {
    "collapsed": false
   },
   "outputs": [],
   "source": [
    "def sample(query):\n",
    "    random.seed(19930228)\n",
    "    trial = random.sample(range(0,m), 5)\n",
    "    while query in trial:\n",
    "        trial = random.sample(range(0,m), 5)\n",
    "    return random.sample(range(0,m), 5)"
   ]
  },
  {
   "cell_type": "code",
   "execution_count": 52,
   "metadata": {
    "collapsed": false,
    "scrolled": true
   },
   "outputs": [
    {
     "data": {
      "text/plain": [
       "(3430, 6906)"
      ]
     },
     "execution_count": 52,
     "metadata": {},
     "output_type": "execute_result"
    }
   ],
   "source": [
    "Matrix.shape # problem"
   ]
  },
  {
   "cell_type": "code",
   "execution_count": 9,
   "metadata": {
    "collapsed": false
   },
   "outputs": [],
   "source": [
    "f = open(\"data.txt\", \"w\")\n",
    "\n",
    "for i in xrange(1, m):\n",
    "    tripleList = []\n",
    "    qList = sample(i)\n",
    "    for j in qList:\n",
    "        tripleList.append((i, j, pearsonr(Matrix[i].toarray().reshape(-1), \n",
    "                                          Matrix[j].toarray().reshape(-1))[0]))\n",
    "    tripleList = sorted(tripleList, \n",
    "                        key=itemgetter(2))\n",
    "\n",
    "    for u in xrange(5):\n",
    "        for v in range(u+1, 5):\n",
    "            f.write( str(tripleList[v][0]) + \",\" \n",
    "                    + str(tripleList[v][1]) + \",\" \n",
    "                    + str(tripleList[u][1]) + \",\" \n",
    "                    + str(tripleList[v][2]) + \",\" \n",
    "                    + str(tripleList[u][2]) + \"\\n\")\n",
    "\n",
    "f.close()"
   ]
  },
  {
   "cell_type": "code",
   "execution_count": 10,
   "metadata": {
    "collapsed": true
   },
   "outputs": [],
   "source": [
    "del(qList)\n",
    "del(Matrix)\n",
    "del(tripleList)"
   ]
  },
  {
   "cell_type": "code",
   "execution_count": 19,
   "metadata": {
    "collapsed": false
   },
   "outputs": [],
   "source": [
    "## implement OASIS\n",
    "data = pd.read_csv(\"data.txt\", sep = \",\", \n",
    "                   header = None, \n",
    "                   names = [\"q\", \"q+\", \"q-\", \"s+\", \"s-\"])\n",
    "\n",
    "train, test = train_test_split(data, test_size=0.2, random_state=42)\n",
    "\n",
    "del(data)"
   ]
  },
  {
   "cell_type": "code",
   "execution_count": 20,
   "metadata": {
    "collapsed": false
   },
   "outputs": [],
   "source": [
    "train_feature = train.iloc[:,0:3]\n",
    "train_label = train.iloc[:,3:]"
   ]
  },
  {
   "cell_type": "code",
   "execution_count": 21,
   "metadata": {
    "collapsed": true
   },
   "outputs": [],
   "source": [
    "test_feature = test.iloc[:,0:3]"
   ]
  },
  {
   "cell_type": "markdown",
   "metadata": {},
   "source": [
    "## 2b Objective Function Optimization Check"
   ]
  },
  {
   "cell_type": "code",
   "execution_count": 226,
   "metadata": {
    "collapsed": false
   },
   "outputs": [],
   "source": []
  },
  {
   "cell_type": "code",
   "execution_count": 227,
   "metadata": {
    "collapsed": true
   },
   "outputs": [],
   "source": []
  },
  {
   "cell_type": "code",
   "execution_count": 168,
   "metadata": {
    "collapsed": false,
    "scrolled": false
   },
   "outputs": [
    {
     "name": "stdout",
     "output_type": "stream",
     "text": [
      "Updated W at step 13,             now total lose is 263.498481\n",
      "Updated W at step 17,             now total lose is 260.463517\n",
      "Updated W at step 26,             now total lose is 256.983649\n",
      "Updated W at step 28,             now total lose is 207.573836\n",
      "Updated W at step 31,             now total lose is 203.281550\n",
      "Updated W at step 33,             now total lose is 198.717079\n",
      "Updated W at step 38,             now total lose is 158.074589\n",
      "Updated W at step 43,             now total lose is 141.759210\n",
      "Updated W at step 53,             now total lose is 132.020290\n",
      "Updated W at step 56,             now total lose is 125.144275\n",
      "Updated W at step 67,             now total lose is 125.188515\n",
      "Updated W at step 70,             now total lose is 114.223517\n",
      "Updated W at step 72,             now total lose is 86.753813\n",
      "Updated W at step 78,             now total lose is 78.392822\n",
      "Updated W at step 80,             now total lose is 68.069865\n",
      "Updated W at step 83,             now total lose is 66.803761\n",
      "Updated W at step 90,             now total lose is 65.941126\n",
      "Updated W at step 109,             now total lose is 63.042305\n",
      "Updated W at step 111,             now total lose is 59.138511\n",
      "Updated W at step 115,             now total lose is 57.647864\n",
      "Updated W at step 117,             now total lose is 54.772685\n",
      "Updated W at step 120,             now total lose is 52.722143\n",
      "Updated W at step 122,             now total lose is 50.017903\n",
      "Updated W at step 125,             now total lose is 49.074973\n",
      "Updated W at step 127,             now total lose is 46.236808\n",
      "Updated W at step 131,             now total lose is 43.604859\n",
      "Updated W at step 132,             now total lose is 41.892852\n",
      "Updated W at step 142,             now total lose is 41.051832\n",
      "Updated W at step 149,             now total lose is 33.258103\n",
      "Updated W at step 150,             now total lose is 31.647426\n",
      "Updated W at step 152,             now total lose is 31.174517\n",
      "Updated W at step 155,             now total lose is 27.936233\n",
      "Updated W at step 160,             now total lose is 25.460335\n",
      "Updated W at step 163,             now total lose is 24.454851\n",
      "Updated W at step 173,             now total lose is 23.976426\n",
      "Updated W at step 175,             now total lose is 19.621362\n",
      "Updated W at step 179,             now total lose is 18.632333\n",
      "Updated W at step 182,             now total lose is 2.320787\n"
     ]
    }
   ],
   "source": [
    "W = np.eye(6906)\n",
    "\n",
    "W = fit_batch(W, Matrix, train_feature.values, 200, verbose=False)"
   ]
  },
  {
   "cell_type": "markdown",
   "metadata": {
    "collapsed": true
   },
   "source": [
    "Without loss of generality, I use the first 200 train data as a subsample to test my algorithm. As you can see, the total loss keeps decreasing when I update the matrix W according to the OASIS algorithm."
   ]
  },
  {
   "cell_type": "code",
   "execution_count": 293,
   "metadata": {
    "collapsed": false
   },
   "outputs": [
    {
     "data": {
      "image/png": "[encoded data removed]",
      "text/plain": [
       "<IPython.core.display.Image object>"
      ]
     },
     "execution_count": 293,
     "metadata": {
      "image/png": {
       "width": 500
      }
     },
     "output_type": "execute_result"
    }
   ],
   "source": [
    "from IPython.display import Image\n",
    "\n",
    "Image(filename='img1.PNG', width=500)"
   ]
  },
  {
   "cell_type": "markdown",
   "metadata": {},
   "source": [
    "## 2c Implement optimization and plot train error and test error"
   ]
  },
  {
   "cell_type": "code",
   "execution_count": 199,
   "metadata": {
    "collapsed": false,
    "scrolled": true
   },
   "outputs": [
    {
     "name": "stdout",
     "output_type": "stream",
     "text": [
      "Updated W at step 109\n",
      "Updated W at step 149\n",
      "Updated W at step 179\n",
      "Updated W at step 259\n",
      "Updated W at step 289\n",
      "Updated W at step 379\n",
      "Updated W at step 509\n",
      "Updated W at step 559\n",
      "Updated W at step 579\n",
      "Updated W at step 619\n",
      "Updated W at step 629\n",
      "Updated W at step 729\n",
      "Updated W at step 869\n",
      "Updated W at step 929\n",
      "Updated W at step 1029\n",
      "Updated W at step 1069\n",
      "Updated W at step 1089\n",
      "Updated W at step 1219\n",
      "Updated W at step 1249\n",
      "Updated W at step 1329\n",
      "Updated W at step 1469\n",
      "Updated W at step 1489\n",
      "Updated W at step 1499\n",
      "Updated W at step 1589\n",
      "Updated W at step 1769\n",
      "Updated W at step 1839\n",
      "Updated W at step 1979\n",
      "Updated W at step 2079\n",
      "Updated W at step 2109\n",
      "Updated W at step 2199\n",
      "Updated W at step 2249\n",
      "Updated W at step 2349\n",
      "Updated W at step 2359\n",
      "Updated W at step 2389\n",
      "Updated W at step 2429\n",
      "Updated W at step 2519\n",
      "Updated W at step 2649\n",
      "Updated W at step 2709\n",
      "Updated W at step 2719\n",
      "Updated W at step 2799\n",
      "Updated W at step 2969\n",
      "Updated W at step 3179\n",
      "Updated W at step 3359\n",
      "Updated W at step 3379\n",
      "Updated W at step 3439\n",
      "Updated W at step 3539\n",
      "Updated W at step 3589\n",
      "Updated W at step 3619\n",
      "Updated W at step 3649\n",
      "Updated W at step 3699\n",
      "Updated W at step 3709\n",
      "Updated W at step 3719\n",
      "Updated W at step 3749\n",
      "Updated W at step 3789\n",
      "Updated W at step 3839\n",
      "Updated W at step 3849\n",
      "Updated W at step 4009\n",
      "Updated W at step 4149\n",
      "Updated W at step 4229\n",
      "Updated W at step 4339\n",
      "Updated W at step 4379\n",
      "Updated W at step 4539\n",
      "Updated W at step 4719\n",
      "Updated W at step 4769\n",
      "Updated W at step 4779\n",
      "Updated W at step 4829\n",
      "Updated W at step 4889\n",
      "Updated W at step 4919\n",
      "Updated W at step 5009\n",
      "Updated W at step 5079\n",
      "Updated W at step 5099\n",
      "Updated W at step 5149\n",
      "Updated W at step 5329\n",
      "Updated W at step 5359\n",
      "Updated W at step 5579\n",
      "Updated W at step 5599\n",
      "Updated W at step 5679\n",
      "Updated W at step 5789\n",
      "Updated W at step 5849\n",
      "Updated W at step 5899\n",
      "Updated W at step 6049\n",
      "Updated W at step 6059\n",
      "Updated W at step 6239\n",
      "Updated W at step 6279\n",
      "Updated W at step 6409\n",
      "Updated W at step 6439\n",
      "Updated W at step 6449\n",
      "Updated W at step 6499\n",
      "Updated W at step 6519\n",
      "Updated W at step 6619\n",
      "Updated W at step 6629\n",
      "Updated W at step 6679\n",
      "Updated W at step 6709\n",
      "Updated W at step 6719\n",
      "Updated W at step 6769\n",
      "Updated W at step 6829\n",
      "Updated W at step 7069\n",
      "Updated W at step 7139\n",
      "Updated W at step 7149\n",
      "Updated W at step 7219\n",
      "Updated W at step 7549\n",
      "Updated W at step 7659\n",
      "Updated W at step 7669\n",
      "Updated W at step 7679\n",
      "Updated W at step 7729\n",
      "Updated W at step 7899\n",
      "Updated W at step 7929\n",
      "Updated W at step 7959\n",
      "Updated W at step 8229\n",
      "Updated W at step 8339\n",
      "Updated W at step 8459\n",
      "Updated W at step 8549\n",
      "Updated W at step 8669\n",
      "Updated W at step 8759\n",
      "Updated W at step 8779\n",
      "Updated W at step 8839\n",
      "Updated W at step 8899\n",
      "Updated W at step 9019\n",
      "Updated W at step 9049\n",
      "Updated W at step 9109\n",
      "Updated W at step 9459\n",
      "Updated W at step 9509\n",
      "Updated W at step 9559\n",
      "Updated W at step 9599\n",
      "Updated W at step 9689\n",
      "Updated W at step 9729\n",
      "Updated W at step 9779\n",
      "Updated W at step 9799\n",
      "Updated W at step 9859\n",
      "Updated W at step 9909\n",
      "Updated W at step 9959\n",
      "Updated W at step 10039\n",
      "Updated W at step 10209\n",
      "Updated W at step 10259\n",
      "Updated W at step 10419\n",
      "Updated W at step 10489\n",
      "Updated W at step 10509\n",
      "Updated W at step 10539\n",
      "Updated W at step 10679\n",
      "Updated W at step 10789\n",
      "Updated W at step 10959\n",
      "Updated W at step 10999\n",
      "Updated W at step 11089\n",
      "Updated W at step 11119\n",
      "Updated W at step 11749\n",
      "Updated W at step 11919\n",
      "Updated W at step 11929\n",
      "Updated W at step 12039\n",
      "Updated W at step 12069\n",
      "Updated W at step 12079\n",
      "Updated W at step 12129\n",
      "Updated W at step 12379\n",
      "Updated W at step 12799\n",
      "Updated W at step 12819\n",
      "Updated W at step 12869\n",
      "Updated W at step 13049\n",
      "Updated W at step 13079\n",
      "Updated W at step 13179\n",
      "Updated W at step 13619\n",
      "Updated W at step 13709\n",
      "Updated W at step 13839\n",
      "Updated W at step 13879\n",
      "Updated W at step 13919\n",
      "Updated W at step 14069\n",
      "Updated W at step 14099\n",
      "Updated W at step 14349\n",
      "Updated W at step 14389\n",
      "Updated W at step 14569\n",
      "Updated W at step 14589\n",
      "Updated W at step 14719\n",
      "Updated W at step 14739\n",
      "Updated W at step 14799\n",
      "Updated W at step 14839\n",
      "Updated W at step 14849\n",
      "Updated W at step 15149\n",
      "Updated W at step 15489\n",
      "Updated W at step 15549\n",
      "Updated W at step 15589\n",
      "Updated W at step 16159\n",
      "Updated W at step 16239\n",
      "Updated W at step 16289\n",
      "Updated W at step 16339\n",
      "Updated W at step 16349\n",
      "Updated W at step 16379\n",
      "Updated W at step 16409\n",
      "Updated W at step 16449\n",
      "Updated W at step 16479\n",
      "Updated W at step 16629\n",
      "Updated W at step 16679\n",
      "Updated W at step 16859\n",
      "Updated W at step 16869\n",
      "Updated W at step 17019\n",
      "Updated W at step 17149\n",
      "Updated W at step 17159\n",
      "Updated W at step 17329\n",
      "Updated W at step 17419\n",
      "Updated W at step 17499\n",
      "Updated W at step 17559\n",
      "Updated W at step 17819\n",
      "Updated W at step 17859\n",
      "Updated W at step 17929\n",
      "Updated W at step 17949\n",
      "Updated W at step 18249\n",
      "Updated W at step 18309\n",
      "Updated W at step 18379\n",
      "Updated W at step 18479\n",
      "Updated W at step 18509\n",
      "Updated W at step 18519\n",
      "Updated W at step 18639\n",
      "Updated W at step 18659\n",
      "Updated W at step 18699\n",
      "Updated W at step 18719\n",
      "Updated W at step 18729\n",
      "Updated W at step 18829\n",
      "Updated W at step 18839\n",
      "Updated W at step 18879\n",
      "Updated W at step 18989\n",
      "Updated W at step 19089\n",
      "Updated W at step 19149\n",
      "Updated W at step 19209\n",
      "Updated W at step 19229\n",
      "Updated W at step 19259\n",
      "Updated W at step 19269\n",
      "Updated W at step 19299\n",
      "Updated W at step 19349\n",
      "Updated W at step 19439\n",
      "Updated W at step 19449\n",
      "Updated W at step 19609\n",
      "Updated W at step 19839\n",
      "Updated W at step 19919\n",
      "Updated W at step 20039\n",
      "Updated W at step 20099\n",
      "Updated W at step 20259\n",
      "Updated W at step 20489\n",
      "Updated W at step 20609\n",
      "Updated W at step 20779\n",
      "Updated W at step 20789\n",
      "Updated W at step 20869\n",
      "Updated W at step 20889\n",
      "Updated W at step 20899\n",
      "Updated W at step 20919\n",
      "Updated W at step 21119\n",
      "Updated W at step 21129\n",
      "Updated W at step 21159\n",
      "Updated W at step 21199\n",
      "Updated W at step 21289\n",
      "Updated W at step 21419\n",
      "Updated W at step 21509\n",
      "Updated W at step 21619\n",
      "Updated W at step 21629\n",
      "Updated W at step 21749\n",
      "Updated W at step 21799\n",
      "Updated W at step 21829\n",
      "Updated W at step 21879\n",
      "Updated W at step 21939\n",
      "Updated W at step 22179\n",
      "Updated W at step 22249\n",
      "Updated W at step 22389\n",
      "Updated W at step 22399\n",
      "Updated W at step 22469\n",
      "Updated W at step 22639\n",
      "Updated W at step 22669\n",
      "Updated W at step 22689\n",
      "Updated W at step 22879\n",
      "Updated W at step 22939\n",
      "Updated W at step 22989\n",
      "Updated W at step 23209\n",
      "Updated W at step 23249\n",
      "Updated W at step 23259\n",
      "Updated W at step 23329\n",
      "Updated W at step 23529\n",
      "Updated W at step 23609\n",
      "Updated W at step 23689\n",
      "Updated W at step 23729\n",
      "Updated W at step 23759\n",
      "Updated W at step 23859\n",
      "Updated W at step 23979\n",
      "Updated W at step 24019\n",
      "Updated W at step 24039\n",
      "Updated W at step 24319\n",
      "Updated W at step 24359\n",
      "Updated W at step 24409\n",
      "Updated W at step 24639\n",
      "Updated W at step 24829\n",
      "Updated W at step 24839\n",
      "Updated W at step 24939\n",
      "Updated W at step 24969\n",
      "Updated W at step 25199\n",
      "Updated W at step 25209\n",
      "Updated W at step 25279\n",
      "Updated W at step 25439\n",
      "Updated W at step 25479\n",
      "Updated W at step 25489\n",
      "Updated W at step 25549\n",
      "Updated W at step 25709\n",
      "Updated W at step 25799\n",
      "Updated W at step 25839\n",
      "Updated W at step 25859\n",
      "Updated W at step 25959\n",
      "Updated W at step 26099\n",
      "Updated W at step 26179\n",
      "Updated W at step 26219\n",
      "Updated W at step 26229\n",
      "Updated W at step 26329\n",
      "Updated W at step 26359\n",
      "Updated W at step 26519\n",
      "Updated W at step 26549\n",
      "Updated W at step 26659\n",
      "Updated W at step 26669\n",
      "Updated W at step 26759\n",
      "Updated W at step 26799\n",
      "Updated W at step 26859\n",
      "Updated W at step 26989\n",
      "Updated W at step 27049\n",
      "Updated W at step 27099\n",
      "Updated W at step 27169\n",
      "Updated W at step 27209\n",
      "Updated W at step 27229\n",
      "Updated W at step 27239\n",
      "Updated W at step 27289\n",
      "Updated W at step 27369\n",
      "Updated W at step 27409\n"
     ]
    }
   ],
   "source": [
    "n = train_feature.values.shape[0] \n",
    "\n",
    "W = np.eye(6906)\n",
    "\n",
    "# shows updating info occasionally, not everytime, just to make sure the algorithm runs normally\n",
    "W = fit_batch(W, Matrix, train_feature.values, n, verbose=True)"
   ]
  },
  {
   "cell_type": "code",
   "execution_count": 206,
   "metadata": {
    "collapsed": false,
    "scrolled": true
   },
   "outputs": [
    {
     "name": "stdout",
     "output_type": "stream",
     "text": [
      "[[  1.00000000e+00   0.00000000e+00   0.00000000e+00   0.00000000e+00\n",
      "    0.00000000e+00   0.00000000e+00   0.00000000e+00   0.00000000e+00\n",
      "    0.00000000e+00   0.00000000e+00]\n",
      " [  0.00000000e+00   1.00000000e+00   0.00000000e+00   0.00000000e+00\n",
      "    0.00000000e+00   0.00000000e+00   0.00000000e+00   0.00000000e+00\n",
      "    0.00000000e+00   0.00000000e+00]\n",
      " [  0.00000000e+00   0.00000000e+00   1.00000000e+00   0.00000000e+00\n",
      "    0.00000000e+00   0.00000000e+00   0.00000000e+00   0.00000000e+00\n",
      "    0.00000000e+00   0.00000000e+00]\n",
      " [  0.00000000e+00   0.00000000e+00   0.00000000e+00   1.00000000e+00\n",
      "    0.00000000e+00   0.00000000e+00   0.00000000e+00   0.00000000e+00\n",
      "    0.00000000e+00   0.00000000e+00]\n",
      " [  0.00000000e+00   0.00000000e+00   0.00000000e+00   0.00000000e+00\n",
      "    1.00000000e+00   0.00000000e+00   0.00000000e+00   0.00000000e+00\n",
      "    0.00000000e+00   0.00000000e+00]\n",
      " [  0.00000000e+00   0.00000000e+00  -1.98662310e-04   0.00000000e+00\n",
      "    0.00000000e+00   1.00000000e+00   0.00000000e+00   0.00000000e+00\n",
      "    0.00000000e+00   0.00000000e+00]\n",
      " [  0.00000000e+00   0.00000000e+00   0.00000000e+00   0.00000000e+00\n",
      "    0.00000000e+00   0.00000000e+00   1.00000000e+00   0.00000000e+00\n",
      "    0.00000000e+00   0.00000000e+00]\n",
      " [  0.00000000e+00   0.00000000e+00   0.00000000e+00   0.00000000e+00\n",
      "    0.00000000e+00   0.00000000e+00   0.00000000e+00   1.00000000e+00\n",
      "    0.00000000e+00   0.00000000e+00]\n",
      " [  0.00000000e+00   0.00000000e+00   0.00000000e+00   0.00000000e+00\n",
      "    0.00000000e+00   0.00000000e+00   0.00000000e+00   0.00000000e+00\n",
      "    1.00000000e+00   0.00000000e+00]\n",
      " [  0.00000000e+00   0.00000000e+00   0.00000000e+00   0.00000000e+00\n",
      "    0.00000000e+00   0.00000000e+00   0.00000000e+00   0.00000000e+00\n",
      "    0.00000000e+00   1.00000000e+00]]\n"
     ]
    }
   ],
   "source": [
    "print W[0:10,0:10]"
   ]
  },
  {
   "cell_type": "code",
   "execution_count": 201,
   "metadata": {
    "collapsed": false
   },
   "outputs": [],
   "source": [
    "# store the W\n",
    "np.savetxt(\"W_result.txt\", W)"
   ]
  },
  {
   "cell_type": "code",
   "execution_count": 23,
   "metadata": {
    "collapsed": true
   },
   "outputs": [],
   "source": [
    "def predict_evaluate(W, X, data, n):\n",
    "    result = np.empty((n,), dtype='bool')\n",
    "    for jj in xrange(n):\n",
    "        p_ind2 = data[jj,:][0]\n",
    "        pos_ind2 = data[jj,:][1]\n",
    "        neg_ind2 = data[jj,:][2]\n",
    "        \n",
    "        p = X[p_ind2].toarray().reshape(-1)\n",
    "        p_pos = X[pos_ind2].toarray().reshape(-1)\n",
    "        p_neg = X[neg_ind2].toarray().reshape(-1)\n",
    "                \n",
    "        if (p.dot(W).dot(p_pos) > p.dot(W).dot(p_neg)):\n",
    "            result[jj] = True\n",
    "#             print jj, result[jj], \"boo\"\n",
    "\n",
    "    return result"
   ]
  },
  {
   "cell_type": "code",
   "execution_count": null,
   "metadata": {
    "collapsed": true
   },
   "outputs": [],
   "source": [
    "W = np.loadtxt(\"W_result.txt\")"
   ]
  },
  {
   "cell_type": "code",
   "execution_count": 268,
   "metadata": {
    "collapsed": false
   },
   "outputs": [],
   "source": [
    "## need a way to calculate train err and test err\n",
    "n = train_feature.values.shape[0]\n",
    "train_result = predict_evaluate(W, Matrix, train_feature.values, n)"
   ]
  },
  {
   "cell_type": "code",
   "execution_count": 275,
   "metadata": {
    "collapsed": false
   },
   "outputs": [
    {
     "name": "stdout",
     "output_type": "stream",
     "text": [
      "the training accuracy is = 0.97838291047\n"
     ]
    }
   ],
   "source": [
    "print \"the training accuracy is =\", (1.0 * (sum(train_result))/len(train_result))"
   ]
  },
  {
   "cell_type": "code",
   "execution_count": 273,
   "metadata": {
    "collapsed": true
   },
   "outputs": [],
   "source": [
    "n = test_feature.values.shape[0] \n",
    "test_result = predict_evaluate(W, Matrix, test_feature.values, n)"
   ]
  },
  {
   "cell_type": "code",
   "execution_count": 276,
   "metadata": {
    "collapsed": false
   },
   "outputs": [
    {
     "name": "stdout",
     "output_type": "stream",
     "text": [
      "the testing accuracy is = 0.958734324876\n"
     ]
    }
   ],
   "source": [
    "print \"the testing accuracy is =\",(1.0 * sum(test_result) / len(test_result))"
   ]
  },
  {
   "cell_type": "code",
   "execution_count": 277,
   "metadata": {
    "collapsed": false
   },
   "outputs": [
    {
     "name": "stdout",
     "output_type": "stream",
     "text": [
      "the training error is = 0.0216170895305\n",
      "the test error is = 0.0412656751239\n"
     ]
    }
   ],
   "source": [
    "print \"the training error is =\", 1-(1.0 * (sum(train_result))/len(train_result))\n",
    "print \"the test error is =\", 1-(1.0 * (sum(test_result))/len(test_result))"
   ]
  },
  {
   "cell_type": "markdown",
   "metadata": {},
   "source": [
    "> Ploting train err verses iterations\n",
    "\n",
    "Because lack of time, we design a scheme that only use a small subsample of data in order to show you the pattern.\n",
    "\n",
    "We decided to use size of 1200 as training, and size of 400 as test. To implement that, we need to modify the util function we defined before. As follows"
   ]
  },
  {
   "cell_type": "code",
   "execution_count": 289,
   "metadata": {
    "collapsed": false
   },
   "outputs": [
    {
     "data": {
      "text/plain": [
       "array([ 200,  450,  700,  950, 1200])"
      ]
     },
     "execution_count": 289,
     "metadata": {},
     "output_type": "execute_result"
    }
   ],
   "source": [
    "np.arange(200, 1450, 250)"
   ]
  },
  {
   "cell_type": "code",
   "execution_count": 290,
   "metadata": {
    "collapsed": false
   },
   "outputs": [],
   "source": [
    "def main():\n",
    "    train_err_collection = []\n",
    "    test_err_collection = []\n",
    "\n",
    "    for n in np.arange(200, 1450, 250):\n",
    "        \n",
    "        W = np.eye(6906)\n",
    "\n",
    "        # shows updating info occasionally, not everytime, just to make sure the algorithm runs normally\n",
    "        W = fit_batch(W, Matrix, train_feature.values, n, verbose=False)\n",
    "\n",
    "        train_result = predict_evaluate(W, Matrix, train_feature.values, 1200)\n",
    "        test_result = predict_evaluate(W, Matrix, test_feature.values, 200)\n",
    "\n",
    "        train_err = 1-(1.0 * (sum(train_result))/len(train_result))\n",
    "        test_err = 1-(1.0 * (sum(test_result))/len(test_result))\n",
    "        train_err_collection.append(train_err)\n",
    "        test_err_collection.append(test_err)\n",
    "        print \"the training error is =\", train_err\n",
    "        print \"the test error is =\", test_err\n",
    "        print \"\\n\"\n",
    "        \n",
    "    return train_err_collection, test_err_collection"
   ]
  },
  {
   "cell_type": "code",
   "execution_count": 291,
   "metadata": {
    "collapsed": false
   },
   "outputs": [
    {
     "name": "stdout",
     "output_type": "stream",
     "text": [
      "the training error is = 0.0575\n",
      "the test error is = 0.0\n",
      "\n",
      "\n",
      "the training error is = 0.0325\n",
      "the test error is = 0.0\n",
      "\n",
      "\n",
      "the training error is = 0.0308333333333\n",
      "the test error is = 0.0\n",
      "\n",
      "\n",
      "the training error is = 0.025\n",
      "the test error is = 0.0\n",
      "\n",
      "\n",
      "the training error is = 0.00666666666667\n",
      "the test error is = 0.0\n",
      "\n",
      "\n"
     ]
    }
   ],
   "source": [
    "train_err_collection, test_err_collection = main()"
   ]
  },
  {
   "cell_type": "markdown",
   "metadata": {},
   "source": [
    "## 3a Enforce W matrix to be symm"
   ]
  },
  {
   "cell_type": "code",
   "execution_count": 307,
   "metadata": {
    "collapsed": true
   },
   "outputs": [],
   "source": [
    "W = np.loadtxt(\"W_result.txt\")"
   ]
  },
  {
   "cell_type": "code",
   "execution_count": 308,
   "metadata": {
    "collapsed": false
   },
   "outputs": [],
   "source": [
    "def symmetrize(W):\n",
    "    return 0.5 * (W + W.T)"
   ]
  },
  {
   "cell_type": "code",
   "execution_count": 313,
   "metadata": {
    "collapsed": false
   },
   "outputs": [
    {
     "data": {
      "text/plain": [
       "array([[ 1. ,  1.5],\n",
       "       [ 1.5,  2. ]])"
      ]
     },
     "execution_count": 313,
     "metadata": {},
     "output_type": "execute_result"
    }
   ],
   "source": [
    "test = np.array([(1,2),(1,2)])\n",
    "test = symmetrize(test)\n",
    "test"
   ]
  },
  {
   "cell_type": "code",
   "execution_count": 314,
   "metadata": {
    "collapsed": false
   },
   "outputs": [
    {
     "name": "stdout",
     "output_type": "stream",
     "text": [
      "the training error is = 0.0976596675416\n",
      "the test error is = 0.111256926218\n"
     ]
    }
   ],
   "source": [
    "W = symmetrize(W)\n",
    "## need a way to calculate train err and test err\n",
    "n = train_feature.values.shape[0]\n",
    "train_result = predict_evaluate(W, Matrix, train_feature.values, n)\n",
    "\n",
    "n = test_feature.values.shape[0] \n",
    "test_result = predict_evaluate(W, Matrix, test_feature.values, n)\n",
    "\n",
    "print \"the training error is =\", 1-(1.0 * (sum(train_result))/len(train_result))\n",
    "print \"the test error is =\", 1-(1.0 * (sum(test_result))/len(test_result))"
   ]
  },
  {
   "cell_type": "markdown",
   "metadata": {},
   "source": [
    "## 4a Enforce PSD"
   ]
  },
  {
   "cell_type": "code",
   "execution_count": 294,
   "metadata": {
    "collapsed": true
   },
   "outputs": [],
   "source": [
    "# def make_psd(W):\n",
    "#     \"\"\" Make matrix positive semi-definite. \"\"\"\n",
    "#     w, v = np.linalg.eig(0.5 * (W + W.T))  # eigvec in columns\n",
    "#     D = np.diagflat(np.maximum(w, 0))\n",
    "#     W[:] = np.dot(np.dot(v, D), v.T)"
   ]
  },
  {
   "cell_type": "code",
   "execution_count": 2,
   "metadata": {
    "collapsed": false
   },
   "outputs": [],
   "source": [
    "W = np.loadtxt(\"W_result.txt\")"
   ]
  },
  {
   "cell_type": "code",
   "execution_count": 3,
   "metadata": {
    "collapsed": false
   },
   "outputs": [],
   "source": [
    "w, v = np.linalg.eig(0.5 * (W + W.T))"
   ]
  },
  {
   "cell_type": "code",
   "execution_count": 7,
   "metadata": {
    "collapsed": false
   },
   "outputs": [
    {
     "name": "stderr",
     "output_type": "stream",
     "text": [
      "/Users/jiajiechen/anaconda2/lib/python2.7/site-packages/ipykernel/__main__.py:1: ComplexWarning: Casting complex values to real discards the imaginary part\n",
      "  if __name__ == '__main__':\n"
     ]
    }
   ],
   "source": [
    "D = np.linalg.cholesky(np.diagflat(w[0:5])).astype(float)"
   ]
  },
  {
   "cell_type": "code",
   "execution_count": 16,
   "metadata": {
    "collapsed": false
   },
   "outputs": [
    {
     "name": "stderr",
     "output_type": "stream",
     "text": [
      "/Users/jiajiechen/anaconda2/lib/python2.7/site-packages/ipykernel/__main__.py:1: ComplexWarning: Casting complex values to real discards the imaginary part\n",
      "  if __name__ == '__main__':\n"
     ]
    }
   ],
   "source": [
    "W = v[:,0:5].astype(float).dot(D).dot(v[:,0:5].astype(float).T)"
   ]
  },
  {
   "cell_type": "code",
   "execution_count": 25,
   "metadata": {
    "collapsed": false
   },
   "outputs": [
    {
     "name": "stdout",
     "output_type": "stream",
     "text": [
      "the training accuracy is = 0.858012540099\n",
      "the testing accuracy is = 0.800816564596\n"
     ]
    }
   ],
   "source": [
    "## need a way to calculate train err and test err\n",
    "n = train_feature.values.shape[0]\n",
    "train_result = predict_evaluate(W, Matrix, train_feature.values, n)\n",
    "print \"the training accuracy is =\", (1.0 * (sum(train_result))/len(train_result))\n",
    "\n",
    "n = test_feature.values.shape[0] \n",
    "test_result = predict_evaluate(W, Matrix, test_feature.values, n)\n",
    "print \"the testing accuracy is =\",(1.0 * sum(test_result) / len(test_result))"
   ]
  },
  {
   "cell_type": "code",
   "execution_count": 26,
   "metadata": {
    "collapsed": false
   },
   "outputs": [
    {
     "name": "stdout",
     "output_type": "stream",
     "text": [
      "the training error is = 0.141987459901\n",
      "the test error is = 0.199183435404\n"
     ]
    }
   ],
   "source": [
    "print \"the training error is =\", 1-(1.0 * (sum(train_result))/len(train_result))\n",
    "print \"the test error is =\", 1-(1.0 * (sum(test_result))/len(test_result))"
   ]
  },
  {
   "cell_type": "code",
   "execution_count": 33,
   "metadata": {
    "collapsed": false
   },
   "outputs": [
    {
     "data": {
      "text/plain": [
       "1"
      ]
     },
     "execution_count": 33,
     "metadata": {},
     "output_type": "execute_result"
    }
   ],
   "source": [
    "B = v[:,0:5].astype(float).dot(D)\n",
    "#somehow when I free the memory, I loss v and w, so I cannot show you B here, but it should be constructed as above."
   ]
  },
  {
   "cell_type": "code",
   "execution_count": null,
   "metadata": {
    "collapsed": true
   },
   "outputs": [],
   "source": []
  }
 ],
 "metadata": {
  "kernelspec": {
   "display_name": "Python 2",
   "language": "python",
   "name": "python2"
  },
  "language_info": {
   "codemirror_mode": {
    "name": "ipython",
    "version": 2
   },
   "file_extension": ".py",
   "mimetype": "text/x-python",
   "name": "python",
   "nbconvert_exporter": "python",
   "pygments_lexer": "ipython2",
   "version": "2.7.11"
  }
 },
 "nbformat": 4,
 "nbformat_minor": 0
}
