{
 "cells": [
  {
   "cell_type": "markdown",
   "metadata": {},
   "source": [
    "In this part of the project you will simulate an image recommender system."
   ]
  },
  {
   "cell_type": "code",
   "execution_count": 2,
   "metadata": {
    "collapsed": false
   },
   "outputs": [],
   "source": [
    "import pandas as pd\n",
    "import numpy as np\n",
    "import random\n",
    "import scipy.stats as stats\n",
    "import seaborn as sns\n",
    "import matplotlib.pyplot as plt\n",
    "%matplotlib inline\n",
    "from IPython.display import display\n",
    "\n",
    "from sklearn.neighbors import KNeighborsClassifier\n",
    "from sklearn.metrics import confusion_matrix\n",
    "\n",
    "from CSE6240_utilities import plot_confusion_matrix\n",
    "import matplotlib.pylab as pylab\n",
    "\n",
    "from scipy.stats import pearsonr"
   ]
  },
  {
   "cell_type": "markdown",
   "metadata": {},
   "source": [
    "### Simulate User-Image Matrix"
   ]
  },
  {
   "cell_type": "code",
   "execution_count": 3,
   "metadata": {
    "collapsed": true
   },
   "outputs": [],
   "source": [
    "def category_selector():\n",
    "# this function is used to randomly sample four out of the six movie categories \n",
    "\n",
    "    categories=[0,1,2,3,4,5]\n",
    "    return sorted(random.sample(categories,4))"
   ]
  },
  {
   "cell_type": "code",
   "execution_count": 4,
   "metadata": {
    "collapsed": false
   },
   "outputs": [],
   "source": [
    "user_ratings = np.zeros((1000,6000))\n",
    "# construct a matrix to store users' rating for movies.\n",
    "# We assume there are 1000 users and 6000 movies(1000 in each category),\n",
    "# and each row in this matrix stands for one user"
   ]
  },
  {
   "cell_type": "code",
   "execution_count": 5,
   "metadata": {
    "collapsed": true
   },
   "outputs": [],
   "source": [
    "for i in range(1000):\n",
    "    num_reviews=np.random.geometric(p = 0.1,size = 4)\n",
    "    # generate four values from the Geo(0.1) distribution, each stands for the number of ratings of a user under a category\n",
    "\n",
    "    categories = category_selector()\n",
    "    # use this function to choose which four categories this user has rated\n",
    "\n",
    "    for j in range(4):\n",
    "        candidates=random.sample(range(categories[j] * 1000, categories[j] * 1000 + 1000), num_reviews[j])\n",
    "        mu=random.random() * 3 + 1.5\n",
    "        for k in candidates:\n",
    "            user_ratings[i][k] = stats.truncnorm.rvs((1 - mu) / 1, (5 - mu) / 1, loc = mu, scale = 1)\n",
    "            # generate ratings which follows a truncated normal distribution"
   ]
  },
  {
   "cell_type": "markdown",
   "metadata": {},
   "source": [
    "### Singular Value Decomposition"
   ]
  },
  {
   "cell_type": "code",
   "execution_count": 7,
   "metadata": {
    "collapsed": true
   },
   "outputs": [],
   "source": [
    "U, Sigma, VT = np.linalg.svd(user_ratings.transpose())"
   ]
  },
  {
   "cell_type": "code",
   "execution_count": 7,
   "metadata": {
    "collapsed": false
   },
   "outputs": [
    {
     "name": "stdout",
     "output_type": "stream",
     "text": [
      "Singular values:\n"
     ]
    },
    {
     "data": {
      "text/html": [
       "<div>\n",
       "<table border=\"1\" class=\"dataframe\">\n",
       "  <thead>\n",
       "    <tr style=\"text-align: right;\">\n",
       "      <th></th>\n",
       "      <th>i</th>\n",
       "      <th>sigma_i</th>\n",
       "      <th>sigma_i^2</th>\n",
       "      <th>err_i^2</th>\n",
       "      <th>err_i</th>\n",
       "      <th>relerr_i</th>\n",
       "    </tr>\n",
       "  </thead>\n",
       "  <tbody>\n",
       "    <tr>\n",
       "      <th>0</th>\n",
       "      <td>0</td>\n",
       "      <td>59.455782</td>\n",
       "      <td>3534.990071</td>\n",
       "      <td>391662.909594</td>\n",
       "      <td>625.829777</td>\n",
       "      <td>0.913239</td>\n",
       "    </tr>\n",
       "    <tr>\n",
       "      <th>1</th>\n",
       "      <td>1</td>\n",
       "      <td>41.348355</td>\n",
       "      <td>1709.686466</td>\n",
       "      <td>389953.223128</td>\n",
       "      <td>624.462347</td>\n",
       "      <td>0.911244</td>\n",
       "    </tr>\n",
       "    <tr>\n",
       "      <th>2</th>\n",
       "      <td>2</td>\n",
       "      <td>40.887210</td>\n",
       "      <td>1671.763968</td>\n",
       "      <td>388281.459160</td>\n",
       "      <td>623.122347</td>\n",
       "      <td>0.909289</td>\n",
       "    </tr>\n",
       "    <tr>\n",
       "      <th>3</th>\n",
       "      <td>3</td>\n",
       "      <td>39.549806</td>\n",
       "      <td>1564.187165</td>\n",
       "      <td>386717.271995</td>\n",
       "      <td>621.865960</td>\n",
       "      <td>0.907455</td>\n",
       "    </tr>\n",
       "    <tr>\n",
       "      <th>4</th>\n",
       "      <td>4</td>\n",
       "      <td>38.265855</td>\n",
       "      <td>1464.275696</td>\n",
       "      <td>385252.996299</td>\n",
       "      <td>620.687519</td>\n",
       "      <td>0.905736</td>\n",
       "    </tr>\n",
       "  </tbody>\n",
       "</table>\n",
       "</div>"
      ],
      "text/plain": [
       "   i    sigma_i    sigma_i^2        err_i^2       err_i  relerr_i\n",
       "0  0  59.455782  3534.990071  391662.909594  625.829777  0.913239\n",
       "1  1  41.348355  1709.686466  389953.223128  624.462347  0.911244\n",
       "2  2  40.887210  1671.763968  388281.459160  623.122347  0.909289\n",
       "3  3  39.549806  1564.187165  386717.271995  621.865960  0.907455\n",
       "4  4  38.265855  1464.275696  385252.996299  620.687519  0.905736"
      ]
     },
     "metadata": {},
     "output_type": "display_data"
    },
    {
     "name": "stdout",
     "output_type": "stream",
     "text": [
      "...\n"
     ]
    },
    {
     "data": {
      "text/html": [
       "<div>\n",
       "<table border=\"1\" class=\"dataframe\">\n",
       "  <thead>\n",
       "    <tr style=\"text-align: right;\">\n",
       "      <th></th>\n",
       "      <th>i</th>\n",
       "      <th>sigma_i</th>\n",
       "      <th>sigma_i^2</th>\n",
       "      <th>err_i^2</th>\n",
       "      <th>err_i</th>\n",
       "      <th>relerr_i</th>\n",
       "    </tr>\n",
       "  </thead>\n",
       "  <tbody>\n",
       "    <tr>\n",
       "      <th>995</th>\n",
       "      <td>995</td>\n",
       "      <td>7.379128</td>\n",
       "      <td>54.451526</td>\n",
       "      <td>184.673463</td>\n",
       "      <td>13.589461</td>\n",
       "      <td>0.019830</td>\n",
       "    </tr>\n",
       "    <tr>\n",
       "      <th>996</th>\n",
       "      <td>996</td>\n",
       "      <td>7.354047</td>\n",
       "      <td>54.082011</td>\n",
       "      <td>130.591452</td>\n",
       "      <td>11.427662</td>\n",
       "      <td>0.016676</td>\n",
       "    </tr>\n",
       "    <tr>\n",
       "      <th>997</th>\n",
       "      <td>997</td>\n",
       "      <td>6.917833</td>\n",
       "      <td>47.856409</td>\n",
       "      <td>82.735043</td>\n",
       "      <td>9.095881</td>\n",
       "      <td>0.013273</td>\n",
       "    </tr>\n",
       "    <tr>\n",
       "      <th>998</th>\n",
       "      <td>998</td>\n",
       "      <td>6.747101</td>\n",
       "      <td>45.523369</td>\n",
       "      <td>37.211674</td>\n",
       "      <td>6.100137</td>\n",
       "      <td>0.008902</td>\n",
       "    </tr>\n",
       "    <tr>\n",
       "      <th>999</th>\n",
       "      <td>999</td>\n",
       "      <td>6.100137</td>\n",
       "      <td>37.211674</td>\n",
       "      <td>0.000000</td>\n",
       "      <td>0.000000</td>\n",
       "      <td>0.000000</td>\n",
       "    </tr>\n",
       "  </tbody>\n",
       "</table>\n",
       "</div>"
      ],
      "text/plain": [
       "       i   sigma_i  sigma_i^2     err_i^2      err_i  relerr_i\n",
       "995  995  7.379128  54.451526  184.673463  13.589461  0.019830\n",
       "996  996  7.354047  54.082011  130.591452  11.427662  0.016676\n",
       "997  997  6.917833  47.856409   82.735043   9.095881  0.013273\n",
       "998  998  6.747101  45.523369   37.211674   6.100137  0.008902\n",
       "999  999  6.100137  37.211674    0.000000   0.000000  0.000000"
      ]
     },
     "metadata": {},
     "output_type": "display_data"
    },
    {
     "data": {
      "image/png": "[encoded data removed]",
      "text/plain": [
       "<matplotlib.figure.Figure at 0x105034490>"
      ]
     },
     "metadata": {},
     "output_type": "display_data"
    }
   ],
   "source": [
    "def peek_Sigma (Sigma, ret_df=False):\n",
    "    k = len (Sigma)\n",
    "    df_Sigma = pd.DataFrame (np.arange (len (Sigma)), columns=['i'])\n",
    "    df_Sigma['sigma_i'] = Sigma\n",
    "    Sigma_sq = np.power (Sigma, 2)\n",
    "    Err_sq = np.sum (Sigma_sq) - np.cumsum (Sigma_sq)\n",
    "    Err_sq[Err_sq < 0] = 0\n",
    "    Err = np.sqrt (Err_sq)\n",
    "    Relerr = Err / (Sigma[0] + Err[0])\n",
    "    df_Sigma['sigma_i^2'] = Sigma_sq\n",
    "    df_Sigma['err_i^2'] = Err_sq\n",
    "    df_Sigma['err_i'] = Err\n",
    "    df_Sigma['relerr_i'] = Relerr\n",
    "    print \"Singular values:\"\n",
    "    display (df_Sigma.head (5))\n",
    "    print \"...\"\n",
    "    display (df_Sigma.tail (5))\n",
    "\n",
    "    f, ax = plt.subplots (figsize=(7, 7))\n",
    "    #ax.set (yscale=\"log\")\n",
    "    sns.regplot (\"i\", \"sigma_i\", df_Sigma, ax = ax, fit_reg = False)\n",
    "    if ret_df:\n",
    "        return df_Sigma\n",
    "\n",
    "peek_Sigma(Sigma)"
   ]
  },
  {
   "cell_type": "markdown",
   "metadata": {},
   "source": [
    "### Reconstruct data points on new bases"
   ]
  },
  {
   "cell_type": "code",
   "execution_count": 8,
   "metadata": {
    "collapsed": true
   },
   "outputs": [],
   "source": [
    "k = 1000\n",
    "X = U[:, 0:k].dot(np.diag(Sigma[0:k]))\n",
    "y = pd.read_csv(\"label.csv\", header = None).values.reshape(-1)"
   ]
  },
  {
   "cell_type": "markdown",
   "metadata": {},
   "source": [
    "### KNN using Euclidean Distance and Confusion Matrix"
   ]
  },
  {
   "cell_type": "code",
   "execution_count": 9,
   "metadata": {
    "collapsed": false
   },
   "outputs": [],
   "source": [
    "clf = KNeighborsClassifier(n_neighbors = 5, metric = 'euclidean')\n",
    "clf.fit(X, y)\n",
    "\n",
    "y_pred = clf.predict(X)"
   ]
  },
  {
   "cell_type": "code",
   "execution_count": 10,
   "metadata": {
    "collapsed": false,
    "scrolled": true
   },
   "outputs": [
    {
     "name": "stdout",
     "output_type": "stream",
     "text": [
      "[[837  37  15  25  55  31]\n",
      " [115 794   8  14  34  35]\n",
      " [194  95 546  20  66  79]\n",
      " [172 109  28 532  94  65]\n",
      " [ 70  53  20  14 825  18]\n",
      " [ 37  71  30  25  57 780]]\n"
     ]
    }
   ],
   "source": [
    "cm = confusion_matrix(y, y_pred)\n",
    "print(cm)"
   ]
  },
  {
   "cell_type": "code",
   "execution_count": 11,
   "metadata": {
    "collapsed": false
   },
   "outputs": [
    {
     "name": "stdout",
     "output_type": "stream",
     "text": [
      "Recom | euclidean\n",
      "accuracy = 0.7190\n"
     ]
    },
    {
     "data": {
      "image/png": "[encoded data removed]",
      "text/plain": [
       "<matplotlib.figure.Figure at 0x126c38750>"
      ]
     },
     "metadata": {},
     "output_type": "display_data"
    }
   ],
   "source": [
    "pylab.rcParams['figure.figsize'] = 8, 6  # that's default image size for this interactive session\n",
    "\n",
    "print \"Recom | euclidean\"\n",
    "plot_confusion_matrix(cm)\n",
    "print \"accuracy = %.4f\" % (1.0 * np.sum(np.diag(cm)) / np.sum(np.sum(cm, axis = 0)))"
   ]
  },
  {
   "cell_type": "markdown",
   "metadata": {},
   "source": [
    "### KNN using Pearson Coef and Confusion Matrix\n",
    "\n",
    "this is super slow and seems not able to get result for all models"
   ]
  },
  {
   "cell_type": "code",
   "execution_count": null,
   "metadata": {
    "collapsed": true
   },
   "outputs": [],
   "source": [
    "def pearson(x, y):\n",
    "     return 1.0 - pearsonr(x, y)[0]\n",
    "\n",
    "clf = KNeighborsClassifier(n_neighbors = 5, metric = pearson)\n",
    "clf.fit(X, y)\n",
    "\n",
    "y_pred = clf.predict(X)"
   ]
  },
  {
   "cell_type": "code",
   "execution_count": null,
   "metadata": {
    "collapsed": false
   },
   "outputs": [],
   "source": [
    "cm = confusion_matrix(y, y_pred)\n",
    "print(cm)\n",
    "\n",
    "print \"Recom | pearson\"\n",
    "plot_confusion_matrix(cm)"
   ]
  },
  {
   "cell_type": "markdown",
   "metadata": {
    "collapsed": true
   },
   "source": [
    "### Conclusion"
   ]
  },
  {
   "cell_type": "markdown",
   "metadata": {},
   "source": []
  }
 ],
 "metadata": {
  "kernelspec": {
   "display_name": "Python 2",
   "language": "python",
   "name": "python2"
  },
  "language_info": {
   "codemirror_mode": {
    "name": "ipython",
    "version": 2
   },
   "file_extension": ".py",
   "mimetype": "text/x-python",
   "name": "python",
   "nbconvert_exporter": "python",
   "pygments_lexer": "ipython2",
   "version": "2.7.11"
  }
 },
 "nbformat": 4,
 "nbformat_minor": 0
}
