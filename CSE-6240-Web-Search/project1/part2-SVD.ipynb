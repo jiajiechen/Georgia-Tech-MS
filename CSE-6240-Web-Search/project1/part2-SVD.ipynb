{
 "cells": [
  {
   "cell_type": "code",
   "execution_count": 3,
   "metadata": {
    "collapsed": false
   },
   "outputs": [],
   "source": [
    "import os\n",
    "import sys\n",
    "import re\n",
    "\n",
    "from PIL import Image\n",
    "\n",
    "import numpy as np\n",
    "import pandas as pd\n",
    "\n",
    "import math\n",
    "import random\n",
    "\n",
    "import matplotlib.pyplot as plt\n",
    "import seaborn as sns\n",
    "%matplotlib inline\n",
    "from IPython.display import display\n",
    "\n",
    "from sklearn.neighbors import KNeighborsClassifier\n",
    "from sklearn.metrics import confusion_matrix\n",
    "from CSE6240_utilities import plot_confusion_matrix\n",
    "import matplotlib.pylab as pylab"
   ]
  },
  {
   "cell_type": "code",
   "execution_count": 3,
   "metadata": {
    "collapsed": true
   },
   "outputs": [],
   "source": [
    "def imshow_gray (im):\n",
    "    plt.imshow (im, interpolation = 'nearest', cmap = plt.get_cmap ('gray'))"
   ]
  },
  {
   "cell_type": "markdown",
   "metadata": {},
   "source": [
    "## Read the preprocessed data"
   ]
  },
  {
   "cell_type": "code",
   "execution_count": 4,
   "metadata": {
    "collapsed": false
   },
   "outputs": [],
   "source": [
    "images = pd.read_csv(\"full_data.csv\", header = None).values"
   ]
  },
  {
   "cell_type": "markdown",
   "metadata": {},
   "source": [
    "## Implement SVD"
   ]
  },
  {
   "cell_type": "code",
   "execution_count": 5,
   "metadata": {
    "collapsed": false
   },
   "outputs": [
    {
     "name": "stdout",
     "output_type": "stream",
     "text": [
      "(6000, 10000)\n"
     ]
    }
   ],
   "source": [
    "# demean\n",
    "images = images - np.mean( images, axis = 0 )\n",
    "print images.shape"
   ]
  },
  {
   "cell_type": "code",
   "execution_count": 6,
   "metadata": {
    "collapsed": false
   },
   "outputs": [
    {
     "name": "stdout",
     "output_type": "stream",
     "text": [
      "X: (6000, 10000)\n",
      "U: (6000, 6000)\n",
      "Sigma: (6000,)\n"
     ]
    },
    {
     "data": {
      "image/png": "[encoded data removed]",
      "text/plain": [
       "<matplotlib.figure.Figure at 0x10abaf750>"
      ]
     },
     "metadata": {},
     "output_type": "display_data"
    }
   ],
   "source": [
    "# To get back to an image, just reshape it again\n",
    "imshow_gray (np.reshape (images[3, :], (min_rows, min_cols)))\n",
    "\n",
    "# Compute the SVD of X\n",
    "U ,Sigma, _ = np.linalg.svd(images, full_matrices = False)\n",
    "\n",
    "# check on dimensions\n",
    "print \"X:\", images.shape\n",
    "print \"U:\", U.shape\n",
    "print \"Sigma:\", Sigma.shape"
   ]
  },
  {
   "cell_type": "code",
   "execution_count": 10,
   "metadata": {
    "collapsed": false
   },
   "outputs": [
    {
     "name": "stdout",
     "output_type": "stream",
     "text": [
      "Singular values:\n"
     ]
    },
    {
     "data": {
      "text/html": [
       "<div>\n",
       "<table border=\"1\" class=\"dataframe\">\n",
       "  <thead>\n",
       "    <tr style=\"text-align: right;\">\n",
       "      <th></th>\n",
       "      <th>i</th>\n",
       "      <th>sigma_i</th>\n",
       "      <th>sigma_i^2</th>\n",
       "      <th>err_i^2</th>\n",
       "      <th>err_i</th>\n",
       "      <th>relerr_i</th>\n",
       "    </tr>\n",
       "  </thead>\n",
       "  <tbody>\n",
       "    <tr>\n",
       "      <th>0</th>\n",
       "      <td>0</td>\n",
       "      <td>240284.953125</td>\n",
       "      <td>57736859648</td>\n",
       "      <td>2.045517e+11</td>\n",
       "      <td>452273.93750</td>\n",
       "      <td>0.653048</td>\n",
       "    </tr>\n",
       "    <tr>\n",
       "      <th>1</th>\n",
       "      <td>1</td>\n",
       "      <td>156544.296875</td>\n",
       "      <td>24506116096</td>\n",
       "      <td>1.800456e+11</td>\n",
       "      <td>424317.81250</td>\n",
       "      <td>0.612681</td>\n",
       "    </tr>\n",
       "    <tr>\n",
       "      <th>2</th>\n",
       "      <td>2</td>\n",
       "      <td>112161.890625</td>\n",
       "      <td>12580289536</td>\n",
       "      <td>1.674653e+11</td>\n",
       "      <td>409225.25000</td>\n",
       "      <td>0.590889</td>\n",
       "    </tr>\n",
       "    <tr>\n",
       "      <th>3</th>\n",
       "      <td>3</td>\n",
       "      <td>105421.773438</td>\n",
       "      <td>11113750528</td>\n",
       "      <td>1.563516e+11</td>\n",
       "      <td>395413.15625</td>\n",
       "      <td>0.570945</td>\n",
       "    </tr>\n",
       "    <tr>\n",
       "      <th>4</th>\n",
       "      <td>4</td>\n",
       "      <td>86489.960938</td>\n",
       "      <td>7480513536</td>\n",
       "      <td>1.488710e+11</td>\n",
       "      <td>385838.09375</td>\n",
       "      <td>0.557120</td>\n",
       "    </tr>\n",
       "    <tr>\n",
       "      <th>5</th>\n",
       "      <td>5</td>\n",
       "      <td>70521.226562</td>\n",
       "      <td>4973243392</td>\n",
       "      <td>1.438978e+11</td>\n",
       "      <td>379338.62500</td>\n",
       "      <td>0.547735</td>\n",
       "    </tr>\n",
       "    <tr>\n",
       "      <th>6</th>\n",
       "      <td>6</td>\n",
       "      <td>69023.945312</td>\n",
       "      <td>4764304896</td>\n",
       "      <td>1.391335e+11</td>\n",
       "      <td>373006.00000</td>\n",
       "      <td>0.538591</td>\n",
       "    </tr>\n",
       "    <tr>\n",
       "      <th>7</th>\n",
       "      <td>7</td>\n",
       "      <td>63246.207031</td>\n",
       "      <td>4000082688</td>\n",
       "      <td>1.351334e+11</td>\n",
       "      <td>367604.96875</td>\n",
       "      <td>0.530792</td>\n",
       "    </tr>\n",
       "    <tr>\n",
       "      <th>8</th>\n",
       "      <td>8</td>\n",
       "      <td>58370.765625</td>\n",
       "      <td>3407146240</td>\n",
       "      <td>1.317263e+11</td>\n",
       "      <td>362941.12500</td>\n",
       "      <td>0.524058</td>\n",
       "    </tr>\n",
       "    <tr>\n",
       "      <th>9</th>\n",
       "      <td>9</td>\n",
       "      <td>56754.792969</td>\n",
       "      <td>3221106432</td>\n",
       "      <td>1.285052e+11</td>\n",
       "      <td>358476.18750</td>\n",
       "      <td>0.517611</td>\n",
       "    </tr>\n",
       "  </tbody>\n",
       "</table>\n",
       "</div>"
      ],
      "text/plain": [
       "   i        sigma_i    sigma_i^2       err_i^2         err_i  relerr_i\n",
       "0  0  240284.953125  57736859648  2.045517e+11  452273.93750  0.653048\n",
       "1  1  156544.296875  24506116096  1.800456e+11  424317.81250  0.612681\n",
       "2  2  112161.890625  12580289536  1.674653e+11  409225.25000  0.590889\n",
       "3  3  105421.773438  11113750528  1.563516e+11  395413.15625  0.570945\n",
       "4  4   86489.960938   7480513536  1.488710e+11  385838.09375  0.557120\n",
       "5  5   70521.226562   4973243392  1.438978e+11  379338.62500  0.547735\n",
       "6  6   69023.945312   4764304896  1.391335e+11  373006.00000  0.538591\n",
       "7  7   63246.207031   4000082688  1.351334e+11  367604.96875  0.530792\n",
       "8  8   58370.765625   3407146240  1.317263e+11  362941.12500  0.524058\n",
       "9  9   56754.792969   3221106432  1.285052e+11  358476.18750  0.517611"
      ]
     },
     "metadata": {},
     "output_type": "display_data"
    },
    {
     "name": "stdout",
     "output_type": "stream",
     "text": [
      "...\n"
     ]
    },
    {
     "data": {
      "text/html": [
       "<div>\n",
       "<table border=\"1\" class=\"dataframe\">\n",
       "  <thead>\n",
       "    <tr style=\"text-align: right;\">\n",
       "      <th></th>\n",
       "      <th>i</th>\n",
       "      <th>sigma_i</th>\n",
       "      <th>sigma_i^2</th>\n",
       "      <th>err_i^2</th>\n",
       "      <th>err_i</th>\n",
       "      <th>relerr_i</th>\n",
       "    </tr>\n",
       "  </thead>\n",
       "  <tbody>\n",
       "    <tr>\n",
       "      <th>5990</th>\n",
       "      <td>5990</td>\n",
       "      <td>2.824295e-12</td>\n",
       "      <td>7.976641e-24</td>\n",
       "      <td>0</td>\n",
       "      <td>0</td>\n",
       "      <td>0</td>\n",
       "    </tr>\n",
       "    <tr>\n",
       "      <th>5991</th>\n",
       "      <td>5991</td>\n",
       "      <td>2.248131e-12</td>\n",
       "      <td>5.054095e-24</td>\n",
       "      <td>0</td>\n",
       "      <td>0</td>\n",
       "      <td>0</td>\n",
       "    </tr>\n",
       "    <tr>\n",
       "      <th>5992</th>\n",
       "      <td>5992</td>\n",
       "      <td>2.197833e-12</td>\n",
       "      <td>4.830469e-24</td>\n",
       "      <td>0</td>\n",
       "      <td>0</td>\n",
       "      <td>0</td>\n",
       "    </tr>\n",
       "    <tr>\n",
       "      <th>5993</th>\n",
       "      <td>5993</td>\n",
       "      <td>1.971771e-12</td>\n",
       "      <td>3.887880e-24</td>\n",
       "      <td>0</td>\n",
       "      <td>0</td>\n",
       "      <td>0</td>\n",
       "    </tr>\n",
       "    <tr>\n",
       "      <th>5994</th>\n",
       "      <td>5994</td>\n",
       "      <td>1.791427e-12</td>\n",
       "      <td>3.209212e-24</td>\n",
       "      <td>0</td>\n",
       "      <td>0</td>\n",
       "      <td>0</td>\n",
       "    </tr>\n",
       "    <tr>\n",
       "      <th>5995</th>\n",
       "      <td>5995</td>\n",
       "      <td>1.471871e-12</td>\n",
       "      <td>2.166403e-24</td>\n",
       "      <td>0</td>\n",
       "      <td>0</td>\n",
       "      <td>0</td>\n",
       "    </tr>\n",
       "    <tr>\n",
       "      <th>5996</th>\n",
       "      <td>5996</td>\n",
       "      <td>1.121184e-12</td>\n",
       "      <td>1.257054e-24</td>\n",
       "      <td>0</td>\n",
       "      <td>0</td>\n",
       "      <td>0</td>\n",
       "    </tr>\n",
       "    <tr>\n",
       "      <th>5997</th>\n",
       "      <td>5997</td>\n",
       "      <td>8.826990e-13</td>\n",
       "      <td>7.791576e-25</td>\n",
       "      <td>0</td>\n",
       "      <td>0</td>\n",
       "      <td>0</td>\n",
       "    </tr>\n",
       "    <tr>\n",
       "      <th>5998</th>\n",
       "      <td>5998</td>\n",
       "      <td>8.793535e-13</td>\n",
       "      <td>7.732626e-25</td>\n",
       "      <td>0</td>\n",
       "      <td>0</td>\n",
       "      <td>0</td>\n",
       "    </tr>\n",
       "    <tr>\n",
       "      <th>5999</th>\n",
       "      <td>5999</td>\n",
       "      <td>6.594666e-13</td>\n",
       "      <td>4.348962e-25</td>\n",
       "      <td>0</td>\n",
       "      <td>0</td>\n",
       "      <td>0</td>\n",
       "    </tr>\n",
       "  </tbody>\n",
       "</table>\n",
       "</div>"
      ],
      "text/plain": [
       "         i       sigma_i     sigma_i^2  err_i^2  err_i  relerr_i\n",
       "5990  5990  2.824295e-12  7.976641e-24        0      0         0\n",
       "5991  5991  2.248131e-12  5.054095e-24        0      0         0\n",
       "5992  5992  2.197833e-12  4.830469e-24        0      0         0\n",
       "5993  5993  1.971771e-12  3.887880e-24        0      0         0\n",
       "5994  5994  1.791427e-12  3.209212e-24        0      0         0\n",
       "5995  5995  1.471871e-12  2.166403e-24        0      0         0\n",
       "5996  5996  1.121184e-12  1.257054e-24        0      0         0\n",
       "5997  5997  8.826990e-13  7.791576e-25        0      0         0\n",
       "5998  5998  8.793535e-13  7.732626e-25        0      0         0\n",
       "5999  5999  6.594666e-13  4.348962e-25        0      0         0"
      ]
     },
     "metadata": {},
     "output_type": "display_data"
    },
    {
     "data": {
      "image/png": "[encoded data removed]",
      "text/plain": [
       "<matplotlib.figure.Figure at 0x117161f10>"
      ]
     },
     "metadata": {},
     "output_type": "display_data"
    }
   ],
   "source": [
    "def peek_Sigma (Sigma, ret_df=False):\n",
    "    k = len (Sigma)\n",
    "    df_Sigma = pd.DataFrame (np.arange (len (Sigma)), columns=['i'])\n",
    "    df_Sigma['sigma_i'] = Sigma\n",
    "    Sigma_sq = np.power (Sigma, 2)\n",
    "    Err_sq = np.sum (Sigma_sq) - np.cumsum (Sigma_sq)\n",
    "    Err_sq[Err_sq < 0] = 0\n",
    "    Err = np.sqrt (Err_sq)\n",
    "    Relerr = Err / (Sigma[0] + Err[0])\n",
    "    df_Sigma['sigma_i^2'] = Sigma_sq\n",
    "    df_Sigma['err_i^2'] = Err_sq\n",
    "    df_Sigma['err_i'] = Err\n",
    "    df_Sigma['relerr_i'] = Relerr\n",
    "    print \"Singular values:\"\n",
    "    display (df_Sigma.head (10))\n",
    "    print \"...\"\n",
    "    display (df_Sigma.tail (10))\n",
    "    \n",
    "    f, ax = plt.subplots (figsize=(7, 7))\n",
    "    #ax.set (yscale=\"log\")\n",
    "    sns.regplot (\"i\", \"sigma_i\", df_Sigma, ax=ax, fit_reg=False)\n",
    "    if ret_df:\n",
    "        return df_Sigma\n",
    "\n",
    "peek_Sigma (Sigma)"
   ]
  },
  {
   "cell_type": "code",
   "execution_count": 11,
   "metadata": {
    "collapsed": false
   },
   "outputs": [],
   "source": [
    "k = 1000\n",
    "X_reduced = U[:, 0:k].dot(np.diag(Sigma[0:k]))"
   ]
  },
  {
   "cell_type": "code",
   "execution_count": 12,
   "metadata": {
    "collapsed": false
   },
   "outputs": [
    {
     "data": {
      "text/plain": [
       "(6000, 1000)"
      ]
     },
     "execution_count": 12,
     "metadata": {},
     "output_type": "execute_result"
    }
   ],
   "source": [
    "X_reduced.shape"
   ]
  },
  {
   "cell_type": "code",
   "execution_count": 13,
   "metadata": {
    "collapsed": false
   },
   "outputs": [],
   "source": [
    "np.savetxt(\"SVD-reduced_data.csv\", X_reduced, delimiter = \",\")\n",
    "np.savetxt(\"SVD-U.csv\", U, delimiter = \",\")\n",
    "np.savetxt(\"SVD-Sigma.csv\", Sigma, delimiter = \",\")"
   ]
  },
  {
   "cell_type": "markdown",
   "metadata": {},
   "source": [
    "## Prediction using KNN"
   ]
  },
  {
   "cell_type": "code",
   "execution_count": 4,
   "metadata": {
    "collapsed": false
   },
   "outputs": [],
   "source": [
    "X = pd.read_csv(\"SVD-reduced_data.csv\", header = None).values\n",
    "y = pd.read_csv(\"label.csv\", header = None).values.reshape(-1)"
   ]
  },
  {
   "cell_type": "code",
   "execution_count": 5,
   "metadata": {
    "collapsed": false
   },
   "outputs": [
    {
     "data": {
      "text/plain": [
       "(6000, 1000)"
      ]
     },
     "execution_count": 5,
     "metadata": {},
     "output_type": "execute_result"
    }
   ],
   "source": [
    "X.shape"
   ]
  },
  {
   "cell_type": "code",
   "execution_count": 6,
   "metadata": {
    "collapsed": false
   },
   "outputs": [
    {
     "data": {
      "text/plain": [
       "KNeighborsClassifier(algorithm='auto', leaf_size=30, metric='euclidean',\n",
       "           metric_params=None, n_neighbors=5, p=2, weights='uniform')"
      ]
     },
     "execution_count": 6,
     "metadata": {},
     "output_type": "execute_result"
    }
   ],
   "source": [
    "clf = KNeighborsClassifier(n_neighbors = 5, metric = 'euclidean')\n",
    "clf.fit(X, y)"
   ]
  },
  {
   "cell_type": "code",
   "execution_count": 7,
   "metadata": {
    "collapsed": false
   },
   "outputs": [],
   "source": [
    "y_pred = clf.predict(X)"
   ]
  },
  {
   "cell_type": "code",
   "execution_count": 8,
   "metadata": {
    "collapsed": false
   },
   "outputs": [
    {
     "name": "stdout",
     "output_type": "stream",
     "text": [
      "[[604  25 283  24  51  13]\n",
      " [193 308 347  26 119   7]\n",
      " [ 91  20 852  14  16   7]\n",
      " [195  47 434 271  35  18]\n",
      " [154  46 354  51 389   6]\n",
      " [286  18 423  34  96 143]]\n"
     ]
    }
   ],
   "source": [
    "cm = confusion_matrix(y, y_pred)\n",
    "print(cm)"
   ]
  },
  {
   "cell_type": "code",
   "execution_count": 11,
   "metadata": {
    "collapsed": false
   },
   "outputs": [
    {
     "name": "stdout",
     "output_type": "stream",
     "text": [
      "accuracy = 0.4278\n"
     ]
    },
    {
     "data": {
      "image/png": "[encoded data removed]",
      "text/plain": [
       "<matplotlib.figure.Figure at 0x112c7a950>"
      ]
     },
     "metadata": {},
     "output_type": "display_data"
    }
   ],
   "source": [
    "pylab.rcParams['figure.figsize'] = 8, 6\n",
    "\n",
    "print \"accuracy = %.4f\" % (1.0 * np.sum(np.diag(cm)) / np.sum(np.sum(cm, axis = 0)))\n",
    "plot_confusion_matrix(cm)"
   ]
  },
  {
   "cell_type": "markdown",
   "metadata": {},
   "source": [
    "### KNN using Pearson Coef and Confusion Matrix"
   ]
  },
  {
   "cell_type": "code",
   "execution_count": null,
   "metadata": {
    "collapsed": true
   },
   "outputs": [],
   "source": [
    "def pearson(x, y):\n",
    "     return 1.0 - pearsonr(x, y)[0] # higher pearson coef is better, opposite to distance\n",
    "\n",
    "clf = KNeighborsClassifier(n_neighbors = 5, metric = pearson)\n",
    "clf.fit(X, y)\n",
    "\n",
    "y_pred = clf.predict(X)\n",
    "\n",
    "cm = confusion_matrix(y, y_pred)\n",
    "print(cm)\n",
    "\n",
    "print \"Autoencoder | pearson\"\n",
    "plot_confusion_matrix(cm)"
   ]
  },
  {
   "cell_type": "markdown",
   "metadata": {
    "collapsed": true
   },
   "source": [
    "### Conclusion"
   ]
  },
  {
   "cell_type": "markdown",
   "metadata": {},
   "source": []
  },
  {
   "cell_type": "code",
   "execution_count": null,
   "metadata": {
    "collapsed": true
   },
   "outputs": [],
   "source": []
  }
 ],
 "metadata": {
  "kernelspec": {
   "display_name": "Python 2",
   "language": "python",
   "name": "python2"
  },
  "language_info": {
   "codemirror_mode": {
    "name": "ipython",
    "version": 2
   },
   "file_extension": ".py",
   "mimetype": "text/x-python",
   "name": "python",
   "nbconvert_exporter": "python",
   "pygments_lexer": "ipython2",
   "version": "2.7.11"
  }
 },
 "nbformat": 4,
 "nbformat_minor": 0
}
