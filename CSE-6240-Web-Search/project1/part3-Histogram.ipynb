{
 "cells": [
  {
   "cell_type": "code",
   "execution_count": 3,
   "metadata": {
    "collapsed": false
   },
   "outputs": [],
   "source": [
    "import os\n",
    "import sys\n",
    "import re\n",
    "\n",
    "from PIL import Image\n",
    "\n",
    "import numpy as np\n",
    "import pandas as pd\n",
    "\n",
    "import matplotlib.pyplot as plt\n",
    "%matplotlib inline\n",
    "from IPython.display import display\n",
    "import seaborn as sns\n",
    "\n",
    "import math\n",
    "import random\n",
    "\n",
    "from scipy.stats import pearsonr\n",
    "\n",
    "from sklearn.neighbors import KNeighborsClassifier\n",
    "from sklearn.metrics import confusion_matrix\n",
    "\n",
    "from CSE6240_utilities import plot_confusion_matrix\n",
    "import matplotlib.pylab as pylab"
   ]
  },
  {
   "cell_type": "markdown",
   "metadata": {},
   "source": [
    "## a. RGB"
   ]
  },
  {
   "cell_type": "markdown",
   "metadata": {},
   "source": [
    "### Process the data and save the processed data"
   ]
  },
  {
   "cell_type": "code",
   "execution_count": 12,
   "metadata": {
    "collapsed": false
   },
   "outputs": [],
   "source": [
    "def readImg_RGB_Hist(folder, images, image_names, category, i = 0):\n",
    "    ''' For reading images as RGB histogram and row combining them as matrix images\n",
    "    also records the labels of images as image_names\n",
    "    \n",
    "    @folder: the name of folder that containing images, should be under the working directory\n",
    "    @images: list that stores the images\n",
    "    @image_names: list that stores the labels of images\n",
    "    @category: category of image\n",
    "    '''\n",
    "    \n",
    "    for base, dirs, files in os.walk ('./' + folder + '/'):\n",
    "        for filename in files:\n",
    "            name_JPEG = re.match (r'^(.*)\\.JPEG$', filename)\n",
    "            if name_JPEG:\n",
    "                filepath = os.path.join (base, filename)\n",
    "                image = Image.open (filepath, 'r').histogram()\n",
    "                image = np.array(image).reshape(-1)\n",
    "                if image.shape[0] == 768:\n",
    "                    images.append(image)\n",
    "                    image_names.append(category)\n",
    "                    if i >= 999:\n",
    "                        break\n",
    "                    else:\n",
    "                        i += 1\n",
    "                else:\n",
    "                    pass\n",
    "    return images, image_names"
   ]
  },
  {
   "cell_type": "code",
   "execution_count": 13,
   "metadata": {
    "collapsed": false
   },
   "outputs": [],
   "source": [
    "images = []\n",
    "image_names = []\n",
    "\n",
    "images, image_names = readImg_RGB_Hist(\"01-Animal\", images, image_names, 0)\n",
    "images, image_names = readImg_RGB_Hist(\"02-Fungus\", images, image_names, 1)\n",
    "images, image_names = readImg_RGB_Hist(\"03-Geological Formation\", images, image_names, 2)\n",
    "images, image_names = readImg_RGB_Hist(\"04-Person\", images, image_names, 3)\n",
    "images, image_names = readImg_RGB_Hist(\"05-Plant, flora, plant life\", images, image_names, 4)\n",
    "images, image_names = readImg_RGB_Hist(\"06-Sport\", images, image_names, 5)"
   ]
  },
  {
   "cell_type": "code",
   "execution_count": 5,
   "metadata": {
    "collapsed": true
   },
   "outputs": [],
   "source": [
    "np.savetxt(\"Histogram-RGB.csv\", np.array(images), delimiter = \",\")\n",
    "np.savetxt(\"Histogram-RGB-label.csv\", np.array(image_names), delimiter = \",\")"
   ]
  },
  {
   "cell_type": "markdown",
   "metadata": {},
   "source": [
    "### Read the processed data"
   ]
  },
  {
   "cell_type": "code",
   "execution_count": 4,
   "metadata": {
    "collapsed": false,
    "scrolled": false
   },
   "outputs": [],
   "source": [
    "X = pd.read_csv(\"Histogram-RGB.csv\", header = None).values\n",
    "y = pd.read_csv(\"Histogram-RGB-label.csv\", header = None).values.reshape(-1)"
   ]
  },
  {
   "cell_type": "code",
   "execution_count": 5,
   "metadata": {
    "collapsed": false
   },
   "outputs": [
    {
     "data": {
      "text/plain": [
       "(6000, 768)"
      ]
     },
     "execution_count": 5,
     "metadata": {},
     "output_type": "execute_result"
    }
   ],
   "source": [
    "X.shape"
   ]
  },
  {
   "cell_type": "markdown",
   "metadata": {},
   "source": [
    "### Euclidean-based KNN"
   ]
  },
  {
   "cell_type": "code",
   "execution_count": 6,
   "metadata": {
    "collapsed": false
   },
   "outputs": [],
   "source": [
    "clf = KNeighborsClassifier(n_neighbors = 5, metric = 'euclidean')\n",
    "clf.fit(X, y)\n",
    "\n",
    "y_pred = clf.predict(X)"
   ]
  },
  {
   "cell_type": "code",
   "execution_count": 7,
   "metadata": {
    "collapsed": false
   },
   "outputs": [
    {
     "name": "stdout",
     "output_type": "stream",
     "text": [
      "[[561 196  60  61  83  39]\n",
      " [100 773  31  33  48  15]\n",
      " [154 163 548  52  45  38]\n",
      " [124 241  70 487  51  27]\n",
      " [ 97 216  63  49 563  12]\n",
      " [185 162 115  70  60 408]]\n"
     ]
    }
   ],
   "source": [
    "## Confusion Matrix - euclidean\n",
    "cm = confusion_matrix(y, y_pred)\n",
    "print(cm)"
   ]
  },
  {
   "cell_type": "code",
   "execution_count": 9,
   "metadata": {
    "collapsed": false
   },
   "outputs": [
    {
     "name": "stdout",
     "output_type": "stream",
     "text": [
      "== RGB histogram | euclidean ==\n",
      "accuracy = 0.5567\n"
     ]
    },
    {
     "data": {
      "image/png": "[encoded data removed]",
      "text/plain": [
       "<matplotlib.figure.Figure at 0x103b9b7d0>"
      ]
     },
     "metadata": {},
     "output_type": "display_data"
    }
   ],
   "source": [
    "## Visualize the confusion matrix\n",
    "pylab.rcParams['figure.figsize'] = 8, 6\n",
    "\n",
    "print \"== RGB histogram | euclidean ==\"\n",
    "plot_confusion_matrix(cm)\n",
    "\n",
    "print \"accuracy = %.4f\" % (1.0 * np.sum(np.diag(cm)) / np.sum(np.sum(cm, axis = 0)))"
   ]
  },
  {
   "cell_type": "code",
   "execution_count": null,
   "metadata": {
    "collapsed": true
   },
   "outputs": [],
   "source": [
    "# def pearson(x, y):\n",
    "#      return (1 - pearsonr(x, y)[0])\n",
    "\n",
    "# clf = KNeighborsClassifier(n_neighbors = 5, metric = pearson)\n",
    "# clf.fit(X, y)\n",
    "\n",
    "# y_pred = clf.predict(X)\n",
    "\n",
    "# ## pearson\n",
    "# from sklearn.metrics import confusion_matrix\n",
    "\n",
    "# cm = confusion_matrix(y, y_pred)\n",
    "# print(cm)\n",
    "\n",
    "# pylab.rcParams['figure.figsize'] = 8, 6\n",
    "# print \"== RGB histogram | pearson ==\"\n",
    "# plot_confusion_matrix(cm)"
   ]
  },
  {
   "cell_type": "markdown",
   "metadata": {
    "collapsed": true
   },
   "source": [
    "## b. HSV"
   ]
  },
  {
   "cell_type": "markdown",
   "metadata": {},
   "source": [
    "### Process the data and save the processed data"
   ]
  },
  {
   "cell_type": "code",
   "execution_count": null,
   "metadata": {
    "collapsed": true
   },
   "outputs": [],
   "source": [
    "import cv2\n",
    "\n",
    "def readImg_HSV_Hist(folder, images, image_names, category, i = 0):\n",
    "    ''' For reading images as HSV histogram and row combining them as matrix images\n",
    "    also records the labels of images as image_names\n",
    "    \n",
    "    @folder: the name of folder that containing images, should be under the working directory\n",
    "    @images: list that stores the images\n",
    "    @image_names: list that stores the labels of images\n",
    "    @category of image\n",
    "    '''\n",
    "    \n",
    "    for base, dirs, files in os.walk ('./' + folder + '/'):\n",
    "        for filename in files:\n",
    "            name_JPEG = re.match (r'^(.*)\\.JPEG$', filename)\n",
    "            if name_JPEG:\n",
    "                filepath = os.path.join (base, filename)\n",
    "                image = cv2.imread (filepath)\n",
    "                hsv = cv2.cvtColor(image, cv2.COLOR_BGR2HSV)\n",
    "                hist = cv2.calcHist([hsv], [0], None, [180], [0, 180]).transpose()\n",
    "                hist = np.concatenate((hist, cv2.calcHist([hsv], [1], None, [180], [0, 180]).transpose()), axis = 0)\n",
    "                hist = np.concatenate((hist, cv2.calcHist([hsv], [2], None, [180], [0, 180]).transpose()), axis = 0)\n",
    "                hist = hist.reshape(-1)\n",
    "                image = hist\n",
    "                if image.shape[0] == 540:\n",
    "                    images.append(image)\n",
    "                    image_names.append(0)\n",
    "                    if i >= 999:\n",
    "                        break\n",
    "                    else:\n",
    "                        i += 1\n",
    "                else:\n",
    "                    pass\n",
    "\n",
    "    return images, image_names"
   ]
  },
  {
   "cell_type": "code",
   "execution_count": 61,
   "metadata": {
    "collapsed": false
   },
   "outputs": [],
   "source": [
    "images = []\n",
    "image_names = []\n",
    "\n",
    "images, image_names = readImg_HSV_Hist(\"01-Animal\", images, image_names, 0)\n",
    "images, image_names = readImg_HSV_Hist(\"02-Fungus\", images, image_names, 1)\n",
    "images, image_names = readImg_HSV_Hist(\"03-Geological Formation\", images, image_names, 2)\n",
    "images, image_names = readImg_HSV_Hist(\"04-Person\", images, image_names, 3)\n",
    "images, image_names = readImg_HSV_Hist(\"05-Plant, flora, plant life\", images, image_names, 4)\n",
    "images, image_names = readImg_HSV_Hist(\"06-Sport\", images, image_names, 5)"
   ]
  },
  {
   "cell_type": "code",
   "execution_count": 62,
   "metadata": {
    "collapsed": false
   },
   "outputs": [
    {
     "data": {
      "text/plain": [
       "6000"
      ]
     },
     "execution_count": 62,
     "metadata": {},
     "output_type": "execute_result"
    }
   ],
   "source": [
    "len(images)"
   ]
  },
  {
   "cell_type": "code",
   "execution_count": 63,
   "metadata": {
    "collapsed": true
   },
   "outputs": [],
   "source": [
    "np.savetxt(\"Histogram-HSV.csv\", np.array(images), delimiter = \",\")"
   ]
  },
  {
   "cell_type": "code",
   "execution_count": 64,
   "metadata": {
    "collapsed": true
   },
   "outputs": [],
   "source": [
    "np.savetxt(\"Histogram-HSV-label.csv\", np.array(image_names), delimiter = \",\")"
   ]
  },
  {
   "cell_type": "markdown",
   "metadata": {},
   "source": [
    "### Read the processed data"
   ]
  },
  {
   "cell_type": "code",
   "execution_count": 10,
   "metadata": {
    "collapsed": true
   },
   "outputs": [],
   "source": [
    "X = pd.read_csv(\"Histogram-HSV.csv\", header = None).values\n",
    "y = pd.read_csv(\"Histogram-HSV-label.csv\", header = None).values.reshape(-1)"
   ]
  },
  {
   "cell_type": "markdown",
   "metadata": {},
   "source": [
    "### Euclidean-based KNN\n"
   ]
  },
  {
   "cell_type": "code",
   "execution_count": 11,
   "metadata": {
    "collapsed": false
   },
   "outputs": [],
   "source": [
    "clf = KNeighborsClassifier(n_neighbors = 5, metric = 'euclidean')\n",
    "clf.fit(X, y)\n",
    "\n",
    "y_pred = clf.predict(X)"
   ]
  },
  {
   "cell_type": "code",
   "execution_count": 12,
   "metadata": {
    "collapsed": false
   },
   "outputs": [
    {
     "name": "stdout",
     "output_type": "stream",
     "text": [
      "[[522 185 104  56  88  45]\n",
      " [ 88 779  27  19  59  28]\n",
      " [108 172 593  34  27  66]\n",
      " [109 232  92 482  37  48]\n",
      " [ 79 184  43  26 654  14]\n",
      " [119 169  83  59  52 518]]\n"
     ]
    }
   ],
   "source": [
    "cm = confusion_matrix(y, y_pred)\n",
    "print(cm)"
   ]
  },
  {
   "cell_type": "code",
   "execution_count": 13,
   "metadata": {
    "collapsed": false
   },
   "outputs": [
    {
     "name": "stdout",
     "output_type": "stream",
     "text": [
      "== HSV histogram | euclidean ==\n",
      "accuracy = 0.5913\n"
     ]
    },
    {
     "data": {
      "image/png": "[encoded data removed]",
      "text/plain": [
       "<matplotlib.figure.Figure at 0x112aa5550>"
      ]
     },
     "metadata": {},
     "output_type": "display_data"
    }
   ],
   "source": [
    "pylab.rcParams['figure.figsize'] = 8, 6  # that's default image size for this interactive session\n",
    "\n",
    "print \"== HSV histogram | euclidean ==\"\n",
    "plot_confusion_matrix(cm)\n",
    "print \"accuracy = %.4f\" % (1.0 * np.sum(np.diag(cm)) / np.sum(np.sum(cm, axis = 0)))"
   ]
  },
  {
   "cell_type": "markdown",
   "metadata": {
    "collapsed": true
   },
   "source": [
    "## Conclusion\n",
    "\n",
    "We can find that when using **Euclidean distance**, KNN performs similarly between RGB-hist and HSV-hist. I would argue HSV-hist might be better than RGB-hist because it has both higher accuracy (0.5913) and smaller size ($X \\in R^{6000 \\times 480}$) compared to RGB-hist (0.5567, $X \\in R^{6000 \\times 768}$).\n",
    "\n",
    "<img src=\"embed_pictures/RGB-eu.PNG\", width = 200>\n",
    "$$accuracy = \\frac{Tr(cm)}{\\sum\\sum{cm}} = 0.5567$$\n",
    "<img src=\"embed_pictures/HSV-eu.PNG\", width = 200>\n",
    "$$accuracy = \\frac{Tr(cm)}{\\sum\\sum{cm}} = 0.5913$$"
   ]
  },
  {
   "cell_type": "code",
   "execution_count": null,
   "metadata": {
    "collapsed": true
   },
   "outputs": [],
   "source": []
  }
 ],
 "metadata": {
  "kernelspec": {
   "display_name": "Python 2",
   "language": "python",
   "name": "python2"
  },
  "language_info": {
   "codemirror_mode": {
    "name": "ipython",
    "version": 2
   },
   "file_extension": ".py",
   "mimetype": "text/x-python",
   "name": "python",
   "nbconvert_exporter": "python",
   "pygments_lexer": "ipython2",
   "version": "2.7.11"
  }
 },
 "nbformat": 4,
 "nbformat_minor": 0
}
