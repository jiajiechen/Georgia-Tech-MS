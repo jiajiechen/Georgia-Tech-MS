{
 "cells": [
  {
   "cell_type": "code",
   "execution_count": 1,
   "metadata": {
    "collapsed": false
   },
   "outputs": [],
   "source": [
    "from __future__ import print_function\n",
    "import os\n",
    "import re\n",
    "from PIL import Image\n",
    "import numpy as np\n",
    "import pandas as pd\n",
    "\n",
    "import sys\n",
    "sys.path.append('/Users/jiajiechen/Desktop/project2-CSE6240/code')\n",
    "from image_parser import image_parser"
   ]
  },
  {
   "cell_type": "markdown",
   "metadata": {},
   "source": [
    "## Read Data, the image_parser is implemented in image_parser.py"
   ]
  },
  {
   "cell_type": "code",
   "execution_count": 2,
   "metadata": {
    "collapsed": false
   },
   "outputs": [],
   "source": [
    "datapath=\"/Users/jiajiechen/Desktop/project2-CSE6240/Data\""
   ]
  },
  {
   "cell_type": "code",
   "execution_count": 3,
   "metadata": {
    "collapsed": false
   },
   "outputs": [],
   "source": [
    "animals=image_parser(folder=\"01-Animal\",datapath=datapath,\n",
    "                     verbose=False,min_rows=20,min_cols=20)"
   ]
  },
  {
   "cell_type": "code",
   "execution_count": 4,
   "metadata": {
    "collapsed": true
   },
   "outputs": [],
   "source": [
    "geo_form=image_parser(folder=\"03-Geological Formation\",datapath=datapath,\n",
    "                     verbose=False,min_rows=20,min_cols=20)"
   ]
  },
  {
   "cell_type": "code",
   "execution_count": 5,
   "metadata": {
    "collapsed": false
   },
   "outputs": [],
   "source": [
    "animals.read()"
   ]
  },
  {
   "cell_type": "code",
   "execution_count": 6,
   "metadata": {
    "collapsed": false
   },
   "outputs": [
    {
     "data": {
      "text/plain": [
       "(1571, 400)"
      ]
     },
     "execution_count": 6,
     "metadata": {},
     "output_type": "execute_result"
    }
   ],
   "source": [
    "animals.images.shape"
   ]
  },
  {
   "cell_type": "code",
   "execution_count": 7,
   "metadata": {
    "collapsed": true
   },
   "outputs": [],
   "source": [
    "geo_form.read()"
   ]
  },
  {
   "cell_type": "code",
   "execution_count": 8,
   "metadata": {
    "collapsed": false
   },
   "outputs": [
    {
     "data": {
      "text/plain": [
       "(1808, 400)"
      ]
     },
     "execution_count": 8,
     "metadata": {},
     "output_type": "execute_result"
    }
   ],
   "source": [
    "geo_form.images.shape"
   ]
  },
  {
   "cell_type": "code",
   "execution_count": 9,
   "metadata": {
    "collapsed": true
   },
   "outputs": [],
   "source": [
    "# normalize data, make all values within 0-255\n",
    "X = (1.0*np.vstack((animals.images,geo_form.images)))/255"
   ]
  },
  {
   "cell_type": "code",
   "execution_count": 10,
   "metadata": {
    "collapsed": false
   },
   "outputs": [],
   "source": [
    "y = np.concatenate((np.zeros(animals.images.shape[0]), np.ones(geo_form.images.shape[0])), axis=0)"
   ]
  },
  {
   "cell_type": "code",
   "execution_count": 11,
   "metadata": {
    "collapsed": false
   },
   "outputs": [],
   "source": [
    "del(animals,geo_form)"
   ]
  },
  {
   "cell_type": "markdown",
   "metadata": {},
   "source": [
    "## 4) Train two categories together by picking 80% of the data points. Encode the rest 20% and measure the encoding error."
   ]
  },
  {
   "cell_type": "code",
   "execution_count": 41,
   "metadata": {
    "collapsed": false
   },
   "outputs": [
    {
     "name": "stdout",
     "output_type": "stream",
     "text": [
      "(2703, 400) (676, 400)\n"
     ]
    }
   ],
   "source": [
    "from sklearn import cross_validation\n",
    "X_train, X_test, y_train, y_test = cross_validation.train_test_split(X, y, test_size=0.2, random_state=0)\n",
    "print(X_train.shape, X_test.shape)\n",
    "\n",
    "# y is label, used for later on indexing images, because we will train them seperately later on."
   ]
  },
  {
   "cell_type": "markdown",
   "metadata": {},
   "source": [
    "#### Implement K-sparse-autoencoder"
   ]
  },
  {
   "cell_type": "code",
   "execution_count": 13,
   "metadata": {
    "collapsed": true
   },
   "outputs": [],
   "source": [
    "import theano\n",
    "import theano.tensor as T\n",
    "from theano.tensor.shared_randomstreams import RandomStreams\n",
    "\n",
    "class KSparseAutoencoder(object):\n",
    "    \"\"\"K Sparse Auto-Encoder\n",
    "       This structure is borrowed from\n",
    "       http://deeplearning.net/tutorial/dA.html\n",
    "    \"\"\"\n",
    "\n",
    "    def __init__(self,\n",
    "                 numpy_rng,\n",
    "                 input=None,\n",
    "                 n_visible=400,\n",
    "                 n_hidden=400,\n",
    "                 K=20,\n",
    "                 W=None,\n",
    "                 bhid=None,\n",
    "                 bvis=None):\n",
    "\n",
    "        self.n_visible = n_visible\n",
    "        self.n_hidden = n_hidden\n",
    "\n",
    "        initial_W = np.asarray(\n",
    "            numpy_rng.uniform(low=-4 * np.sqrt(6. / (n_hidden + n_visible)),\n",
    "                              high=4 * np.sqrt(6. / (n_hidden + n_visible)),\n",
    "                              size=(n_visible, n_hidden)),dtype=theano.config.floatX)\n",
    "        W = theano.shared(value=initial_W, name='W', borrow=True)\n",
    "\n",
    "        bvis = theano.shared(value=np.zeros(n_visible,dtype=theano.config.floatX),\n",
    "                             borrow=True)\n",
    "        bhid = theano.shared(value=np.zeros(n_hidden,dtype=theano.config.floatX),\n",
    "                             name='b',\n",
    "                             borrow=True)    \n",
    "        self.K=K\n",
    "        self.W = W\n",
    "        # b corresponds to the bias of the hidden\n",
    "        self.b = bhid\n",
    "        # b_prime corresponds to the bias of the visible\n",
    "        self.b_prime = bvis\n",
    "        # tied weights, therefore W_prime is W transpose\n",
    "        self.W_prime = self.W.T\n",
    "        self.x = input\n",
    "        self.params = [self.W, self.b, self.b_prime]\n",
    "\n",
    "    def get_hidden_values(self, input):\n",
    "        \"\"\" Computes the values of the hidden layer \"\"\"\n",
    "        return T.dot(input, self.W) + self.b\n",
    "    \n",
    "    def get_k_sparse(self,hidden):\n",
    "        \"\"\" Keep the K largest element and make hidden layer sparse \"\"\"\n",
    "        index_theano=hidden.argsort()\n",
    "        return T.set_subtensor(hidden[index_theano<self.K], 0)\n",
    "\n",
    "    def get_reconstructed_input(self, hidden):\n",
    "        return T.dot(hidden, self.W_prime) + self.b_prime\n",
    "\n",
    "    def get_cost_updates(self, learning_rate):\n",
    "        z = self.get_hidden_values(self.x)\n",
    "        z_sparse = self.get_k_sparse(z)\n",
    "        xhat = self.get_reconstructed_input(z_sparse)\n",
    "        \n",
    "        cost =T.mean(T.sqrt(T.sum(T.sqr(self.x-xhat),axis=0)))\n",
    "        \n",
    "        gparams = T.grad(cost, self.params)\n",
    "        # generate the list of updates\n",
    "        updates = [\n",
    "            (param, param - learning_rate * gparam)\n",
    "            for param, gparam in zip(self.params, gparams)\n",
    "        ]\n",
    "        W_out=self.W\n",
    "        b_out=self.b\n",
    "        b_prime_out=self.b_prime\n",
    "        return (cost, updates, xhat, W_out, b_out, b_prime_out)"
   ]
  },
  {
   "cell_type": "code",
   "execution_count": 42,
   "metadata": {
    "collapsed": false
   },
   "outputs": [
    {
     "name": "stdout",
     "output_type": "stream",
     "text": [
      "Training epoch 0, cost= 28.1262518036\n",
      "Training epoch 1, cost= 13.1351978374\n",
      "Training epoch 2, cost= 5.98117127693\n",
      "Training epoch 3, cost= 3.21815792865\n",
      "Training epoch 4, cost= 1.94286248231\n",
      "Training epoch 5, cost= 1.2774050486\n",
      "Training epoch 6, cost= 0.958220846345\n",
      "Training epoch 7, cost= 0.82789425467\n",
      "Training epoch 8, cost= 0.769078576697\n",
      "Training epoch 9, cost= 0.739862307803\n",
      "Training epoch 10, cost= 0.73128464895\n",
      "Training epoch 11, cost= 0.723980268705\n",
      "Training epoch 12, cost= 0.718411651825\n",
      "Training epoch 13, cost= 0.712330298516\n",
      "Training epoch 14, cost= 0.718491827736\n",
      "Training epoch 15, cost= 0.713260445203\n",
      "Training epoch 16, cost= 0.7108029946\n",
      "Training epoch 17, cost= 0.707966154481\n",
      "Training epoch 18, cost= 0.713043754484\n",
      "Training epoch 19, cost= 0.710074356653\n"
     ]
    }
   ],
   "source": [
    "#set minibatch size\n",
    "batch_size=20\n",
    "n_train_batches = int(X_train.shape[0]) / batch_size\n",
    "\n",
    "# allocate symbolic variables for the data\n",
    "index = T.lscalar()\n",
    "x = T.matrix('x')\n",
    "x_input = theano.shared(X_train, name = 'x input')\n",
    "\n",
    "rng = np.random.RandomState(19930319)\n",
    "\n",
    "da = KSparseAutoencoder(\n",
    "    numpy_rng=rng,\n",
    "    input=x,\n",
    "    n_visible=X_train.shape[1],\n",
    "    n_hidden=400, #we do not decrease dimension, just enforce sparsity in hidden layer\n",
    "    K=20\n",
    ")\n",
    "\n",
    "cost, updates, xhat, W_out, b_out, b_prime_out = da.get_cost_updates(learning_rate=0.5)\n",
    "\n",
    "train_da = theano.function(\n",
    "    [index],\n",
    "    outputs=[cost,xhat,W_out,b_out,b_prime_out],\n",
    "    updates=updates,\n",
    "    givens={\n",
    "        x: x_input[index*batch_size:(index + 1)*batch_size]\n",
    "    }\n",
    ")\n",
    "\n",
    "# go through training epochs\n",
    "average_train_cost_together=[]\n",
    "\n",
    "for epoch in range(20):\n",
    "    J = []\n",
    "    # go through trainng set\n",
    "    for batch_index in range(n_train_batches):\n",
    "        output=train_da(batch_index)\n",
    "        J.append(output[0])\n",
    "    print('Training epoch %d, cost=' % epoch, np.mean(J))\n",
    "    average_train_cost_together.append(np.mean(J))\n",
    "\n",
    "W_final,b_final,b_prime_final = output[2],output[3],output[4]"
   ]
  },
  {
   "cell_type": "code",
   "execution_count": 43,
   "metadata": {
    "collapsed": false
   },
   "outputs": [
    {
     "data": {
      "text/plain": [
       "<matplotlib.text.Text at 0x1164f0650>"
      ]
     },
     "execution_count": 43,
     "metadata": {},
     "output_type": "execute_result"
    },
    {
     "data": {
      "image/png": "[encoded data removed]",
      "text/plain": [
       "<matplotlib.figure.Figure at 0x10dfc6d50>"
      ]
     },
     "metadata": {},
     "output_type": "display_data"
    }
   ],
   "source": [
    "# plot the learning curve\n",
    "\n",
    "%matplotlib inline\n",
    "import matplotlib.pyplot as plt\n",
    "pd.DataFrame(np.array(average_train_cost_together)).plot(label=\"train together\")\n",
    "plt.xlabel(\"epoch\")\n",
    "plt.ylabel(\"cost\")"
   ]
  },
  {
   "cell_type": "code",
   "execution_count": 44,
   "metadata": {
    "collapsed": false
   },
   "outputs": [
    {
     "name": "stdout",
     "output_type": "stream",
     "text": [
      "(400, 400) (400,) (400,) (676, 400)\n",
      "test encoding error = 6607.68134061\n"
     ]
    }
   ],
   "source": [
    "# test encoding error\n",
    "\n",
    "print(W_final.shape,b_final.shape,b_prime_final.shape,X_test.shape)\n",
    "\n",
    "xhat = (X_test.dot(W_final)+b_final).dot(W_final.T)+b_prime_final\n",
    "\n",
    "print(\"test encoding error =\",np.linalg.norm((xhat - X_test),'fro')**2)"
   ]
  },
  {
   "cell_type": "markdown",
   "metadata": {},
   "source": [
    "Note: We use squared (reconstruction) errors as encoding error"
   ]
  },
  {
   "cell_type": "markdown",
   "metadata": {},
   "source": [
    "## 5) Train two categories individually by picking 80% of the data points. Encode the rest 20% and measure the encoding error."
   ]
  },
  {
   "cell_type": "code",
   "execution_count": 19,
   "metadata": {
    "collapsed": false
   },
   "outputs": [],
   "source": [
    "#animal\n",
    "animal = X[y==0]\n",
    "geo_form = X[y==1]"
   ]
  },
  {
   "cell_type": "code",
   "execution_count": 20,
   "metadata": {
    "collapsed": true
   },
   "outputs": [],
   "source": [
    "del(X_train,X_test,y_train,y_test)"
   ]
  },
  {
   "cell_type": "code",
   "execution_count": 21,
   "metadata": {
    "collapsed": false
   },
   "outputs": [
    {
     "name": "stdout",
     "output_type": "stream",
     "text": [
      "(1256, 400) (315, 400)\n",
      "(1446, 400) (362, 400)\n"
     ]
    }
   ],
   "source": [
    "animal_train, animal_test = cross_validation.train_test_split(animal, test_size=0.2, random_state=0)\n",
    "print(animal_train.shape, animal_test.shape)\n",
    "geo_form_train, geo_form_test = cross_validation.train_test_split(geo_form, test_size=0.2, random_state=0)\n",
    "print(geo_form_train.shape, geo_form_test.shape)"
   ]
  },
  {
   "cell_type": "code",
   "execution_count": 22,
   "metadata": {
    "collapsed": false
   },
   "outputs": [
    {
     "name": "stdout",
     "output_type": "stream",
     "text": [
      "Training epoch 0, cost= 29.2591870366\n",
      "Training epoch 1, cost= 20.5283565744\n",
      "Training epoch 2, cost= 14.7170239462\n",
      "Training epoch 3, cost= 10.2295081674\n",
      "Training epoch 4, cost= 7.1868345704\n",
      "Training epoch 5, cost= 5.10828371965\n",
      "Training epoch 6, cost= 3.72289571817\n",
      "Training epoch 7, cost= 2.90902216931\n",
      "Training epoch 8, cost= 2.25826079935\n",
      "Training epoch 9, cost= 1.81185917306\n",
      "Training epoch 10, cost= 1.48853124385\n",
      "Training epoch 11, cost= 1.23410433997\n",
      "Training epoch 12, cost= 1.06717854321\n",
      "Training epoch 13, cost= 0.953654648458\n",
      "Training epoch 14, cost= 0.874658309642\n",
      "Training epoch 15, cost= 0.81538521777\n",
      "Training epoch 16, cost= 0.776195291619\n",
      "Training epoch 17, cost= 0.749542898991\n",
      "Training epoch 18, cost= 0.727543345622\n",
      "Training epoch 19, cost= 0.716478185358\n"
     ]
    }
   ],
   "source": [
    "###Animal\n",
    "\n",
    "#set minibatch size\n",
    "batch_size=20\n",
    "n_train_batches = int(animal_train.shape[0]) / batch_size\n",
    "\n",
    "# allocate symbolic variables for the data\n",
    "index = T.lscalar()\n",
    "x = T.matrix('x')\n",
    "x_input = theano.shared(animal_train, name = 'x input')\n",
    "\n",
    "rng = np.random.RandomState(19930319)\n",
    "\n",
    "da = KSparseAutoencoder(\n",
    "    numpy_rng=rng,\n",
    "    input=x,\n",
    "    n_visible=animal_train.shape[1],\n",
    "    n_hidden=400,\n",
    "    K=20\n",
    ")\n",
    "\n",
    "cost, updates, xhat, W_out, b_out, b_prime_out = da.get_cost_updates(learning_rate=0.5)\n",
    "\n",
    "train_da = theano.function(\n",
    "    [index],\n",
    "    outputs=[cost,xhat,W_out,b_out,b_prime_out],\n",
    "    updates=updates,\n",
    "    givens={\n",
    "        x: x_input[index*batch_size:(index + 1)*batch_size]\n",
    "    }\n",
    ")\n",
    "\n",
    "# go through training epochs\n",
    "average_train_cost_animal=[]\n",
    "\n",
    "for epoch in range(20):\n",
    "    c = []\n",
    "    # go through trainng set\n",
    "    for batch_index in range(n_train_batches):\n",
    "        output=train_da(batch_index)\n",
    "        c.append(output[0])\n",
    "    print('Training epoch %d, cost=' % epoch, np.mean(c))\n",
    "    average_train_cost_animal.append(np.mean(c))\n",
    "\n",
    "W_final,b_final,b_prime_final = output[2],output[3],output[4]"
   ]
  },
  {
   "cell_type": "code",
   "execution_count": 23,
   "metadata": {
    "collapsed": false
   },
   "outputs": [
    {
     "data": {
      "text/plain": [
       "<matplotlib.text.Text at 0x10aa61110>"
      ]
     },
     "execution_count": 23,
     "metadata": {},
     "output_type": "execute_result"
    },
    {
     "data": {
      "image/png": "[encoded data removed]",
      "text/plain": [
       "<matplotlib.figure.Figure at 0x11628fe90>"
      ]
     },
     "metadata": {},
     "output_type": "display_data"
    }
   ],
   "source": [
    "pd.DataFrame(np.array(average_train_cost_animal)).plot(label=\"train sep-animal\")\n",
    "plt.xlabel(\"epoch\")\n",
    "plt.ylabel(\"cost\")"
   ]
  },
  {
   "cell_type": "code",
   "execution_count": null,
   "metadata": {
    "collapsed": true
   },
   "outputs": [],
   "source": [
    "animal_hat = (animal_test.dot(W_final)+b_final).dot(W_final.T)+b_prime_final - animal_test"
   ]
  },
  {
   "cell_type": "code",
   "execution_count": 38,
   "metadata": {
    "collapsed": false
   },
   "outputs": [
    {
     "name": "stdout",
     "output_type": "stream",
     "text": [
      "animal test encoding error = 3001.32726622\n"
     ]
    }
   ],
   "source": [
    "print(\"animal test encoding error =\",np.linalg.norm(animal_hat,'fro')**2)"
   ]
  },
  {
   "cell_type": "code",
   "execution_count": 26,
   "metadata": {
    "collapsed": false
   },
   "outputs": [
    {
     "name": "stdout",
     "output_type": "stream",
     "text": [
      "Training epoch 0, cost= 38.3197025431\n",
      "Training epoch 1, cost= 26.9824636038\n",
      "Training epoch 2, cost= 18.9207679145\n",
      "Training epoch 3, cost= 12.8353822687\n",
      "Training epoch 4, cost= 8.34898894047\n",
      "Training epoch 5, cost= 5.58823057827\n",
      "Training epoch 6, cost= 4.17471978079\n",
      "Training epoch 7, cost= 3.23722162075\n",
      "Training epoch 8, cost= 2.52410218005\n",
      "Training epoch 9, cost= 1.95312191567\n",
      "Training epoch 10, cost= 1.5563291209\n",
      "Training epoch 11, cost= 1.25860009377\n",
      "Training epoch 12, cost= 1.07261690989\n",
      "Training epoch 13, cost= 0.93935667189\n",
      "Training epoch 14, cost= 0.8575038465\n",
      "Training epoch 15, cost= 0.813206419556\n",
      "Training epoch 16, cost= 0.77674588448\n",
      "Training epoch 17, cost= 0.768639558299\n",
      "Training epoch 18, cost= 0.751062180924\n",
      "Training epoch 19, cost= 0.742083308113\n"
     ]
    }
   ],
   "source": [
    "###geo_form\n",
    "\n",
    "#set minibatch size\n",
    "batch_size=20\n",
    "n_train_batches = int(geo_form_train.shape[0]) / batch_size\n",
    "\n",
    "# allocate symbolic variables for the data\n",
    "index = T.lscalar()\n",
    "x = T.matrix('x')\n",
    "x_input = theano.shared(geo_form_train, name = 'x input')\n",
    "\n",
    "rng = np.random.RandomState(19930319)\n",
    "\n",
    "da = KSparseAutoencoder(\n",
    "    numpy_rng=rng,\n",
    "    input=x,\n",
    "    n_visible=geo_form_train.shape[1],\n",
    "    n_hidden=400,\n",
    "    K=20\n",
    ")\n",
    "\n",
    "cost, updates, xhat, W_out, b_out, b_prime_out = da.get_cost_updates(learning_rate=0.5)\n",
    "\n",
    "train_da = theano.function(\n",
    "    [index],\n",
    "    outputs=[cost,xhat,W_out,b_out,b_prime_out],\n",
    "    updates=updates,\n",
    "    givens={\n",
    "        x: x_input[index*batch_size:(index + 1)*batch_size]\n",
    "    }\n",
    ")\n",
    "\n",
    "# go through training epochs\n",
    "average_train_cost_geo=[]\n",
    "\n",
    "for epoch in range(20):\n",
    "    c = []\n",
    "    # go through trainng set\n",
    "    for batch_index in range(n_train_batches):\n",
    "        output=train_da(batch_index)\n",
    "        c.append(output[0])\n",
    "    print('Training epoch %d, cost=' % epoch, np.mean(c))\n",
    "    average_train_cost_geo.append(np.mean(c))\n",
    "\n",
    "W_final,b_final,b_prime_final = output[2],output[3],output[4]"
   ]
  },
  {
   "cell_type": "code",
   "execution_count": 28,
   "metadata": {
    "collapsed": false
   },
   "outputs": [
    {
     "data": {
      "text/plain": [
       "<matplotlib.text.Text at 0x118c5c210>"
      ]
     },
     "execution_count": 28,
     "metadata": {},
     "output_type": "execute_result"
    },
    {
     "data": {
      "image/png": "[encoded data removed]",
      "text/plain": [
       "<matplotlib.figure.Figure at 0x10839ab10>"
      ]
     },
     "metadata": {},
     "output_type": "display_data"
    }
   ],
   "source": [
    "pd.DataFrame(np.array(average_train_cost_geo)).plot(label=\"train sep-geo\")\n",
    "plt.xlabel(\"epoch\")\n",
    "plt.ylabel(\"cost\")"
   ]
  },
  {
   "cell_type": "code",
   "execution_count": 36,
   "metadata": {
    "collapsed": false
   },
   "outputs": [
    {
     "name": "stdout",
     "output_type": "stream",
     "text": [
      "geo_form test encoding error = 3348.78222032\n"
     ]
    }
   ],
   "source": [
    "geo_hat = ((geo_form_test.dot(W_final)+b_final).dot(W_final.T)+b_prime_final - geo_form_test)\n",
    "print(\"geo_form test encoding error =\",np.linalg.norm(geo_hat,'fro')**2)"
   ]
  },
  {
   "cell_type": "markdown",
   "metadata": {},
   "source": [
    "### Compare:\n",
    "\n",
    "We can see that if train together, the test encoding error is 6607.68134061,\n",
    "however, if train seperately, the test encoding errors are respectively 3001.32726622 and 3348.78222032\n",
    "\n",
    "So, if train together, the average test encoding error is 9.774676539363906\n",
    "if train seperately, the average test encoding error is 9.379777675834564\n",
    "\n",
    "They are very close. So I would say sparse autoencoder manages to avoid confusion between them"
   ]
  },
  {
   "cell_type": "markdown",
   "metadata": {},
   "source": [
    "# 6) Compare the sparse dictionaries from the 2 methods and state which one manages to avoid confusion between them"
   ]
  },
  {
   "cell_type": "markdown",
   "metadata": {},
   "source": []
  }
 ],
 "metadata": {
  "celltoolbar": "Edit Metadata",
  "kernelspec": {
   "display_name": "Python 2",
   "language": "python",
   "name": "python2"
  },
  "language_info": {
   "codemirror_mode": {
    "name": "ipython",
    "version": 2
   },
   "file_extension": ".py",
   "mimetype": "text/x-python",
   "name": "python",
   "nbconvert_exporter": "python",
   "pygments_lexer": "ipython2",
   "version": "2.7.11"
  }
 },
 "nbformat": 4,
 "nbformat_minor": 0
}
