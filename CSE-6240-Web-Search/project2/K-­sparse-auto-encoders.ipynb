{
 "cells": [
  {
   "cell_type": "code",
   "execution_count": 25,
   "metadata": {
    "collapsed": false
   },
   "outputs": [],
   "source": [
    "from __future__ import print_function\n",
    "import os\n",
    "import re\n",
    "from PIL import Image\n",
    "import numpy as np\n",
    "\n",
    "import sys\n",
    "sys.path.append('/Users/jiajiechen/Desktop/project2-CSE6240/code')\n",
    "import image_parser\n",
    "\n",
    "import pandas as pd\n",
    "import theano as th\n",
    "import time"
   ]
  },
  {
   "cell_type": "code",
   "execution_count": null,
   "metadata": {
    "collapsed": true
   },
   "outputs": [],
   "source": [
    "# from matplotlib import pyplot as plt\n",
    "# %matplotlib inline\n",
    "\n",
    "# from sklearn.neighbors import KNeighborsClassifier\n",
    "# from sklearn.metrics import confusion_matrix\n",
    "# from CSE6240_utilities import plot_confusion_matrix\n",
    "# import matplotlib.pylab as pylab\n",
    "\n",
    "# from scipy.stats import pearsonr"
   ]
  },
  {
   "cell_type": "code",
   "execution_count": 14,
   "metadata": {
    "collapsed": false
   },
   "outputs": [],
   "source": [
    "datapath=\"/Users/jiajiechen/Desktop/project2-CSE6240/Data\""
   ]
  },
  {
   "cell_type": "code",
   "execution_count": 15,
   "metadata": {
    "collapsed": true
   },
   "outputs": [],
   "source": [
    "animals=image_parser(folder=\"01-Animal\",datapath=datapath,\n",
    "                     verbose=False,min_rows=64,min_cols=64)"
   ]
  },
  {
   "cell_type": "code",
   "execution_count": 16,
   "metadata": {
    "collapsed": false
   },
   "outputs": [],
   "source": [
    "animals.read()"
   ]
  },
  {
   "cell_type": "code",
   "execution_count": 17,
   "metadata": {
    "collapsed": false
   },
   "outputs": [
    {
     "data": {
      "text/plain": [
       "(1571, 4096)"
      ]
     },
     "execution_count": 17,
     "metadata": {},
     "output_type": "execute_result"
    }
   ],
   "source": [
    "animals.images.shape"
   ]
  },
  {
   "cell_type": "code",
   "execution_count": 60,
   "metadata": {
    "collapsed": false
   },
   "outputs": [],
   "source": [
    "class k_Sparse_AutoEncoder(object):\n",
    "    \"\"\"a very simple structure of autoencoder,\n",
    "    from internet, modified it so as to make\n",
    "    it k_sparse_autoencoder\n",
    "\n",
    "    @author: Jiajie Chen\n",
    "    @date: apr2, 2016\"\"\"\n",
    "    def __init__(self, X, k):\n",
    "        assert type(X) is np.ndarray\n",
    "        assert len(X.shape)==2\n",
    "        assert type(k) is int\n",
    "        self.X=X\n",
    "        self.n=X.shape[1]\n",
    "        self.m=X.shape[0]\n",
    "        self.k=k\n",
    "        self.W=np.asarray(np.random.uniform(\n",
    "                          low = -4 * np.sqrt(6. / self.n),\n",
    "                          high = 4 * np.sqrt(6. / self.n),\n",
    "                          size = (self.n, self.n)), dtype=np.float)\n",
    "        \n",
    "        self.b1=np.zeros(shape=(self.n,),\n",
    "                         dtype=np.float)\n",
    "        self.b2=np.zeros(shape=(self.n,),\n",
    "                         dtype=np.float)\n",
    "    \n",
    "    def cost_entropy(self):\n",
    "        pass\n",
    "    \n",
    "    def gradient(self):\n",
    "        pass\n",
    "    \n",
    "    def train(self, n_epochs = 100, mini_batch_size=1, learning_rate=0.1):\n",
    "        hidden = self.X.dot(self.W)+self.b1\n",
    "#         hidden = np.select(condlist, choicelist)\n",
    "        # add a line that enforce the sparsity\n",
    "\n",
    "        output = hidden.dot(self.W.T)+self.b2\n",
    "#         output = self.output_function(output)\n",
    "        return hidden, output"
   ]
  },
  {
   "cell_type": "code",
   "execution_count": 61,
   "metadata": {
    "collapsed": false
   },
   "outputs": [],
   "source": [
    "test = k_Sparse_AutoEncoder(animals.images,k=20)"
   ]
  },
  {
   "cell_type": "code",
   "execution_count": 62,
   "metadata": {
    "collapsed": false
   },
   "outputs": [],
   "source": [
    "r = test.train()"
   ]
  },
  {
   "cell_type": "code",
   "execution_count": 64,
   "metadata": {
    "collapsed": false
   },
   "outputs": [
    {
     "data": {
      "text/plain": [
       "array([[  1.65226322e-314,  -2.37188701e-314,   3.64444669e-314, ...,\n",
       "         -2.12909663e-315,  -1.30693477e-314,  -1.64014014e-314],\n",
       "       [  4.65110428e+002,  -4.91916970e+002,   1.03897518e+003, ...,\n",
       "         -6.70013049e+002,  -5.19838529e+002,   9.46230531e+002],\n",
       "       [ -3.80567603e+001,  -5.09111367e+002,   8.40439784e+002, ...,\n",
       "         -4.09503217e+002,  -2.44249114e+002,   3.85226575e+002],\n",
       "       ..., \n",
       "       [  4.54048814e+002,  -4.56073306e+002,   1.59737711e+003, ...,\n",
       "         -4.72450608e+002,  -8.58209631e+001,   1.24722399e+003],\n",
       "       [ -1.90881343e+002,  -2.17459876e+002,   1.58174553e+003, ...,\n",
       "          1.02326060e+002,  -6.73338500e+002,   1.37163547e+003],\n",
       "       [  4.14053510e+001,  -4.60429557e+002,   1.23708603e+003, ...,\n",
       "         -7.36046941e+002,   8.28162751e+001,   5.50516459e+002]])"
      ]
     },
     "execution_count": 64,
     "metadata": {},
     "output_type": "execute_result"
    }
   ],
   "source": [
    "r[0]"
   ]
  },
  {
   "cell_type": "code",
   "execution_count": 65,
   "metadata": {
    "collapsed": false
   },
   "outputs": [
    {
     "data": {
      "text/plain": [
       "array([[  1.81705014e-313,   2.13480602e-313,  -2.31688421e-314, ...,\n",
       "         -7.95122768e-314,   6.39486512e-313,   8.50238495e-313],\n",
       "       [  5.05013904e+003,   6.39312021e+003,   3.15588407e+003, ...,\n",
       "         -7.71529679e+002,   2.22945313e+003,   3.42717003e+003],\n",
       "       [  6.94107407e+003,   8.29674733e+003,   5.81949637e+003, ...,\n",
       "         -1.52562770e+003,   4.64764227e+003,   4.62435972e+003],\n",
       "       ..., \n",
       "       [  7.97487080e+003,   8.67974764e+003,   6.07960424e+003, ...,\n",
       "         -1.06184374e+003,   4.51436737e+003,   5.48421254e+003],\n",
       "       [  4.42629599e+003,   2.65308202e+003,   2.48362833e+003, ...,\n",
       "         -7.94470887e+002,   8.92205484e+003,   6.95463002e+003],\n",
       "       [  5.42557615e+003,   5.32243237e+003,  -1.85843219e+002, ...,\n",
       "         -3.26617653e+003,   5.70596437e+003,   9.28291704e+003]])"
      ]
     },
     "execution_count": 65,
     "metadata": {},
     "output_type": "execute_result"
    }
   ],
   "source": [
    "r[1]"
   ]
  },
  {
   "cell_type": "code",
   "execution_count": 7,
   "metadata": {
    "collapsed": false
   },
   "outputs": [],
   "source": [
    "class k_Sparse_AutoEncoder(object):\n",
    "    \"\"\"a very simple structure of autoencoder,\n",
    "       from internet, modified it so as to make\n",
    "       it k_sparse_autoencoder\n",
    "       \n",
    "       @author: Jiajie Chen\n",
    "       @date: apr2, 2016\"\"\"\n",
    "    def __init__(self, X, hidden_size, activation_function,\n",
    "                 output_function):\n",
    "\n",
    "        #X is the data, an m x n numpy matrix\n",
    "        assert type(X) is np.ndarray\n",
    "        assert len(X.shape)==2\n",
    "        self.X=X\n",
    "        self.X=th.shared(name='X', value=np.asarray(self.X, \n",
    "                         dtype=th.config.floatX),borrow=True)\n",
    "        #The config.floatX and borrow=True stuff is to get this to run\n",
    "        #fast on the gpu.\n",
    "\n",
    "        self.n = X.shape[1]\n",
    "        self.m = X.shape[0]\n",
    "        #Hidden_size is the number of neurons in the hidden layer, an int.\n",
    "        assert type(hidden_size) is int\n",
    "        assert hidden_size > 0\n",
    "        \n",
    "        self.hidden_size = hidden_size\n",
    "        \n",
    "        initial_W = np.asarray(np.random.uniform(\n",
    "                 low = -4 * np.sqrt(6. / (self.hidden_size + self.n)),\n",
    "                 high = 4 * np.sqrt(6. / (self.hidden_size + self.n)),\n",
    "                 size = (self.n, self.hidden_size)), dtype=th.config.floatX)\n",
    "        self.W = th.shared(value=initial_W, name='W', borrow=True)\n",
    "        \n",
    "        self.b1 = th.shared(name='b1', value=np.zeros(shape=(self.hidden_size,),\n",
    "                            dtype=th.config.floatX),borrow=True)\n",
    "        self.b2 = th.shared(name='b2', value=np.zeros(shape=(self.n,),\n",
    "                            dtype=th.config.floatX),borrow=True)\n",
    "        \n",
    "        self.activation_function=activation_function\n",
    "        self.output_function=output_function\n",
    "                     \n",
    "    def train(self, n_epochs = 100, mini_batch_size=1, learning_rate=0.1):\n",
    "        index = th.tensor.lscalar()\n",
    "        x = th.tensor.matrix('x')\n",
    "        params = [self.W, self.b1, self.b2]\n",
    "        hidden = self.activation_function(th.tensor.dot(x, self.W)+self.b1)\n",
    "        hidden = np.select(condlist, choicelist)\n",
    "        output = th.tensor.dot(hidden,th.tensor.transpose(self.W))+self.b2\n",
    "        output = self.output_function(output)\n",
    "         \n",
    "        #Use cross-entropy loss.\n",
    "        L = -th.tensor.sum(x*th.tensor.log(output) + (1-x)*th.tensor.log(1-output), axis=1)\n",
    "        cost=L.mean()       \n",
    "        updates=[]\n",
    "         \n",
    "        #Return gradient with respect to W, b1, b2.\n",
    "        gparams = th.tensor.grad(cost,params)\n",
    "         \n",
    "        #Create a list of 2 tuples for updates.\n",
    "        for param, gparam in zip(params, gparams):\n",
    "            updates.append((param, param-learning_rate*gparam))\n",
    "         \n",
    "        #Train given a mini-batch of the data.\n",
    "        train = th.function(inputs=[index], outputs=[cost], updates=updates,\n",
    "                            givens={x:self.X[index:index + mini_batch_size,:]})\n",
    "\n",
    "        start_time = time.time()\n",
    "        for epoch in xrange(n_epochs):\n",
    "            print(\"Epoch:\",epoch)\n",
    "            for row in xrange(0,self.m, mini_batch_size):\n",
    "                train(row)\n",
    "        end_time = time.time()\n",
    "        print(\"Average time per epoch=\", (end_time-start_time)/n_epochs)\n",
    "                    \n",
    "    def get_hidden(self,data):\n",
    "        x = th.tensor.dmatrix('x')\n",
    "        hidden = self.activation_function(th.tensor.dot(x,self.W)+self.b1)\n",
    "        transformed_data = th.function(inputs=[x], outputs=[hidden])\n",
    "        return transformed_data(data)\n",
    "     \n",
    "    def get_weights(self):\n",
    "        return [self.W.get_value(), self.b1.get_value(), self.b2.get_value()]"
   ]
  },
  {
   "cell_type": "code",
   "execution_count": 9,
   "metadata": {
    "collapsed": false
   },
   "outputs": [],
   "source": [
    "activation_function=th.tensor.nnet.sigmoid\n",
    "output_function=activation_function\n",
    "\n",
    "ksA = A = k_Sparse_AutoEncoder(animals.images,20,\n",
    "                               activation_function,output_function)"
   ]
  },
  {
   "cell_type": "code",
   "execution_count": 35,
   "metadata": {
    "collapsed": false
   },
   "outputs": [
    {
     "data": {
      "text/plain": [
       "dot.0"
      ]
     },
     "execution_count": 35,
     "metadata": {},
     "output_type": "execute_result"
    }
   ],
   "source": [
    "th.tensor.dot(ksA.X, ksA.W)"
   ]
  },
  {
   "cell_type": "code",
   "execution_count": 31,
   "metadata": {
    "collapsed": false
   },
   "outputs": [
    {
     "data": {
      "text/plain": [
       "ultra_fast_sigmoid.0"
      ]
     },
     "execution_count": 31,
     "metadata": {},
     "output_type": "execute_result"
    }
   ],
   "source": [
    "th.tensor.nnet.ultra_fast_sigmoid(th.tensor.dot(ksA.X, ksA.W)+ksA.b1)"
   ]
  },
  {
   "cell_type": "code",
   "execution_count": 63,
   "metadata": {
    "collapsed": true
   },
   "outputs": [],
   "source": [
    "animals.images = animals.images / 255.0"
   ]
  },
  {
   "cell_type": "code",
   "execution_count": 64,
   "metadata": {
    "collapsed": false
   },
   "outputs": [
    {
     "name": "stdout",
     "output_type": "stream",
     "text": [
      "Epoch: 0\n",
      "Epoch: 1\n",
      "Average time per epoch= 0.406615972519\n",
      "[[ nan  nan  nan ...,  nan  nan  nan]\n",
      " [ nan  nan  nan ...,  nan  nan  nan]\n",
      " [ nan  nan  nan ...,  nan  nan  nan]\n",
      " ..., \n",
      " [ nan  nan  nan ...,  nan  nan  nan]\n",
      " [ nan  nan  nan ...,  nan  nan  nan]\n",
      " [ nan  nan  nan ...,  nan  nan  nan]]\n"
     ]
    }
   ],
   "source": [
    "activation_function=th.tensor.nnet.sigmoid\n",
    "output_function=activation_function\n",
    "A = k_Sparse_AutoEncoder(animals.images,20,\n",
    "                         activation_function,output_function)\n",
    "A.train(n_epochs=2, mini_batch_size=20) # with 1000 hidden units for 20 epochs with minibatch size of 20\n",
    "W = np.transpose(A.get_weights()[0])\n",
    "\n",
    "\n",
    "print(A.get_hidden(animals.images)[0])"
   ]
  },
  {
   "cell_type": "code",
   "execution_count": null,
   "metadata": {
    "collapsed": true
   },
   "outputs": [],
   "source": [
    "# # you may change the folders' name to your customization\n",
    "# images = []\n",
    "# image_names = []\n",
    "\n",
    "# images, image_names = readImg(\"01-Animal\", images, image_names, 0)\n",
    "# images, image_names = readImg(\"02-Fungus\", images, image_names, 1)\n",
    "# images, image_names = readImg(\"03-Geological Formation\", images, image_names, 2)\n",
    "# images, image_names = readImg(\"04-Person\", images, image_names, 3)\n",
    "# images, image_names = readImg(\"05-Plant, flora, plant life\", images, image_names, 4)\n",
    "# images, image_names = readImg(\"06-Sport\", images, image_names, 5)"
   ]
  }
 ],
 "metadata": {
  "kernelspec": {
   "display_name": "Python 2",
   "language": "python",
   "name": "python2"
  },
  "language_info": {
   "codemirror_mode": {
    "name": "ipython",
    "version": 2
   },
   "file_extension": ".py",
   "mimetype": "text/x-python",
   "name": "python",
   "nbconvert_exporter": "python",
   "pygments_lexer": "ipython2",
   "version": "2.7.11"
  }
 },
 "nbformat": 4,
 "nbformat_minor": 0
}
